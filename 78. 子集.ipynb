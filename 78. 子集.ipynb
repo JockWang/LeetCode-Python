{
 "cells": [
  {
   "cell_type": "code",
   "execution_count": 4,
   "metadata": {},
   "outputs": [
    {
     "data": {
      "text/plain": [
       "[[], [3]]"
      ]
     },
     "execution_count": 4,
     "metadata": {},
     "output_type": "execute_result"
    }
   ],
   "source": [
    "class Solution:\n",
    "    def subsets(self, nums: [int]) -> [[int]]:\n",
    "        def backtrack(local=0,curr=[]):\n",
    "            out.append(curr[:])\n",
    "            for i in range(local,len(nums)):\n",
    "                curr.append(nums[i])\n",
    "                backtrack(i+1,curr)\n",
    "                curr.pop()\n",
    "        out = []\n",
    "        backtrack()\n",
    "        return out\n",
    "s = Solution()\n",
    "s.subsets([3])"
   ]
  },
  {
   "cell_type": "code",
   "execution_count": 23,
   "metadata": {},
   "outputs": [
    {
     "name": "stdout",
     "output_type": "stream",
     "text": [
      "0   0\n",
      "0   0\n",
      "1   1\n",
      "1   0\n",
      "2   2\n",
      "2   1\n",
      "3   3\n",
      "3   1\n"
     ]
    },
    {
     "data": {
      "text/plain": [
       "[[], [1], [2], [1, 2]]"
      ]
     },
     "execution_count": 23,
     "metadata": {},
     "output_type": "execute_result"
    }
   ],
   "source": [
    "class Solution:\n",
    "    def subsets(self, nums: [int]) -> [[int]]:\n",
    "        n = 1 << len(nums)\n",
    "        out = []\n",
    "        for i in range(n):\n",
    "            curr = []\n",
    "            for j in range(len(nums)):\n",
    "                if i >> j & 1:\n",
    "                    curr.append(nums[j])\n",
    "            out.append(curr[:])\n",
    "        return out\n",
    "s = Solution()\n",
    "s.subsets([1,2])"
   ]
  },
  {
   "cell_type": "code",
   "execution_count": null,
   "metadata": {},
   "outputs": [],
   "source": []
  },
  {
   "cell_type": "code",
   "execution_count": null,
   "metadata": {},
   "outputs": [],
   "source": []
  }
 ],
 "metadata": {
  "kernelspec": {
   "display_name": "Python 3",
   "language": "python",
   "name": "python3"
  },
  "language_info": {
   "codemirror_mode": {
    "name": "ipython",
    "version": 3
   },
   "file_extension": ".py",
   "mimetype": "text/x-python",
   "name": "python",
   "nbconvert_exporter": "python",
   "pygments_lexer": "ipython3",
   "version": "3.6.0"
  }
 },
 "nbformat": 4,
 "nbformat_minor": 2
}
