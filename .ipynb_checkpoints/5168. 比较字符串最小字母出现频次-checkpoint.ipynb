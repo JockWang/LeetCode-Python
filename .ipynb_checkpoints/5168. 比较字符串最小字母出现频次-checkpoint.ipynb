{
 "cells": [
  {
   "cell_type": "code",
   "execution_count": 13,
   "metadata": {},
   "outputs": [
    {
     "name": "stdout",
     "output_type": "stream",
     "text": [
      "[3]\n",
      "1\n"
     ]
    },
    {
     "data": {
      "text/plain": [
       "[0]"
      ]
     },
     "execution_count": 13,
     "metadata": {},
     "output_type": "execute_result"
    }
   ],
   "source": [
    "class Solution:\n",
    "    def numSmallerByFrequency(self, queries: [str], words: [str]) -> [int]:\n",
    "        word = []\n",
    "        result = []\n",
    "        for w in words:\n",
    "            word.append(self.countMin(w))\n",
    "        for q in queries:\n",
    "            num = self.countMin(q)\n",
    "            print(num)\n",
    "            count = 0\n",
    "            for i in range(len(word)):\n",
    "                if word[i] > num:\n",
    "                    count += 1\n",
    "            result.append(count)\n",
    "        return result\n",
    "            \n",
    "    def countMin(self,w):\n",
    "        dic = {'a':1,'b':2,'c':3,'d':4,'e':5,'f':6,'g':7,'h':8,'i':9,'j':10,'k':11,'l':12,'m':13,'n':14,'o':15,'p':16,'q':17,'r':18,'s':19,'t':20,'u':21,'v':22,'w':23,'x':24,'y':25,'z':26}\n",
    "        min_ = 27\n",
    "        temp = ''\n",
    "        for i in w:\n",
    "            if dic[i] < min_:\n",
    "                min_ = dic[i]\n",
    "                temp = i\n",
    "        return w.count(temp)\n",
    "    \n",
    "s = Solution()\n",
    "s.numSmallerByFrequency([\"cbd\"],[\"zaaaz\"])"
   ]
  },
  {
   "cell_type": "code",
   "execution_count": null,
   "metadata": {},
   "outputs": [],
   "source": []
  }
 ],
 "metadata": {
  "kernelspec": {
   "display_name": "Python 3",
   "language": "python",
   "name": "python3"
  },
  "language_info": {
   "codemirror_mode": {
    "name": "ipython",
    "version": 3
   },
   "file_extension": ".py",
   "mimetype": "text/x-python",
   "name": "python",
   "nbconvert_exporter": "python",
   "pygments_lexer": "ipython3",
   "version": "3.6.0"
  },
  "toc": {
   "base_numbering": 1,
   "nav_menu": {},
   "number_sections": true,
   "sideBar": true,
   "skip_h1_title": false,
   "title_cell": "Table of Contents",
   "title_sidebar": "Contents",
   "toc_cell": false,
   "toc_position": {},
   "toc_section_display": true,
   "toc_window_display": false
  }
 },
 "nbformat": 4,
 "nbformat_minor": 2
}
