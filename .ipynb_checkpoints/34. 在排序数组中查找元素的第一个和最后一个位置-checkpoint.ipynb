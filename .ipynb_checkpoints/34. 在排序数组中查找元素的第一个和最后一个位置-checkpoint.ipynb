{
 "cells": [
  {
   "cell_type": "code",
   "execution_count": 20,
   "metadata": {},
   "outputs": [
    {
     "data": {
      "text/plain": [
       "[3, 4]"
      ]
     },
     "execution_count": 20,
     "metadata": {},
     "output_type": "execute_result"
    }
   ],
   "source": [
    "class Solution:\n",
    "    def searchRange(self, nums: [int], target: int) -> [int]:\n",
    "        result = [-1,-1]\n",
    "        if len(nums) != 0\n",
    "            left = 0\n",
    "            right = len(nums)-1\n",
    "            while left <= right:\n",
    "                point = left + (right-left)//2\n",
    "                if nums[point] == target:\n",
    "                    result = [point,point]\n",
    "                    ltemp = point\n",
    "                    while ltemp-1 >= left and nums[ltemp-1] == target:\n",
    "                        ltemp -= 1\n",
    "                    rtemp = point\n",
    "                    while rtemp+1 <= right and nums[rtemp+1] == target:\n",
    "                        rtemp += 1\n",
    "                    result = [ltemp,rtemp]\n",
    "                    return result\n",
    "                elif nums[point] > target:\n",
    "                    right = point-1\n",
    "                else:\n",
    "                    left = point+1\n",
    "        return result\n",
    "    \n",
    "s = Solution()\n",
    "s.searchRange([5,7,7,8,8,10],8)"
   ]
  },
  {
   "cell_type": "code",
   "execution_count": null,
   "metadata": {},
   "outputs": [],
   "source": []
  }
 ],
 "metadata": {
  "kernelspec": {
   "display_name": "Python 3",
   "language": "python",
   "name": "python3"
  },
  "language_info": {
   "codemirror_mode": {
    "name": "ipython",
    "version": 3
   },
   "file_extension": ".py",
   "mimetype": "text/x-python",
   "name": "python",
   "nbconvert_exporter": "python",
   "pygments_lexer": "ipython3",
   "version": "3.6.0"
  },
  "toc": {
   "base_numbering": 1,
   "nav_menu": {},
   "number_sections": true,
   "sideBar": true,
   "skip_h1_title": false,
   "title_cell": "Table of Contents",
   "title_sidebar": "Contents",
   "toc_cell": false,
   "toc_position": {},
   "toc_section_display": true,
   "toc_window_display": false
  }
 },
 "nbformat": 4,
 "nbformat_minor": 2
}
