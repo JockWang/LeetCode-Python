{
 "cells": [
  {
   "cell_type": "code",
   "execution_count": 8,
   "metadata": {},
   "outputs": [
    {
     "name": "stdout",
     "output_type": "stream",
     "text": [
      "[0, 1, 1]\n"
     ]
    }
   ],
   "source": [
    "class Solution:\n",
    "    def nextPermutation(self, nums: [int]) -> None:\n",
    "        \"\"\"\n",
    "        Do not return anything, modify nums in-place instead.\n",
    "        \"\"\"\n",
    "        flag = False\n",
    "        for i in range(len(nums)-2,-1,-1):\n",
    "            if nums[i+1] > nums[i]:\n",
    "                temp = i\n",
    "                for j in range(i+1,len(nums)):\n",
    "                    if nums[j] > nums[i]:\n",
    "                        temp = j\n",
    "                    else:\n",
    "                        break\n",
    "                number = nums[i]\n",
    "                nums[i] = nums[temp]\n",
    "                nums[temp] = number\n",
    "                \n",
    "                flag = True\n",
    "                break\n",
    "        if not flag:\n",
    "            temp = nums[0]\n",
    "            nums[0] = nums[-1]\n",
    "            nums[-1] = temp\n",
    "        print(nums)\n",
    "    \n",
    "s = Solution()\n",
    "s.nextPermutation([1,1,0])"
   ]
  },
  {
   "cell_type": "code",
   "execution_count": null,
   "metadata": {},
   "outputs": [],
   "source": []
  }
 ],
 "metadata": {
  "kernelspec": {
   "display_name": "Python 3",
   "language": "python",
   "name": "python3"
  },
  "language_info": {
   "codemirror_mode": {
    "name": "ipython",
    "version": 3
   },
   "file_extension": ".py",
   "mimetype": "text/x-python",
   "name": "python",
   "nbconvert_exporter": "python",
   "pygments_lexer": "ipython3",
   "version": "3.6.8"
  },
  "toc": {
   "base_numbering": 1,
   "nav_menu": {},
   "number_sections": true,
   "sideBar": true,
   "skip_h1_title": false,
   "title_cell": "Table of Contents",
   "title_sidebar": "Contents",
   "toc_cell": false,
   "toc_position": {},
   "toc_section_display": true,
   "toc_window_display": false
  }
 },
 "nbformat": 4,
 "nbformat_minor": 2
}
