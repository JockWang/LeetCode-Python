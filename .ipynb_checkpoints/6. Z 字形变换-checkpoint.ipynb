{
 "cells": [
  {
   "cell_type": "code",
   "execution_count": 46,
   "metadata": {},
   "outputs": [],
   "source": [
    "class Solution:\n",
    "    def convert(self, s: str, numRows: int) -> str:\n",
    "        if numRows == 1:\n",
    "            return s\n",
    "        col = (numRows-1)*int((len(s)/(2*numRows-2))+1)\n",
    "        arr = [[0 for _ in range(col)] for j in range(numRows)]\n",
    "        position = 0\n",
    "        for i in range(col):\n",
    "            if i % (numRows-1) == 0:\n",
    "                for j in range(numRows):\n",
    "                    if position < len(s):\n",
    "                        arr[j][i] = s[position]\n",
    "                        position += 1\n",
    "            else:\n",
    "                if position < len(s):\n",
    "                    arr[numRows-i % (numRows-1)-1][i] = s[position]\n",
    "                    position += 1\n",
    "        res = ''\n",
    "        for i in range(len(arr)):\n",
    "            for j in range(len(arr[i])):\n",
    "                if arr[i][j] != 0:\n",
    "                    res += arr[i][j]\n",
    "        return res"
   ]
  },
  {
   "cell_type": "code",
   "execution_count": 48,
   "metadata": {},
   "outputs": [
    {
     "data": {
      "text/plain": [
       "''"
      ]
     },
     "execution_count": 48,
     "metadata": {},
     "output_type": "execute_result"
    }
   ],
   "source": [
    "s = Solution()\n",
    "s.convert('',4)"
   ]
  },
  {
   "cell_type": "code",
   "execution_count": null,
   "metadata": {},
   "outputs": [],
   "source": []
  },
  {
   "cell_type": "code",
   "execution_count": null,
   "metadata": {},
   "outputs": [],
   "source": []
  }
 ],
 "metadata": {
  "kernelspec": {
   "display_name": "Python 3",
   "language": "python",
   "name": "python3"
  },
  "language_info": {
   "codemirror_mode": {
    "name": "ipython",
    "version": 3
   },
   "file_extension": ".py",
   "mimetype": "text/x-python",
   "name": "python",
   "nbconvert_exporter": "python",
   "pygments_lexer": "ipython3",
   "version": "3.6.8"
  },
  "toc": {
   "base_numbering": 1,
   "nav_menu": {},
   "number_sections": true,
   "sideBar": true,
   "skip_h1_title": false,
   "title_cell": "Table of Contents",
   "title_sidebar": "Contents",
   "toc_cell": false,
   "toc_position": {},
   "toc_section_display": true,
   "toc_window_display": false
  }
 },
 "nbformat": 4,
 "nbformat_minor": 2
}
