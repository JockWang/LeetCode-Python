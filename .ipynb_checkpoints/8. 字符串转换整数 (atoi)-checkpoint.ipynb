{
 "cells": [
  {
   "cell_type": "code",
   "execution_count": 21,
   "metadata": {},
   "outputs": [
    {
     "data": {
      "text/plain": [
       "2147483647"
      ]
     },
     "execution_count": 21,
     "metadata": {},
     "output_type": "execute_result"
    }
   ],
   "source": [
    "class Solution:\n",
    "    def myAtoi(self, str: str) -> int:\n",
    "        s = str.strip()\n",
    "        temp = ''\n",
    "        if len(s) == 0:\n",
    "            return 0\n",
    "        if s[0].isdigit():\n",
    "            for i in range(len(s)):\n",
    "                if s[i].isdigit():\n",
    "                    temp += s[i]\n",
    "                else:\n",
    "                    break\n",
    "        elif s[0] == '-' or s[0] == '+':\n",
    "            temp += s[0]\n",
    "            for i in range(1,len(s)):\n",
    "                if s[i].isdigit():\n",
    "                    temp += s[i]\n",
    "                else:\n",
    "                    break\n",
    "        else:\n",
    "            return 0\n",
    "        if temp == '-' or temp == '+':\n",
    "            return 0\n",
    "        else:\n",
    "            temp = int(temp)\n",
    "        if temp > 2**31-1:\n",
    "            return 2**31-1\n",
    "        elif temp < -2**31:\n",
    "            return -2**31\n",
    "        else:\n",
    "            return temp\n",
    "        \n",
    "s = Solution()\n",
    "s.myAtoi('2147483648')"
   ]
  },
  {
   "cell_type": "code",
   "execution_count": null,
   "metadata": {},
   "outputs": [],
   "source": []
  }
 ],
 "metadata": {
  "kernelspec": {
   "display_name": "Python 3",
   "language": "python",
   "name": "python3"
  },
  "language_info": {
   "codemirror_mode": {
    "name": "ipython",
    "version": 3
   },
   "file_extension": ".py",
   "mimetype": "text/x-python",
   "name": "python",
   "nbconvert_exporter": "python",
   "pygments_lexer": "ipython3",
   "version": "3.6.8"
  },
  "toc": {
   "base_numbering": 1,
   "nav_menu": {},
   "number_sections": true,
   "sideBar": true,
   "skip_h1_title": false,
   "title_cell": "Table of Contents",
   "title_sidebar": "Contents",
   "toc_cell": false,
   "toc_position": {},
   "toc_section_display": true,
   "toc_window_display": false
  }
 },
 "nbformat": 4,
 "nbformat_minor": 2
}
