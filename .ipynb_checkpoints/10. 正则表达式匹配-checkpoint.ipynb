{
 "cells": [
  {
   "cell_type": "code",
   "execution_count": 18,
   "metadata": {},
   "outputs": [
    {
     "name": "stdout",
     "output_type": "stream",
     "text": [
      "a..\n",
      "a..*\n"
     ]
    }
   ],
   "source": [
    "class Solution:\n",
    "    def isMatch(self, s: str, p: str) -> bool:\n",
    "        if s != '' and p == '':\n",
    "            return False\n",
    "        if s == '' and p == '':\n",
    "            return True\n",
    "        if len(p) != 0 and p[0] == '*':\n",
    "            return self.isMatch(s,p[1:])\n",
    "        for i in range(len(s)):\n",
    "            local = p.find(s[:i])+len(s[:i])\n",
    "            if s[:i] not in p:\n",
    "                print(local)\n",
    "        true = ''\n",
    "        mask = ''\n",
    "        for i in range(len(p)):\n",
    "            if p[i] == '*':\n",
    "                true += p[i-1]\n",
    "                mask += p[i-1]+'*'\n",
    "            else:\n",
    "                true += p[i]\n",
    "                mask += p[i]\n",
    "        local = 0\n",
    "        print(true)\n",
    "        print(mask)\n",
    "s = Solution()\n",
    "s.isMatch('aa','a.*')"
   ]
  },
  {
   "cell_type": "code",
   "execution_count": null,
   "metadata": {},
   "outputs": [],
   "source": []
  }
 ],
 "metadata": {
  "kernelspec": {
   "display_name": "Python 3",
   "language": "python",
   "name": "python3"
  },
  "language_info": {
   "codemirror_mode": {
    "name": "ipython",
    "version": 3
   },
   "file_extension": ".py",
   "mimetype": "text/x-python",
   "name": "python",
   "nbconvert_exporter": "python",
   "pygments_lexer": "ipython3",
   "version": "3.6.0"
  },
  "toc": {
   "base_numbering": 1,
   "nav_menu": {},
   "number_sections": true,
   "sideBar": true,
   "skip_h1_title": false,
   "title_cell": "Table of Contents",
   "title_sidebar": "Contents",
   "toc_cell": false,
   "toc_position": {},
   "toc_section_display": true,
   "toc_window_display": false
  }
 },
 "nbformat": 4,
 "nbformat_minor": 2
}
