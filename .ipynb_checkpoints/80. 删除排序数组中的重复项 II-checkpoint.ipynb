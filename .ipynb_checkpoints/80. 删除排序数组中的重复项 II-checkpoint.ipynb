{
 "cells": [
  {
   "cell_type": "code",
   "execution_count": 4,
   "metadata": {},
   "outputs": [
    {
     "data": {
      "text/plain": [
       "1"
      ]
     },
     "execution_count": 4,
     "metadata": {},
     "output_type": "execute_result"
    }
   ],
   "source": [
    "class Solution:\n",
    "    def removeDuplicates(self, nums: [int]) -> int:\n",
    "        if len(nums) <= 2:\n",
    "            return len(nums)\n",
    "        else:\n",
    "            left = 0\n",
    "            right = 1\n",
    "            i = 2\n",
    "            while i < len(nums):\n",
    "                if nums[i] == nums[right] and nums[right] == nums[left]:\n",
    "                    nums.pop(i)\n",
    "                else:\n",
    "                    right += 1\n",
    "                    left += 1\n",
    "                    i += 1\n",
    "        return len(nums)\n",
    "s = Solution()\n",
    "s.removeDuplicates([])"
   ]
  },
  {
   "cell_type": "code",
   "execution_count": null,
   "metadata": {},
   "outputs": [],
   "source": []
  }
 ],
 "metadata": {
  "kernelspec": {
   "display_name": "Python 3",
   "language": "python",
   "name": "python3"
  },
  "language_info": {
   "codemirror_mode": {
    "name": "ipython",
    "version": 3
   },
   "file_extension": ".py",
   "mimetype": "text/x-python",
   "name": "python",
   "nbconvert_exporter": "python",
   "pygments_lexer": "ipython3",
   "version": "3.6.0"
  },
  "toc": {
   "base_numbering": 1,
   "nav_menu": {},
   "number_sections": true,
   "sideBar": true,
   "skip_h1_title": false,
   "title_cell": "Table of Contents",
   "title_sidebar": "Contents",
   "toc_cell": false,
   "toc_position": {},
   "toc_section_display": true,
   "toc_window_display": false
  }
 },
 "nbformat": 4,
 "nbformat_minor": 2
}
