{
 "cells": [
  {
   "cell_type": "markdown",
   "metadata": {},
   "source": [
    "实现atoi这将字符串转换为整数。\n",
    "\n",
    "该函数首先丢弃所需数量的空白字符，直到找到第一个非空白字符。然后，从该字符开始，采用可选的初始加号或减号，后跟尽可能多的数字，并将它们解释为数值。\n",
    "\n",
    "字符串可以包含在形成整数之后的其他字符，这些字符将被忽略并且对此函数的行为没有影响。\n",
    "\n",
    "如果str中的第一个非空白字符序列不是有效的整数，或者由于str是空的或者只包含空格字符而不存在这样的序列，则不执行转换。\n",
    "\n",
    "如果无法执行有效转换，则返回零值。\n",
    "\n",
    "注意：\n",
    "\n",
    "只有空格字符' '被视为空白字符。\n",
    "假设我们正在处理一个只能在32位有符号整数范围内存储整数的环境：[ - 21 31 2 31  - 1]。如果数值超出表示的值的范围的，INT_MAX（2 31  - 1）或INT_MIN（-2 31被返回）。\n",
    "例1：\n",
    "\n",
    "输入： “42”\n",
    " 输出： 42\n",
    "例2：\n",
    "\n",
    "输入： “ -  42”\n",
    " 输出： -42\n",
    " 说明：第一个非空白字符是' - '，这是减号。\n",
    "             然后取尽可能多的数字，得到42。\n",
    "例3：\n",
    "\n",
    "输入： “4193 with words”\n",
    " 输出： 4193\n",
    " 说明：转换在数字'3'处停止，因为下一个字符不是数字。\n",
    "例4：\n",
    "\n",
    "输入： “words and 987”\n",
    " 输出： 0\n",
    " 说明：第一个非空白字符是'w'，这不是数字\n",
    "             数字或+/-符号。因此，无法执行有效转换。\n",
    "例5：\n",
    "\n",
    "输入： “ -  91283472332”\n",
    " 输出： -2147483648\n",
    " 说明：数字“-91283472332”超出32位有符号整数的范围。\n",
    "             返回INT_MIN（-2 31）。"
   ]
  },
  {
   "cell_type": "code",
   "execution_count": 38,
   "metadata": {},
   "outputs": [
    {
     "data": {
      "text/plain": [
       "0"
      ]
     },
     "execution_count": 38,
     "metadata": {},
     "output_type": "execute_result"
    }
   ],
   "source": [
    "class Solution:\n",
    "    def myAtoi(self, s: str) -> int:\n",
    "        s = s.strip(' ')\n",
    "        string = '0'\n",
    "        if len(s) > 0:\n",
    "            if s[0] == '-' or s[0].isdigit() or s[0] == '+':\n",
    "                string = s[0]\n",
    "                if s[0] == '+' or s[0] == '-':\n",
    "                    string += '0'\n",
    "                for c in range(1,len(s)):\n",
    "                    if s[c].isdigit():\n",
    "                        string += s[c]\n",
    "#                     elif s[c] == ' ':\n",
    "#                         continue\n",
    "                    else:\n",
    "                        break\n",
    "        num = int(string)\n",
    "        if num < -2**31:\n",
    "            return -2**31\n",
    "        elif num > 2**31-1:\n",
    "            return 2**31-1\n",
    "        return num\n",
    "s = Solution()\n",
    "s.myAtoi(\"   + 0 123\")"
   ]
  },
  {
   "cell_type": "code",
   "execution_count": null,
   "metadata": {},
   "outputs": [],
   "source": []
  }
 ],
 "metadata": {
  "kernelspec": {
   "display_name": "Python 3",
   "language": "python",
   "name": "python3"
  },
  "language_info": {
   "codemirror_mode": {
    "name": "ipython",
    "version": 3
   },
   "file_extension": ".py",
   "mimetype": "text/x-python",
   "name": "python",
   "nbconvert_exporter": "python",
   "pygments_lexer": "ipython3",
   "version": "3.6.0"
  },
  "toc": {
   "base_numbering": 1,
   "nav_menu": {},
   "number_sections": true,
   "sideBar": true,
   "skip_h1_title": false,
   "title_cell": "Table of Contents",
   "title_sidebar": "Contents",
   "toc_cell": false,
   "toc_position": {},
   "toc_section_display": true,
   "toc_window_display": false
  }
 },
 "nbformat": 4,
 "nbformat_minor": 2
}
