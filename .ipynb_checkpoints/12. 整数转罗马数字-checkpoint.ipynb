{
 "cells": [
  {
   "cell_type": "code",
   "execution_count": 27,
   "metadata": {},
   "outputs": [
    {
     "name": "stdout",
     "output_type": "stream",
     "text": [
      "MCMXCV\n"
     ]
    }
   ],
   "source": [
    "class Solution:\n",
    "    def intToRoman(self, num: int) -> str:\n",
    "        string = str(num)\n",
    "        result = ''\n",
    "        length = len(string)\n",
    "        for s in range(length):\n",
    "            e_num = int(string[s])*(10**(length-s-1))\n",
    "            if e_num < 4000 and e_num >= 1000:\n",
    "                result += (int(e_num/1000)*'M')\n",
    "            if e_num == 900:\n",
    "                result += 'CM'\n",
    "            if e_num < 900 and e_num >= 500:\n",
    "                result += ('D'+(int(e_num/100)-5)*'C')\n",
    "            if e_num == 400:\n",
    "                result += 'CD'\n",
    "            if e_num < 400 and e_num >= 100:\n",
    "                result += (int(e_num/100)*'C')\n",
    "            if e_num == 90:\n",
    "                result += 'XC'\n",
    "            if e_num < 90 and e_num >= 50:\n",
    "                result += ('L'+(int(e_num/10)-5)*'X')\n",
    "            if e_num == 40:\n",
    "                result += 'XL'\n",
    "            if e_num < 40 and e_num >= 10:\n",
    "                result += (int(e_num/10)*'X')\n",
    "            if e_num == 9:\n",
    "                result += 'IX'\n",
    "            if e_num < 9 and e_num >= 5:\n",
    "                result += ('V'+((e_num-5)*'I'))\n",
    "            if e_num == 4:\n",
    "                result += 'IV'\n",
    "            if e_num < 4 and e_num >= 1:\n",
    "                result += e_num*'I'\n",
    "        return result\n",
    "s = Solution()\n",
    "s.intToRoman(1995)"
   ]
  }
 ],
 "metadata": {
  "kernelspec": {
   "display_name": "Python 3",
   "language": "python",
   "name": "python3"
  },
  "language_info": {
   "codemirror_mode": {
    "name": "ipython",
    "version": 3
   },
   "file_extension": ".py",
   "mimetype": "text/x-python",
   "name": "python",
   "nbconvert_exporter": "python",
   "pygments_lexer": "ipython3",
   "version": "3.6.0"
  }
 },
 "nbformat": 4,
 "nbformat_minor": 2
}
