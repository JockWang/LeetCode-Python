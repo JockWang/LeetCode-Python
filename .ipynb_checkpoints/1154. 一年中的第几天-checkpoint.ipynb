{
 "cells": [
  {
   "cell_type": "code",
   "execution_count": 1,
   "metadata": {},
   "outputs": [
    {
     "data": {
      "text/plain": [
       "91"
      ]
     },
     "execution_count": 1,
     "metadata": {},
     "output_type": "execute_result"
    }
   ],
   "source": [
    "class Solution:\n",
    "    def ordinalOfDate(self, date: str) -> int:\n",
    "        dic = {\n",
    "            1:31,\n",
    "            2:28,\n",
    "            3:31,\n",
    "            4:30,\n",
    "            5:31,\n",
    "            6:30,\n",
    "            7:31,\n",
    "            8:31,\n",
    "            9:30,\n",
    "            10:31,\n",
    "            11:30,\n",
    "            12:31\n",
    "        }\n",
    "        dates = date.split('-')\n",
    "        year = int(dates[0])\n",
    "        month = int(dates[1])\n",
    "        day = int(dates[-1])\n",
    "        if year%400 == 0 or (year%100 != 0 and year%4 == 0):\n",
    "            dic[2] = 29\n",
    "        count = 0\n",
    "        for i in range(1,month):\n",
    "            count += dic[i]\n",
    "        return count+day\n",
    "s = Solution()\n",
    "s.ordinalOfDate('2004-03-01')\n",
    "        \n",
    "            "
   ]
  },
  {
   "cell_type": "code",
   "execution_count": null,
   "metadata": {},
   "outputs": [],
   "source": []
  }
 ],
 "metadata": {
  "kernelspec": {
   "display_name": "Python 3",
   "language": "python",
   "name": "python3"
  },
  "language_info": {
   "codemirror_mode": {
    "name": "ipython",
    "version": 3
   },
   "file_extension": ".py",
   "mimetype": "text/x-python",
   "name": "python",
   "nbconvert_exporter": "python",
   "pygments_lexer": "ipython3",
   "version": "3.6.0"
  }
 },
 "nbformat": 4,
 "nbformat_minor": 2
}
