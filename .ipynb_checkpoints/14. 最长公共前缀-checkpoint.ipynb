{
 "cells": [
  {
   "cell_type": "code",
   "execution_count": 4,
   "metadata": {},
   "outputs": [
    {
     "data": {
      "text/plain": [
       "''"
      ]
     },
     "execution_count": 4,
     "metadata": {},
     "output_type": "execute_result"
    }
   ],
   "source": [
    "class Solution:\n",
    "    def longestCommonPrefix(self, strs: [str]) -> str:\n",
    "        comm = ''\n",
    "        if len(strs) != 0 and '' not in strs:\n",
    "            comm = strs[0]\n",
    "        else:\n",
    "            return comm\n",
    "        for i in range(1,len(strs)):\n",
    "            temp = ''\n",
    "            for j in range(min(len(strs[i]),len(comm))):\n",
    "                if strs[i][j] == comm[j]:\n",
    "                    temp += comm[j]\n",
    "                else:\n",
    "                    break\n",
    "            comm = temp\n",
    "        return comm\n",
    "s = Solution()\n",
    "s.longestCommonPrefix([\"\",\"b\"])"
   ]
  },
  {
   "cell_type": "code",
   "execution_count": null,
   "metadata": {},
   "outputs": [],
   "source": []
  }
 ],
 "metadata": {
  "kernelspec": {
   "display_name": "Python 3",
   "language": "python",
   "name": "python3"
  },
  "language_info": {
   "codemirror_mode": {
    "name": "ipython",
    "version": 3
   },
   "file_extension": ".py",
   "mimetype": "text/x-python",
   "name": "python",
   "nbconvert_exporter": "python",
   "pygments_lexer": "ipython3",
   "version": "3.6.5"
  },
  "toc": {
   "base_numbering": 1,
   "nav_menu": {},
   "number_sections": true,
   "sideBar": true,
   "skip_h1_title": false,
   "title_cell": "Table of Contents",
   "title_sidebar": "Contents",
   "toc_cell": false,
   "toc_position": {},
   "toc_section_display": true,
   "toc_window_display": false
  }
 },
 "nbformat": 4,
 "nbformat_minor": 2
}
