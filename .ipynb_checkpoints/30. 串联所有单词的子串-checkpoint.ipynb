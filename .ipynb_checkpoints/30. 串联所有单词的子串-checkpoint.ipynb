{
 "cells": [
  {
   "cell_type": "code",
   "execution_count": 1,
   "metadata": {},
   "outputs": [
    {
     "data": {
      "text/plain": [
       "[1]"
      ]
     },
     "execution_count": 1,
     "metadata": {},
     "output_type": "execute_result"
    }
   ],
   "source": [
    "class Solution:\n",
    "    def findSubstring(self, s: str, words:[str]) ->[int]:\n",
    "        temp = {}\n",
    "        length = 0\n",
    "        result = []\n",
    "        if s == '' or len(words) == 0 or len(words)*len(words[0]) > len(s):\n",
    "            return []\n",
    "        for w in words:\n",
    "            t = s.find(w)\n",
    "            if t == -1:\n",
    "                return []\n",
    "            else:\n",
    "                length += len(w)\n",
    "                temp[w] = s.find(w)\n",
    "        temp = sorted(temp.items(),key = lambda item:item[1])\n",
    "        point = temp[0][1]\n",
    "        end = point+len(temp[0][0])*len(words)\n",
    "        if self.isOk(s[point:end],words):\n",
    "            result.append(point)\n",
    "        res = self.findSubstring(s[point+1:],words)\n",
    "        for r in res:\n",
    "            result.append(point+1+r)\n",
    "        return result\n",
    "\n",
    "    \n",
    "    def isOk(self,s,words):\n",
    "        temp = []\n",
    "        for i in range(len(s)):\n",
    "            if i%len(words[0]) == 0:\n",
    "                temp.append(s[i:i+len(words[0])])\n",
    "        temp.sort()\n",
    "        words.sort()\n",
    "        if len(temp) != len(words):\n",
    "            return False\n",
    "        for i in range(len(temp)):\n",
    "            if temp[i] != words[i]:\n",
    "                return False\n",
    "        return True\n",
    "s = Solution()\n",
    "s.findSubstring('ababaab',['ab','ba','ba'])"
   ]
  },
  {
   "cell_type": "code",
   "execution_count": null,
   "metadata": {},
   "outputs": [],
   "source": []
  }
 ],
 "metadata": {
  "kernelspec": {
   "display_name": "Python 3",
   "language": "python",
   "name": "python3"
  },
  "language_info": {
   "codemirror_mode": {
    "name": "ipython",
    "version": 3
   },
   "file_extension": ".py",
   "mimetype": "text/x-python",
   "name": "python",
   "nbconvert_exporter": "python",
   "pygments_lexer": "ipython3",
   "version": "3.6.0"
  },
  "toc": {
   "base_numbering": 1,
   "nav_menu": {},
   "number_sections": true,
   "sideBar": true,
   "skip_h1_title": false,
   "title_cell": "Table of Contents",
   "title_sidebar": "Contents",
   "toc_cell": false,
   "toc_position": {},
   "toc_section_display": true,
   "toc_window_display": false
  }
 },
 "nbformat": 4,
 "nbformat_minor": 2
}
