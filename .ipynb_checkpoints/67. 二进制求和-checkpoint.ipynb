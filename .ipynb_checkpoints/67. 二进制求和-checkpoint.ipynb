{
 "cells": [
  {
   "cell_type": "code",
   "execution_count": 21,
   "metadata": {},
   "outputs": [
    {
     "data": {
      "text/plain": [
       "'110110'"
      ]
     },
     "execution_count": 21,
     "metadata": {},
     "output_type": "execute_result"
    }
   ],
   "source": [
    "class Solution:\n",
    "    def addBinary(self, a: str, b: str) -> str:\n",
    "        flag = False\n",
    "        res = ''\n",
    "        if len(a) < len(b):\n",
    "            temp = a\n",
    "            a = b\n",
    "            b = temp\n",
    "        for i in range(len(b)):\n",
    "            if a[i+len(b)] == '0' and a[i+len(b)] == b[i]:\n",
    "                if flag:\n",
    "                    res += '1'\n",
    "                    flag = False\n",
    "                else:\n",
    "                    res += '0'\n",
    "            elif a[i+len(b)] != b[i]:\n",
    "                if flag:\n",
    "                    res += '0'\n",
    "                else:\n",
    "                    res += '1'\n",
    "            else:\n",
    "                if flag:\n",
    "                    res += '1'\n",
    "                else:\n",
    "                    res += '0'\n",
    "                flag = True\n",
    "        for i in range(len(a)-len(b)-1,-1,-1):\n",
    "            if flag and a[i] == '1':\n",
    "                res += '0'\n",
    "            elif flag and a[i] == '0':\n",
    "                res += '1'\n",
    "                flag = False\n",
    "            else:\n",
    "                res += a[i]\n",
    "        if flag:\n",
    "            res += '1'\n",
    "        return res[::-1]\n",
    "s = Solution()\n",
    "s.addBinary('100','110010')"
   ]
  },
  {
   "cell_type": "code",
   "execution_count": null,
   "metadata": {},
   "outputs": [],
   "source": []
  }
 ],
 "metadata": {
  "kernelspec": {
   "display_name": "Python 3",
   "language": "python",
   "name": "python3"
  },
  "language_info": {
   "codemirror_mode": {
    "name": "ipython",
    "version": 3
   },
   "file_extension": ".py",
   "mimetype": "text/x-python",
   "name": "python",
   "nbconvert_exporter": "python",
   "pygments_lexer": "ipython3",
   "version": "3.6.8"
  },
  "toc": {
   "base_numbering": 1,
   "nav_menu": {},
   "number_sections": true,
   "sideBar": true,
   "skip_h1_title": false,
   "title_cell": "Table of Contents",
   "title_sidebar": "Contents",
   "toc_cell": false,
   "toc_position": {},
   "toc_section_display": true,
   "toc_window_display": false
  }
 },
 "nbformat": 4,
 "nbformat_minor": 2
}
