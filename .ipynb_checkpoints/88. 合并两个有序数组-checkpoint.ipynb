{
 "cells": [
  {
   "cell_type": "code",
   "execution_count": 18,
   "metadata": {},
   "outputs": [
    {
     "name": "stdout",
     "output_type": "stream",
     "text": [
      "[2, 0]\n",
      "[1, 2]\n"
     ]
    }
   ],
   "source": [
    "class Solution:\n",
    "    def merge(self, nums1: [int], m: int, nums2: [int], n: int) -> None:\n",
    "        \"\"\"\n",
    "        Do not return anything, modify nums1 in-place instead.\n",
    "        \"\"\"\n",
    "        i, j = 0, 0\n",
    "        while i < len(nums2):\n",
    "            flag = False\n",
    "            print(nums1)\n",
    "            while j < len(nums1):\n",
    "                if nums2[i] <= nums1[j]:\n",
    "                    for k in range(m, j, -1):\n",
    "                        nums1[k] = nums1[k-1]\n",
    "                    nums1[j] = nums2[i]\n",
    "                    flag = True\n",
    "                    m += 1\n",
    "                    break\n",
    "                j += 1\n",
    "            if not flag:\n",
    "                nums1[m] = nums2[i]\n",
    "                m += 1\n",
    "            i += 1\n",
    "        print(nums1)\n",
    "s = Solution()\n",
    "s.merge([2,0],1,[1],1)"
   ]
  },
  {
   "cell_type": "code",
   "execution_count": null,
   "metadata": {},
   "outputs": [],
   "source": []
  }
 ],
 "metadata": {
  "kernelspec": {
   "display_name": "Python 3",
   "language": "python",
   "name": "python3"
  },
  "language_info": {
   "codemirror_mode": {
    "name": "ipython",
    "version": 3
   },
   "file_extension": ".py",
   "mimetype": "text/x-python",
   "name": "python",
   "nbconvert_exporter": "python",
   "pygments_lexer": "ipython3",
   "version": "3.6.8"
  },
  "toc": {
   "base_numbering": 1,
   "nav_menu": {},
   "number_sections": true,
   "sideBar": true,
   "skip_h1_title": false,
   "title_cell": "Table of Contents",
   "title_sidebar": "Contents",
   "toc_cell": false,
   "toc_position": {},
   "toc_section_display": true,
   "toc_window_display": false
  }
 },
 "nbformat": 4,
 "nbformat_minor": 2
}
