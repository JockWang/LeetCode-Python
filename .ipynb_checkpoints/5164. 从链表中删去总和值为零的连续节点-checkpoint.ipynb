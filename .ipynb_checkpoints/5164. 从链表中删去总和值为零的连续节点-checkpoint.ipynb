{
 "cells": [
  {
   "cell_type": "code",
   "execution_count": 19,
   "metadata": {},
   "outputs": [
    {
     "name": "stdout",
     "output_type": "stream",
     "text": [
      "检测-4\n",
      "检测3\n",
      "检测2\n",
      "检测1\n",
      "1\n",
      "2\n",
      "3\n",
      "-4\n",
      "1\n",
      "5\n"
     ]
    }
   ],
   "source": [
    "# Definition for singly-linked list.\n",
    "def printList(head):\n",
    "    while head!=None:\n",
    "        print(head.val)\n",
    "        head = head.next\n",
    "\n",
    "class ListNode:\n",
    "    def __init__(self, x):\n",
    "        self.val = x\n",
    "        self.next = None\n",
    "\n",
    "class Solution:\n",
    "    def removeZeroSumSublists(self, head: ListNode) -> ListNode:\n",
    "        stack = []\n",
    "        mylist = ListNode(None)\n",
    "        mylist.next = head\n",
    "        prenode = mylist\n",
    "        point = mylist.next\n",
    "        while point != None:\n",
    "            stack.append(point.val)\n",
    "            total = 0\n",
    "            for i in range(len(stack)-1,-1,-1):\n",
    "                total += stack[i]\n",
    "                print(\"检测\"+str(stack[i]))\n",
    "                if total == 0:\n",
    "                    temp = mylist\n",
    "                    count = -1\n",
    "                    stack = stack[:i]\n",
    "                    print(\"发现\")\n",
    "                    while temp != None:\n",
    "                        if count == i-1:\n",
    "                            break\n",
    "                        temp = temp.next\n",
    "                        count += 1\n",
    "                    temp.next = point.next\n",
    "            point = point.next\n",
    "        return mylist.next\n",
    "\n",
    "a = ListNode(1)\n",
    "b = ListNode(2)\n",
    "c = ListNode(3)\n",
    "d = ListNode(-4)\n",
    "e = ListNode(1)\n",
    "f = ListNode(5)\n",
    "a.next = b\n",
    "b.next = c\n",
    "c.next = d\n",
    "d.next = e\n",
    "e.next = f\n",
    "f.next = None\n",
    "s = Solution()\n",
    "printList(s.removeZeroSumSublists(a))\n"
   ]
  },
  {
   "cell_type": "code",
   "execution_count": null,
   "metadata": {},
   "outputs": [],
   "source": []
  }
 ],
 "metadata": {
  "kernelspec": {
   "display_name": "Python 3",
   "language": "python",
   "name": "python3"
  },
  "language_info": {
   "codemirror_mode": {
    "name": "ipython",
    "version": 3
   },
   "file_extension": ".py",
   "mimetype": "text/x-python",
   "name": "python",
   "nbconvert_exporter": "python",
   "pygments_lexer": "ipython3",
   "version": "3.6.0"
  },
  "toc": {
   "base_numbering": 1,
   "nav_menu": {},
   "number_sections": true,
   "sideBar": true,
   "skip_h1_title": false,
   "title_cell": "Table of Contents",
   "title_sidebar": "Contents",
   "toc_cell": false,
   "toc_position": {},
   "toc_section_display": true,
   "toc_window_display": false
  }
 },
 "nbformat": 4,
 "nbformat_minor": 2
}
