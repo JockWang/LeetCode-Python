{
 "cells": [
  {
   "cell_type": "code",
   "execution_count": 13,
   "metadata": {},
   "outputs": [
    {
     "data": {
      "text/plain": [
       "False"
      ]
     },
     "execution_count": 13,
     "metadata": {},
     "output_type": "execute_result"
    }
   ],
   "source": [
    "class Solution:\n",
    "    def isValid(self, s: str) -> bool:\n",
    "        if s == None:\n",
    "            return True\n",
    "        string = []\n",
    "        for ss in s:\n",
    "            if ss == '(' or ss == '{' or ss == '[':\n",
    "                string.append(ss)\n",
    "            elif ss == ')' and (len(string) == 0 or string.pop() != '('):\n",
    "                return False\n",
    "            elif ss == '}' and (len(string) == 0 or string.pop() != '{'):\n",
    "                return False\n",
    "            elif ss == ']' and (len(string) == 0 or string.pop() != '['):\n",
    "                return False\n",
    "        if len(string) == 0:\n",
    "            return True\n",
    "        else:\n",
    "            return False\n",
    "\n",
    "s = Solution()\n",
    "s.isValid('()[]{})')"
   ]
  },
  {
   "cell_type": "code",
   "execution_count": null,
   "metadata": {},
   "outputs": [],
   "source": []
  }
 ],
 "metadata": {
  "kernelspec": {
   "display_name": "Python 3",
   "language": "python",
   "name": "python3"
  },
  "language_info": {
   "codemirror_mode": {
    "name": "ipython",
    "version": 3
   },
   "file_extension": ".py",
   "mimetype": "text/x-python",
   "name": "python",
   "nbconvert_exporter": "python",
   "pygments_lexer": "ipython3",
   "version": "3.6.0"
  },
  "toc": {
   "base_numbering": 1,
   "nav_menu": {},
   "number_sections": true,
   "sideBar": true,
   "skip_h1_title": false,
   "title_cell": "Table of Contents",
   "title_sidebar": "Contents",
   "toc_cell": false,
   "toc_position": {},
   "toc_section_display": true,
   "toc_window_display": false
  }
 },
 "nbformat": 4,
 "nbformat_minor": 2
}
