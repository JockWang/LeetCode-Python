{
 "cells": [
  {
   "cell_type": "code",
   "execution_count": 13,
   "metadata": {},
   "outputs": [
    {
     "data": {
      "text/plain": [
       "1994"
      ]
     },
     "execution_count": 13,
     "metadata": {},
     "output_type": "execute_result"
    }
   ],
   "source": [
    "class Solution:\n",
    "    def romanToInt(self, s: str) -> int:\n",
    "        tempA = {'IV':4,'IX':9,'XL':40,'XC':90,'CD':400,'CM':900,}\n",
    "        tempB = {'I':1,'V':5,'X':10,'L':50,'C':100,'D':500, 'M':1000,}\n",
    "        result = 0\n",
    "        if not s:\n",
    "            return result\n",
    "        while len(s) > 0:\n",
    "            if len(s) > 2:\n",
    "                if s[:2] in tempA.keys():\n",
    "                    result += tempA[s[:2]]\n",
    "                    s = s[2:]\n",
    "                    continue\n",
    "            if len(s) == 2:\n",
    "                if s in tempA.keys():\n",
    "                    result += tempA[s]\n",
    "                    s = ''\n",
    "                    continue\n",
    "            if s[0] in tempB.keys():\n",
    "                result += tempB[s[0]]\n",
    "                s = s[1:]\n",
    "        return result\n",
    "s = Solution()\n",
    "s.romanToInt('MCMXCIV')"
   ]
  }
 ],
 "metadata": {
  "kernelspec": {
   "display_name": "Python 3",
   "language": "python",
   "name": "python3"
  },
  "language_info": {
   "codemirror_mode": {
    "name": "ipython",
    "version": 3
   },
   "file_extension": ".py",
   "mimetype": "text/x-python",
   "name": "python",
   "nbconvert_exporter": "python",
   "pygments_lexer": "ipython3",
   "version": "3.6.0"
  },
  "toc": {
   "base_numbering": 1,
   "nav_menu": {},
   "number_sections": true,
   "sideBar": true,
   "skip_h1_title": false,
   "title_cell": "Table of Contents",
   "title_sidebar": "Contents",
   "toc_cell": false,
   "toc_position": {},
   "toc_section_display": true,
   "toc_window_display": false
  }
 },
 "nbformat": 4,
 "nbformat_minor": 2
}
