{
 "cells": [
  {
   "cell_type": "code",
   "execution_count": 23,
   "metadata": {},
   "outputs": [
    {
     "name": "stdout",
     "output_type": "stream",
     "text": [
      "['0.0.0.0']\n"
     ]
    }
   ],
   "source": [
    "class Solution:\n",
    "    def restoreIpAddresses(self, s: str) -> [str]:\n",
    "        res = []\n",
    "        if len(s) == 0:\n",
    "            return res\n",
    "        else:\n",
    "            self.change(s,0,0,res)\n",
    "        print(res)\n",
    "    \n",
    "    def change(self,s,now,where,res):\n",
    "        if now == 3:\n",
    "            if self.check(s):\n",
    "                res.append(s)\n",
    "            return\n",
    "        elif now < 3:\n",
    "            length = len(s)\n",
    "            if len(s) > where+4:\n",
    "                length = where+4\n",
    "            for i in range(where+1,length):\n",
    "                if int(s[where:i]) <= 255 and int(s[where:i]) >= 0:\n",
    "                    temp_str = s[:i]+'.'+s[i:]\n",
    "                    temp_where = i+1\n",
    "                    temp_now = now + 1\n",
    "                    self.change(temp_str,temp_now,temp_where,res)                    \n",
    "        else:\n",
    "            return\n",
    "    def check(self,s):\n",
    "        for string in s.split('.'):\n",
    "            if int(string) < 0 or int(string) > 255 or len(str(int(string))) != len(string):\n",
    "                return False\n",
    "        return True  \n",
    "\n",
    "s = Solution()   \n",
    "s.restoreIpAddresses(\"0000\")"
   ]
  },
  {
   "cell_type": "code",
   "execution_count": null,
   "metadata": {},
   "outputs": [],
   "source": []
  }
 ],
 "metadata": {
  "kernelspec": {
   "display_name": "Python 3",
   "language": "python",
   "name": "python3"
  },
  "language_info": {
   "codemirror_mode": {
    "name": "ipython",
    "version": 3
   },
   "file_extension": ".py",
   "mimetype": "text/x-python",
   "name": "python",
   "nbconvert_exporter": "python",
   "pygments_lexer": "ipython3",
   "version": "3.6.0"
  }
 },
 "nbformat": 4,
 "nbformat_minor": 2
}
