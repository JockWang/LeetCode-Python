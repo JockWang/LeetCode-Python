{
 "cells": [
  {
   "cell_type": "code",
   "execution_count": 14,
   "metadata": {},
   "outputs": [
    {
     "data": {
      "text/plain": [
       "[[], [2]]"
      ]
     },
     "execution_count": 14,
     "metadata": {},
     "output_type": "execute_result"
    }
   ],
   "source": [
    "class Solution:\n",
    "    def subsetsWithDup(self, nums: [int]) -> [[int]]:\n",
    "        nums.sort()\n",
    "        result = []\n",
    "        self.generate(nums,[],result)\n",
    "        return result\n",
    "    \n",
    "    def generate(self, nums, now, result):\n",
    "        now.sort()\n",
    "        if now not in result:\n",
    "            result.append(now)\n",
    "        for n in range(len(nums)):\n",
    "            temp_nums = nums[n+1:]\n",
    "            temp_now = []\n",
    "            for t in now:\n",
    "                temp_now.append(t)\n",
    "            temp_now.append(nums[n])\n",
    "            self.generate(temp_nums,temp_now,result)\n",
    "                \n",
    "s = Solution()\n",
    "s.subsetsWithDup([1,2,2])"
   ]
  },
  {
   "cell_type": "code",
   "execution_count": null,
   "metadata": {},
   "outputs": [],
   "source": []
  }
 ],
 "metadata": {
  "kernelspec": {
   "display_name": "Python 3",
   "language": "python",
   "name": "python3"
  },
  "language_info": {
   "codemirror_mode": {
    "name": "ipython",
    "version": 3
   },
   "file_extension": ".py",
   "mimetype": "text/x-python",
   "name": "python",
   "nbconvert_exporter": "python",
   "pygments_lexer": "ipython3",
   "version": "3.6.0"
  }
 },
 "nbformat": 4,
 "nbformat_minor": 2
}
