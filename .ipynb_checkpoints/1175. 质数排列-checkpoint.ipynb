{
 "cells": [
  {
   "cell_type": "code",
   "execution_count": null,
   "metadata": {},
   "outputs": [],
   "source": [
    "class Solution:\n",
    "    def numPrimeArrangements(self, n: int) -> int:\n",
    "        count = 0\n",
    "        if n <= 2:\n",
    "            return 0\n",
    "        else:\n",
    "            for i in range(3,n):\n",
    "                flag = False\n",
    "                for j in range(2,n):\n",
    "                    if i%j == 0:\n",
    "                        flag = True\n",
    "                        break\n",
    "                if not flag:\n",
    "                    count += 1\n",
    "        "
   ]
  }
 ],
 "metadata": {
  "kernelspec": {
   "display_name": "Python 3",
   "language": "python",
   "name": "python3"
  },
  "language_info": {
   "codemirror_mode": {
    "name": "ipython",
    "version": 3
   },
   "file_extension": ".py",
   "mimetype": "text/x-python",
   "name": "python",
   "nbconvert_exporter": "python",
   "pygments_lexer": "ipython3",
   "version": "3.6.8"
  }
 },
 "nbformat": 4,
 "nbformat_minor": 2
}
