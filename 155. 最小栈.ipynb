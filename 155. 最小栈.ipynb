{
 "cells": [
  {
   "cell_type": "code",
   "execution_count": 5,
   "metadata": {},
   "outputs": [
    {
     "name": "stdout",
     "output_type": "stream",
     "text": [
      "[-2]\n",
      "[-2, 0]\n",
      "[-2, -1, 0]\n",
      "[-2, -1, 0]\n"
     ]
    }
   ],
   "source": [
    "class MinStack:\n",
    "\n",
    "    def __init__(self):\n",
    "        \"\"\"\n",
    "        initialize your data structure here.\n",
    "        \"\"\"\n",
    "        self.arr = []\n",
    "        self.stack = []\n",
    "        \n",
    "\n",
    "    def push(self, x: int) -> None:\n",
    "        self.stack.append(x)\n",
    "        self.insert(x)\n",
    "\n",
    "    def pop(self) -> None:\n",
    "        self.remove(self.stack.pop())\n",
    "\n",
    "    def top(self) -> int:\n",
    "        return self.stack[-1]\n",
    "\n",
    "    def getMin(self) -> int:\n",
    "        return self.arr[0]\n",
    "\n",
    "    def insert(self, x: int)->None:\n",
    "        flag = False\n",
    "        for i in range(len(self.arr)):\n",
    "            if x < self.arr[i]:\n",
    "                self.arr.insert(i, x)\n",
    "                flag = True\n",
    "                break\n",
    "        if not flag:\n",
    "            self.arr.append(x)\n",
    "    \n",
    "    def remove(self, x):\n",
    "        self.arr.remove(x)\n",
    "        \n",
    "\n",
    "\n",
    "# Your MinStack object will be instantiated and called as such:\n",
    "obj = MinStack()\n",
    "obj.push(-2)\n",
    "print(obj.arr)\n",
    "obj.push(0)\n",
    "print(obj.arr)\n",
    "obj.push(-1)\n",
    "print(obj.arr)\n",
    "obj.getMin()\n",
    "obj.top()\n",
    "print(obj.arr)\n",
    "obj.pop()\n"
   ]
  },
  {
   "cell_type": "code",
   "execution_count": null,
   "metadata": {},
   "outputs": [],
   "source": []
  }
 ],
 "metadata": {
  "kernelspec": {
   "display_name": "Python 3",
   "language": "python",
   "name": "python3"
  },
  "language_info": {
   "codemirror_mode": {
    "name": "ipython",
    "version": 3
   },
   "file_extension": ".py",
   "mimetype": "text/x-python",
   "name": "python",
   "nbconvert_exporter": "python",
   "pygments_lexer": "ipython3",
   "version": "3.6.8"
  },
  "toc": {
   "base_numbering": 1,
   "nav_menu": {},
   "number_sections": true,
   "sideBar": true,
   "skip_h1_title": false,
   "title_cell": "Table of Contents",
   "title_sidebar": "Contents",
   "toc_cell": false,
   "toc_position": {},
   "toc_section_display": true,
   "toc_window_display": false
  }
 },
 "nbformat": 4,
 "nbformat_minor": 2
}
