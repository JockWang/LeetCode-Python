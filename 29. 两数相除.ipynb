{
 "cells": [
  {
   "cell_type": "code",
   "execution_count": 29,
   "metadata": {},
   "outputs": [
    {
     "data": {
      "text/plain": [
       "12"
      ]
     },
     "execution_count": 29,
     "metadata": {},
     "output_type": "execute_result"
    }
   ],
   "source": [
    "class Solution:\n",
    "    def divide(self, dividend: int, divisor: int) -> int:\n",
    "        flag = True\n",
    "        if dividend < 0:\n",
    "            flag = not flag\n",
    "            dividend = -dividend\n",
    "        if divisor < 0:\n",
    "            flag = not flag\n",
    "            divisor = -divisor\n",
    "        a = str(dividend)\n",
    "        length = len(str(divisor))\n",
    "        result = '0'\n",
    "        temp = 0\n",
    "        i = 0\n",
    "        while i < len(a):\n",
    "            temp = int(str(temp)+a[i])\n",
    "            res = 0\n",
    "            while temp >= divisor:\n",
    "                temp -= divisor\n",
    "                res += 1\n",
    "            result += str(res)\n",
    "            i += 1\n",
    "        result = int(result)\n",
    "        if not flag:\n",
    "            result = -result\n",
    "        if result > 2**31-1 or result < -2**31:\n",
    "            return 2**31-1\n",
    "        else:\n",
    "            return result\n",
    "s = Solution()\n",
    "s.divide(-1021989372,-82778243)"
   ]
  }
 ],
 "metadata": {
  "kernelspec": {
   "display_name": "Python 3",
   "language": "python",
   "name": "python3"
  },
  "language_info": {
   "codemirror_mode": {
    "name": "ipython",
    "version": 3
   },
   "file_extension": ".py",
   "mimetype": "text/x-python",
   "name": "python",
   "nbconvert_exporter": "python",
   "pygments_lexer": "ipython3",
   "version": "3.6.0"
  },
  "toc": {
   "base_numbering": 1,
   "nav_menu": {},
   "number_sections": true,
   "sideBar": true,
   "skip_h1_title": false,
   "title_cell": "Table of Contents",
   "title_sidebar": "Contents",
   "toc_cell": false,
   "toc_position": {},
   "toc_section_display": true,
   "toc_window_display": false
  }
 },
 "nbformat": 4,
 "nbformat_minor": 2
}
