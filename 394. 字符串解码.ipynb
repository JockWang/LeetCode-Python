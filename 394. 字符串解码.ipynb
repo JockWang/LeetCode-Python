{
 "cells": [
  {
   "cell_type": "code",
   "execution_count": 14,
   "metadata": {},
   "outputs": [
    {
     "data": {
      "text/plain": [
       "'zzzyypqjkjkefjkjkefjkjkefjkjkefyypqjkjkefjkjkefjkjkefjkjkefef'"
      ]
     },
     "execution_count": 14,
     "metadata": {},
     "output_type": "execute_result"
    }
   ],
   "source": [
    "class Solution:\n",
    "    def decodeString(self, s: str) -> str:\n",
    "        if ']' in s:\n",
    "            r_index = s.index(']')\n",
    "            for i in range(r_index-1,-1,-1):\n",
    "                if s[i] == '[':\n",
    "                    l_index = i\n",
    "                    break\n",
    "            for i in range(l_index-1,-1,-1):\n",
    "                if i == 0:\n",
    "                    num = int(s[:l_index])\n",
    "                    num_index = 0\n",
    "                    break\n",
    "                if s[i] == ']' or s[i].isalpha() or s[i]=='[':\n",
    "                    num = int(s[i+1:l_index])\n",
    "                    num_index = i+1\n",
    "                    break\n",
    "            temp = s[:num_index]+num*s[l_index+1:r_index]+s[r_index+1:]\n",
    "            s = self.decodeString(temp)\n",
    "        return s\n",
    "s = Solution()\n",
    "s.decodeString('3[z]2[2[y]pq4[2[jk]e1[f]]]ef')"
   ]
  },
  {
   "cell_type": "code",
   "execution_count": null,
   "metadata": {},
   "outputs": [],
   "source": []
  }
 ],
 "metadata": {
  "kernelspec": {
   "display_name": "Python 3",
   "language": "python",
   "name": "python3"
  },
  "language_info": {
   "codemirror_mode": {
    "name": "ipython",
    "version": 3
   },
   "file_extension": ".py",
   "mimetype": "text/x-python",
   "name": "python",
   "nbconvert_exporter": "python",
   "pygments_lexer": "ipython3",
   "version": "3.6.5"
  },
  "toc": {
   "base_numbering": 1,
   "nav_menu": {},
   "number_sections": true,
   "sideBar": true,
   "skip_h1_title": false,
   "title_cell": "Table of Contents",
   "title_sidebar": "Contents",
   "toc_cell": false,
   "toc_position": {},
   "toc_section_display": true,
   "toc_window_display": false
  }
 },
 "nbformat": 4,
 "nbformat_minor": 2
}
