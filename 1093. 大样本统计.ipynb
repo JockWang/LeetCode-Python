{
 "cells": [
  {
   "cell_type": "code",
   "execution_count": 12,
   "metadata": {},
   "outputs": [
    {
     "data": {
      "text/plain": [
       "[1.0, 3.0, 2.375, 2.5, 3.0]"
      ]
     },
     "execution_count": 12,
     "metadata": {},
     "output_type": "execute_result"
    }
   ],
   "source": [
    "class Solution:\n",
    "    def sampleStats(self, count: [int]) -> [float]:\n",
    "        min_ = 0\n",
    "        flag1 = False\n",
    "        max_ = 0\n",
    "        mean_ = 0\n",
    "        middle_ = 0\n",
    "        mutile_ = 0\n",
    "        total = 0\n",
    "        number = 0\n",
    "        num_max = 0\n",
    "        for i in range(len(count)):\n",
    "            if count[i] != 0 and not flag1:\n",
    "                min_ = float(i)\n",
    "                flag1 = True\n",
    "            total += (i*count[i])\n",
    "            number += count[i]\n",
    "            if count[i] > num_max:\n",
    "                mutile_ = float(i)\n",
    "                num_max = count[i]\n",
    "            if count[i] != 0:\n",
    "                max_ = float(i)\n",
    "        mean_ = total/number\n",
    "        n = 0\n",
    "        n1 = number//2\n",
    "        n2 = number//2+1\n",
    "        a = 0\n",
    "        flaga = False\n",
    "        b = 0\n",
    "        flagb = False\n",
    "        if number%2 == 0:\n",
    "            for i in range(len(count)):\n",
    "                n += count[i]\n",
    "                if n >= n1 and not flaga:\n",
    "                    a = i\n",
    "                    flaga = True\n",
    "                if n >= n2 and not flagb:\n",
    "                    b = i\n",
    "                    flagb = True\n",
    "                    break\n",
    "            middle_ = (a+b)/2\n",
    "        else:\n",
    "            for i in range(len(count)):\n",
    "                n += count[i]\n",
    "                if n >= number/2:\n",
    "                    middle_ = float(i)\n",
    "                    break\n",
    "                    \n",
    "        return [min_,max_,mean_,middle_,mutile_]\n",
    "s = Solution()\n",
    "s.sampleStats([0,1,3,4,0,0,0,0,0,0,0,0,0,0,0,0,0,0,0,0,0,0,0,0,0,0,0,0,0,0,0,0,0,0,0,0,0,0,0,0,0,0,0,0,0,0,0,0,0,0,0,0,0,0,0,0,0,0,0,0,0,0,0,0,0,0,0,0,0,0,0,0,0,0,0,0,0,0,0,0,0,0,0,0,0,0,0,0,0,0,0,0,0,0,0,0,0,0,0,0,0,0,0,0,0,0,0,0,0,0,0,0,0,0,0,0,0,0,0,0,0,0,0,0,0,0,0,0,0,0,0,0,0,0,0,0,0,0,0,0,0,0,0,0,0,0,0,0,0,0,0,0,0,0,0,0,0,0,0,0,0,0,0,0,0,0,0,0,0,0,0,0,0,0,0,0,0,0,0,0,0,0,0,0,0,0,0,0,0,0,0,0,0,0,0,0,0,0,0,0,0,0,0,0,0,0,0,0,0,0,0,0,0,0,0,0,0,0,0,0,0,0,0,0,0,0,0,0,0,0,0,0,0,0,0,0,0,0,0,0,0,0,0,0,0,0,0,0,0,0,0,0,0,0,0,0])\n",
    "        "
   ]
  },
  {
   "cell_type": "code",
   "execution_count": null,
   "metadata": {},
   "outputs": [],
   "source": []
  }
 ],
 "metadata": {
  "kernelspec": {
   "display_name": "Python 3",
   "language": "python",
   "name": "python3"
  },
  "language_info": {
   "codemirror_mode": {
    "name": "ipython",
    "version": 3
   },
   "file_extension": ".py",
   "mimetype": "text/x-python",
   "name": "python",
   "nbconvert_exporter": "python",
   "pygments_lexer": "ipython3",
   "version": "3.6.0"
  },
  "toc": {
   "base_numbering": 1,
   "nav_menu": {},
   "number_sections": true,
   "sideBar": true,
   "skip_h1_title": false,
   "title_cell": "Table of Contents",
   "title_sidebar": "Contents",
   "toc_cell": false,
   "toc_position": {},
   "toc_section_display": true,
   "toc_window_display": false
  }
 },
 "nbformat": 4,
 "nbformat_minor": 2
}
