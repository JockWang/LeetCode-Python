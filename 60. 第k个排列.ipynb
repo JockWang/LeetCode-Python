{
 "cells": [
  {
   "cell_type": "code",
   "execution_count": 65,
   "metadata": {},
   "outputs": [
    {
     "data": {
      "text/plain": [
       "'213'"
      ]
     },
     "execution_count": 65,
     "metadata": {},
     "output_type": "execute_result"
    }
   ],
   "source": [
    "class Solution:\n",
    "    def getPermutation(self, n: int, k: int) -> str:\n",
    "        \n",
    "        def getArr(arr, string):\n",
    "            nonlocal count,k,res\n",
    "            if len(arr) == 0:\n",
    "                count+=1\n",
    "                if count == k:\n",
    "                    res = string\n",
    "            for i in range(len(arr)):\n",
    "                if count < k:\n",
    "                    getArr(arr[:i]+arr[i+1:], string+str(arr[i]))\n",
    "        count = 0\n",
    "        res = ''\n",
    "        arrs = [i for i in range(1,n+1)]\n",
    "        getArr(arrs,'')\n",
    "        return res\n",
    "s = Solution()\n",
    "s.getPermutation(3,3)"
   ]
  },
  {
   "cell_type": "code",
   "execution_count": null,
   "metadata": {},
   "outputs": [],
   "source": []
  }
 ],
 "metadata": {
  "kernelspec": {
   "display_name": "Python 3",
   "language": "python",
   "name": "python3"
  },
  "language_info": {
   "codemirror_mode": {
    "name": "ipython",
    "version": 3
   },
   "file_extension": ".py",
   "mimetype": "text/x-python",
   "name": "python",
   "nbconvert_exporter": "python",
   "pygments_lexer": "ipython3",
   "version": "3.6.8"
  },
  "toc": {
   "base_numbering": 1,
   "nav_menu": {},
   "number_sections": true,
   "sideBar": true,
   "skip_h1_title": false,
   "title_cell": "Table of Contents",
   "title_sidebar": "Contents",
   "toc_cell": false,
   "toc_position": {},
   "toc_section_display": true,
   "toc_window_display": false
  }
 },
 "nbformat": 4,
 "nbformat_minor": 2
}
