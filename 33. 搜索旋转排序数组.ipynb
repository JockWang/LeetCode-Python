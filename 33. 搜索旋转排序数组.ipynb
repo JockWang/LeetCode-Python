{
 "cells": [
  {
   "cell_type": "code",
   "execution_count": 26,
   "metadata": {},
   "outputs": [
    {
     "name": "stdout",
     "output_type": "stream",
     "text": [
      "[7, 8, 1, 2]\n",
      "[7, 8]\n"
     ]
    },
    {
     "data": {
      "text/plain": [
       "1"
      ]
     },
     "execution_count": 26,
     "metadata": {},
     "output_type": "execute_result"
    }
   ],
   "source": [
    "class Solution:\n",
    "    def search(self, nums: [int], target: int) -> int:\n",
    "        if target not in nums:\n",
    "            return -1\n",
    "        point = len(nums)//2\n",
    "        if target == nums[point]:\n",
    "            return point\n",
    "        elif nums[0] == target:\n",
    "            return 0\n",
    "        elif nums[-1] == target:\n",
    "            return len(nums)-1\n",
    "#         elif nums[0] > target and nums[point] > target:\n",
    "#             return point+self.search(nums[point+1:],target)\n",
    "#         elif (nums[0] < target and nums[point] > target) or (nums[0] > target and nums[point] > target):\n",
    "#         elif nums[point] > target:\n",
    "        elif target in nums[:point]:\n",
    "            print(nums[:point])\n",
    "            return self.search(nums[:point],target)\n",
    "#         elif nums[0] > target and nums[point] < target:\n",
    "#             return point+self.search(nums[point+1:],target)\n",
    "        else:\n",
    "            print(nums[point+1:])\n",
    "            return point+self.search(nums[point+1:],target)+1\n",
    "        \n",
    "s = Solution()\n",
    "s.search([7,8,1,2,3,4,5,6],8)"
   ]
  },
  {
   "cell_type": "code",
   "execution_count": null,
   "metadata": {},
   "outputs": [],
   "source": []
  }
 ],
 "metadata": {
  "kernelspec": {
   "display_name": "Python 3",
   "language": "python",
   "name": "python3"
  },
  "language_info": {
   "codemirror_mode": {
    "name": "ipython",
    "version": 3
   },
   "file_extension": ".py",
   "mimetype": "text/x-python",
   "name": "python",
   "nbconvert_exporter": "python",
   "pygments_lexer": "ipython3",
   "version": "3.6.0"
  },
  "toc": {
   "base_numbering": 1,
   "nav_menu": {},
   "number_sections": true,
   "sideBar": true,
   "skip_h1_title": false,
   "title_cell": "Table of Contents",
   "title_sidebar": "Contents",
   "toc_cell": false,
   "toc_position": {},
   "toc_section_display": true,
   "toc_window_display": false
  }
 },
 "nbformat": 4,
 "nbformat_minor": 2
}
