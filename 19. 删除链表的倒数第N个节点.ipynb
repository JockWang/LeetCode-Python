{
 "cells": [
  {
   "cell_type": "code",
   "execution_count": 8,
   "metadata": {},
   "outputs": [
    {
     "name": "stdout",
     "output_type": "stream",
     "text": [
      "1\n",
      "2\n",
      "3\n",
      "5\n"
     ]
    }
   ],
   "source": [
    "# Definition for singly-linked list.\n",
    "class ListNode:\n",
    "    def __init__(self, x):\n",
    "        self.val = x\n",
    "        self.next = None\n",
    "\n",
    "class Solution:\n",
    "    def removeNthFromEnd(self, head: ListNode, n: int) -> ListNode:\n",
    "        save = []\n",
    "        while head.next != None:\n",
    "            save.append(head.val)\n",
    "            head = head.next\n",
    "            \n",
    "        save.append(head.val)\n",
    "        node = None\n",
    "        mylist = None\n",
    "        for i in range(len(save)):\n",
    "            if i != len(save)-n:\n",
    "                if mylist != None:\n",
    "                    node.next = ListNode(save[i])\n",
    "                    node = node.next\n",
    "                else:\n",
    "                    node = ListNode(save[i])\n",
    "                    mylist = node\n",
    "        return mylist\n",
    "\n",
    "def output(node):\n",
    "    while node.next!=None:\n",
    "        print(node.val)\n",
    "        node = node.next\n",
    "    print(node.val)\n",
    "node = ListNode(1)\n",
    "node1 = ListNode(2)\n",
    "node2 = ListNode(3)\n",
    "node3 = ListNode(4)\n",
    "node4 = ListNode(5)\n",
    "node.next = node1\n",
    "node1.next = node2\n",
    "node2.next = node3\n",
    "node3.next = node4\n",
    "s = Solution()\n",
    "output(s.removeNthFromEnd(node,2))\n"
   ]
  }
 ],
 "metadata": {
  "kernelspec": {
   "display_name": "Python 3",
   "language": "python",
   "name": "python3"
  },
  "language_info": {
   "codemirror_mode": {
    "name": "ipython",
    "version": 3
   },
   "file_extension": ".py",
   "mimetype": "text/x-python",
   "name": "python",
   "nbconvert_exporter": "python",
   "pygments_lexer": "ipython3",
   "version": "3.6.0"
  },
  "toc": {
   "base_numbering": 1,
   "nav_menu": {},
   "number_sections": true,
   "sideBar": true,
   "skip_h1_title": false,
   "title_cell": "Table of Contents",
   "title_sidebar": "Contents",
   "toc_cell": false,
   "toc_position": {},
   "toc_section_display": true,
   "toc_window_display": false
  }
 },
 "nbformat": 4,
 "nbformat_minor": 2
}
