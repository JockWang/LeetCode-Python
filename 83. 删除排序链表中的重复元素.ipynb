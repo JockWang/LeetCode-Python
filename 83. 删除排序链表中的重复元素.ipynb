{
 "cells": [
  {
   "cell_type": "code",
   "execution_count": 4,
   "metadata": {},
   "outputs": [],
   "source": [
    "# Definition for singly-linked list.\n",
    "class ListNode:\n",
    "    def __init__(self, x):\n",
    "        self.val = x\n",
    "        self.next = None\n",
    "\n",
    "class Solution:\n",
    "    def deleteDuplicates(self, head: ListNode) -> ListNode:\n",
    "        if head == None:\n",
    "            return head\n",
    "        one = head\n",
    "        point = head.next\n",
    "        while(point != None):\n",
    "            if point.val == one.val:\n",
    "                point = point.next\n",
    "                one.next = point\n",
    "            else:\n",
    "                one = point\n",
    "                point = one.next\n",
    "        return head\n",
    "\n",
    "l = ListNode(1)\n",
    "l2 = ListNode(1)\n",
    "l3 = ListNode(2)\n",
    "l4 = ListNode(2)\n",
    "l.next = l2\n",
    "l2.next = l3\n",
    "l3.next = l4\n",
    "    \n",
    "s = Solution()\n",
    "tt = s.deleteDuplicates(None)\n",
    "def pr(l):\n",
    "    while(l!=None):\n",
    "        print(l.val)\n",
    "        l = l.next\n",
    "pr(tt)"
   ]
  },
  {
   "cell_type": "code",
   "execution_count": null,
   "metadata": {},
   "outputs": [],
   "source": []
  }
 ],
 "metadata": {
  "kernelspec": {
   "display_name": "Python 3",
   "language": "python",
   "name": "python3"
  },
  "language_info": {
   "codemirror_mode": {
    "name": "ipython",
    "version": 3
   },
   "file_extension": ".py",
   "mimetype": "text/x-python",
   "name": "python",
   "nbconvert_exporter": "python",
   "pygments_lexer": "ipython3",
   "version": "3.6.0"
  }
 },
 "nbformat": 4,
 "nbformat_minor": 2
}
