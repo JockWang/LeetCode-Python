{
 "cells": [
  {
   "cell_type": "code",
   "execution_count": 35,
   "metadata": {},
   "outputs": [
    {
     "data": {
      "text/plain": [
       "2"
      ]
     },
     "execution_count": 35,
     "metadata": {},
     "output_type": "execute_result"
    }
   ],
   "source": [
    "class Solution:\n",
    "    def uniquePathsWithObstacles(self, obstacleGrid: [[int]]) -> int:\n",
    "        if len(obstacleGrid) == 0:\n",
    "            return 0\n",
    "        for i in range(len(obstacleGrid)):\n",
    "            for j in range(len(obstacleGrid[i])):\n",
    "                if obstacleGrid[i][j] != 0:\n",
    "                    obstacleGrid[i][j] = 0\n",
    "                    if i == 0:\n",
    "                        temp = j+1\n",
    "                        while temp < len(obstacleGrid[i]):\n",
    "                            obstacleGrid[i][temp] = 1\n",
    "                            temp += 1\n",
    "                    if j == 0:\n",
    "                        temp = i+1\n",
    "                        while temp < len(obstacleGrid):\n",
    "                            obstacleGrid[temp][j] = 1\n",
    "                            temp += 1\n",
    "                    continue\n",
    "                if i == 0 or j == 0:\n",
    "                    obstacleGrid[i][j] = 1\n",
    "                else:\n",
    "                    obstacleGrid[i][j] = obstacleGrid[i-1][j]+obstacleGrid[i][j-1]\n",
    "        return obstacleGrid[len(obstacleGrid)-1][len(obstacleGrid[-1])-1]\n",
    "s = Solution()\n",
    "s.uniquePathsWithObstacles([[0,0,0],[0,1,0],[0,0,0]])"
   ]
  },
  {
   "cell_type": "code",
   "execution_count": null,
   "metadata": {},
   "outputs": [],
   "source": []
  }
 ],
 "metadata": {
  "kernelspec": {
   "display_name": "Python 3",
   "language": "python",
   "name": "python3"
  },
  "language_info": {
   "codemirror_mode": {
    "name": "ipython",
    "version": 3
   },
   "file_extension": ".py",
   "mimetype": "text/x-python",
   "name": "python",
   "nbconvert_exporter": "python",
   "pygments_lexer": "ipython3",
   "version": "3.6.0"
  },
  "toc": {
   "base_numbering": 1,
   "nav_menu": {},
   "number_sections": true,
   "sideBar": true,
   "skip_h1_title": false,
   "title_cell": "Table of Contents",
   "title_sidebar": "Contents",
   "toc_cell": false,
   "toc_position": {},
   "toc_section_display": true,
   "toc_window_display": false
  }
 },
 "nbformat": 4,
 "nbformat_minor": 2
}
