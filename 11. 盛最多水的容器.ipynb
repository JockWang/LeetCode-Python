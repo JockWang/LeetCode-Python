{
 "cells": [
  {
   "cell_type": "code",
   "execution_count": 1,
   "metadata": {},
   "outputs": [
    {
     "data": {
      "text/plain": [
       "49"
      ]
     },
     "execution_count": 1,
     "metadata": {},
     "output_type": "execute_result"
    }
   ],
   "source": [
    "class Solution:\n",
    "    def maxArea(self, height: [int]) -> int:\n",
    "        area = 0\n",
    "        y = len(height)-1\n",
    "        x = 0\n",
    "        while x != y:\n",
    "            a = min(height[y],height[x]) * abs(x-y)\n",
    "            if a > area:\n",
    "                area = a\n",
    "            if height[x] < height[y]:\n",
    "                x += 1\n",
    "            else:\n",
    "                y -= 1               \n",
    "        return area\n",
    "s = Solution()\n",
    "s.maxArea([1,8,6,2,5,4,8,3,7])"
   ]
  }
 ],
 "metadata": {
  "kernelspec": {
   "display_name": "Python 3",
   "language": "python",
   "name": "python3"
  },
  "language_info": {
   "codemirror_mode": {
    "name": "ipython",
    "version": 3
   },
   "file_extension": ".py",
   "mimetype": "text/x-python",
   "name": "python",
   "nbconvert_exporter": "python",
   "pygments_lexer": "ipython3",
   "version": "3.6.0"
  }
 },
 "nbformat": 4,
 "nbformat_minor": 2
}
