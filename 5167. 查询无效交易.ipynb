{
 "cells": [
  {
   "cell_type": "code",
   "execution_count": 12,
   "metadata": {},
   "outputs": [
    {
     "name": "stdout",
     "output_type": "stream",
     "text": [
      "{'bob': {'data': ['bob,627,1973,amsterdam'], 'time': [627], 'money': [1973], 'city': ['amsterdam']}, 'alex': {'data': ['alex,387,885,bangkok', 'alex,355,1029,barcelona'], 'time': [387, 355], 'money': [885, 1029], 'city': ['bangkok', 'barcelona']}}\n"
     ]
    },
    {
     "data": {
      "text/plain": [
       "['bob,627,1973,amsterdam', 'alex,355,1029,barcelona', 'alex,387,885,bangkok']"
      ]
     },
     "execution_count": 12,
     "metadata": {},
     "output_type": "execute_result"
    }
   ],
   "source": [
    "class Solution:\n",
    "    def invalidTransactions(self, transactions: [str]) -> [str]:\n",
    "        dic = {}\n",
    "        result = []\n",
    "        for trans in transactions:\n",
    "            data = trans.split(',')\n",
    "            name = data[0]\n",
    "            time = int(data[1])\n",
    "            money = int(data[2])\n",
    "            city = data[-1]\n",
    "            if money > 1000:\n",
    "                result.append(trans)\n",
    "            if name not in dic:\n",
    "                dic[name] = {}\n",
    "                dic[name]['data'] = [trans]\n",
    "                dic[name]['time'] = [time]\n",
    "                dic[name]['money'] = [money]\n",
    "                dic[name]['city'] = [city]\n",
    "            else:\n",
    "                dic[name]['data'].append(trans)\n",
    "                dic[name]['time'].append(time)\n",
    "                dic[name]['money'].append(money)\n",
    "                dic[name]['city'].append(city)\n",
    "        print(dic)\n",
    "        for d in dic:\n",
    "            if len(dic[d]['time']) > 1:\n",
    "                for i in range(len(dic[d]['time'])):\n",
    "                    flag = False\n",
    "                    for j in range(i+1,len(dic[d]['time'])):\n",
    "                        if dic[d]['city'][i] != dic[d]['city'][j] and abs(dic[d]['time'][i]-dic[d]['time'][j]) <= 60:\n",
    "                            if dic[d]['data'][j] not in result:\n",
    "                                result.append(dic[d]['data'][j])\n",
    "                            flag = True\n",
    "                    if flag:\n",
    "                        if dic[d]['data'][i] not in result:\n",
    "                            result.append(dic[d]['data'][i])\n",
    "        return result\n",
    "s = Solution()\n",
    "s.invalidTransactions([\"bob,627,1973,amsterdam\",\"alex,387,885,bangkok\",\"alex,355,1029,barcelona\"])"
   ]
  },
  {
   "cell_type": "code",
   "execution_count": null,
   "metadata": {},
   "outputs": [],
   "source": []
  }
 ],
 "metadata": {
  "kernelspec": {
   "display_name": "Python 3",
   "language": "python",
   "name": "python3"
  },
  "language_info": {
   "codemirror_mode": {
    "name": "ipython",
    "version": 3
   },
   "file_extension": ".py",
   "mimetype": "text/x-python",
   "name": "python",
   "nbconvert_exporter": "python",
   "pygments_lexer": "ipython3",
   "version": "3.6.0"
  },
  "toc": {
   "base_numbering": 1,
   "nav_menu": {},
   "number_sections": true,
   "sideBar": true,
   "skip_h1_title": false,
   "title_cell": "Table of Contents",
   "title_sidebar": "Contents",
   "toc_cell": false,
   "toc_position": {},
   "toc_section_display": true,
   "toc_window_display": false
  }
 },
 "nbformat": 4,
 "nbformat_minor": 2
}
