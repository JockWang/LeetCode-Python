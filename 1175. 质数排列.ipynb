{
 "cells": [
  {
   "cell_type": "code",
   "execution_count": 10,
   "metadata": {},
   "outputs": [
    {
     "data": {
      "text/plain": [
       "274158593"
      ]
     },
     "execution_count": 10,
     "metadata": {},
     "output_type": "execute_result"
    }
   ],
   "source": [
    "class Solution:\n",
    "    def numPrimeArrangements(self, n: int) -> int:\n",
    "        count = 0\n",
    "        if n <= 2:\n",
    "            return 0\n",
    "        else:\n",
    "            for i in range(3,n+1):\n",
    "                flag = False\n",
    "                for j in range(2,i):\n",
    "                    if i%j == 0:\n",
    "                        flag = True\n",
    "                        break\n",
    "                if not flag:\n",
    "                    count += 1\n",
    "        a = 1\n",
    "        b = 1\n",
    "        for i in range(1,count+1):\n",
    "            a *= i\n",
    "        for i in range(1,(n-count)+1):\n",
    "            b *= i\n",
    "        return (a%(10**9+7))*(b%(10**9+7))%(10**9+7)\n",
    "        \n",
    "s = Solution()\n",
    "s.numPrimeArrangements(100)"
   ]
  },
  {
   "cell_type": "code",
   "execution_count": null,
   "metadata": {},
   "outputs": [],
   "source": []
  }
 ],
 "metadata": {
  "kernelspec": {
   "display_name": "Python 3",
   "language": "python",
   "name": "python3"
  },
  "language_info": {
   "codemirror_mode": {
    "name": "ipython",
    "version": 3
   },
   "file_extension": ".py",
   "mimetype": "text/x-python",
   "name": "python",
   "nbconvert_exporter": "python",
   "pygments_lexer": "ipython3",
   "version": "3.6.8"
  }
 },
 "nbformat": 4,
 "nbformat_minor": 2
}
