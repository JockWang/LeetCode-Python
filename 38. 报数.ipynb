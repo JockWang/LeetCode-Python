{
 "cells": [
  {
   "cell_type": "code",
   "execution_count": 15,
   "metadata": {},
   "outputs": [
    {
     "data": {
      "text/plain": [
       "'111221'"
      ]
     },
     "execution_count": 15,
     "metadata": {},
     "output_type": "execute_result"
    }
   ],
   "source": [
    "class Solution:\n",
    "    def countAndSay(self, n: int) -> str:\n",
    "        if n == 1:\n",
    "            return str(1)\n",
    "        string = '1'\n",
    "        i = 1\n",
    "        flag = 0\n",
    "        while i < n:\n",
    "            temp = ''\n",
    "            flag = 0\n",
    "            for t in range(len(string)):\n",
    "                if t+1 < len(string) and string[t] != string[t+1]:\n",
    "                    temp += (str(len(string[flag:t+1]))+string[t])\n",
    "                    flag = t+1\n",
    "                elif t+1 == len(string):\n",
    "                    temp += (str(len(string[flag:t+1]))+string[t])\n",
    "            string = temp\n",
    "            i += 1\n",
    "        return string\n",
    "s = Solution()\n",
    "s.countAndSay(5)"
   ]
  },
  {
   "cell_type": "code",
   "execution_count": null,
   "metadata": {},
   "outputs": [],
   "source": []
  }
 ],
 "metadata": {
  "kernelspec": {
   "display_name": "Python 3",
   "language": "python",
   "name": "python3"
  },
  "language_info": {
   "codemirror_mode": {
    "name": "ipython",
    "version": 3
   },
   "file_extension": ".py",
   "mimetype": "text/x-python",
   "name": "python",
   "nbconvert_exporter": "python",
   "pygments_lexer": "ipython3",
   "version": "3.6.0"
  },
  "toc": {
   "base_numbering": 1,
   "nav_menu": {},
   "number_sections": true,
   "sideBar": true,
   "skip_h1_title": false,
   "title_cell": "Table of Contents",
   "title_sidebar": "Contents",
   "toc_cell": false,
   "toc_position": {},
   "toc_section_display": true,
   "toc_window_display": false
  }
 },
 "nbformat": 4,
 "nbformat_minor": 2
}
