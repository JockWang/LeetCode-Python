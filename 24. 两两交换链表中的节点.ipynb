{
 "cells": [
  {
   "cell_type": "code",
   "execution_count": 5,
   "metadata": {},
   "outputs": [
    {
     "name": "stdout",
     "output_type": "stream",
     "text": [
      "1\n"
     ]
    }
   ],
   "source": [
    "# Definition for singly-linked list.\n",
    "class ListNode:\n",
    "    def __init__(self, x):\n",
    "        self.val = x\n",
    "        self.next = None\n",
    "\n",
    "class Solution:\n",
    "    def swapPairs(self, head: ListNode) -> ListNode:\n",
    "        flag = True\n",
    "        my_list = ListNode(None)\n",
    "        my_list.next = head\n",
    "        point = my_list\n",
    "        while head:\n",
    "            if flag and head.next:\n",
    "                point.next = head.next\n",
    "                point = point.next\n",
    "                head.next = point.next\n",
    "                point.next = head\n",
    "                flag = False\n",
    "            elif not flag and head.next:\n",
    "                head = head.next\n",
    "                point = point.next\n",
    "                flag = True\n",
    "            else:\n",
    "                break\n",
    "        return my_list.next\n",
    "\n",
    "def printNode(head):\n",
    "    while head:\n",
    "        print(head.val)\n",
    "        head = head.next\n",
    "    \n",
    "a = ListNode(1)\n",
    "s = Solution()\n",
    "printNode(s.swapPairs(a))             "
   ]
  },
  {
   "cell_type": "code",
   "execution_count": null,
   "metadata": {},
   "outputs": [],
   "source": []
  }
 ],
 "metadata": {
  "kernelspec": {
   "display_name": "Python 3",
   "language": "python",
   "name": "python3"
  },
  "language_info": {
   "codemirror_mode": {
    "name": "ipython",
    "version": 3
   },
   "file_extension": ".py",
   "mimetype": "text/x-python",
   "name": "python",
   "nbconvert_exporter": "python",
   "pygments_lexer": "ipython3",
   "version": "3.6.8"
  },
  "toc": {
   "base_numbering": 1,
   "nav_menu": {},
   "number_sections": true,
   "sideBar": true,
   "skip_h1_title": false,
   "title_cell": "Table of Contents",
   "title_sidebar": "Contents",
   "toc_cell": false,
   "toc_position": {},
   "toc_section_display": true,
   "toc_window_display": false
  }
 },
 "nbformat": 4,
 "nbformat_minor": 2
}
