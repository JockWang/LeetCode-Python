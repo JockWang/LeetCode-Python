{
 "cells": [
  {
   "cell_type": "code",
   "execution_count": 13,
   "metadata": {},
   "outputs": [
    {
     "name": "stdout",
     "output_type": "stream",
     "text": [
      "2\n",
      "1\n",
      "4\n",
      "3\n"
     ]
    }
   ],
   "source": [
    "# Definition for singly-linked list.\n",
    "class ListNode:\n",
    "    def __init__(self, x):\n",
    "        self.val = x\n",
    "        self.next = None\n",
    "\n",
    "class Solution:\n",
    "    def swapPairs(self, head: ListNode) -> ListNode:\n",
    "        one = ListNode(None)\n",
    "        one.next = head\n",
    "        point_left = one\n",
    "        point_right = one\n",
    "        flag = 0\n",
    "        while point_right != None:\n",
    "            if flag == 0 and point_right.next != None:\n",
    "                point_right = point_right.next\n",
    "                flag = 1\n",
    "            elif flag == 1 and point_right.next != None:\n",
    "                start = point_left.next\n",
    "                end = point_right.next\n",
    "                temp = end.next\n",
    "                point_left.next = end\n",
    "                end.next = start\n",
    "                start.next = temp\n",
    "                point_right = temp\n",
    "                point_left = start\n",
    "            else:\n",
    "                break\n",
    "        return one.next\n",
    "\n",
    "def show(l):\n",
    "    while l != None:\n",
    "        print(l.val)\n",
    "        l = l.next\n",
    "l = ListNode(1)\n",
    "l1 = ListNode(2)\n",
    "l2 = ListNode(3)\n",
    "l3 = ListNode(4)\n",
    "l.next = l1\n",
    "l1.next = l2\n",
    "l2.next = l3\n",
    "s = Solution()\n",
    "show(s.swapPairs(l))"
   ]
  },
  {
   "cell_type": "code",
   "execution_count": null,
   "metadata": {},
   "outputs": [],
   "source": []
  }
 ],
 "metadata": {
  "kernelspec": {
   "display_name": "Python 3",
   "language": "python",
   "name": "python3"
  },
  "language_info": {
   "codemirror_mode": {
    "name": "ipython",
    "version": 3
   },
   "file_extension": ".py",
   "mimetype": "text/x-python",
   "name": "python",
   "nbconvert_exporter": "python",
   "pygments_lexer": "ipython3",
   "version": "3.6.0"
  },
  "toc": {
   "base_numbering": 1,
   "nav_menu": {},
   "number_sections": true,
   "sideBar": true,
   "skip_h1_title": false,
   "title_cell": "Table of Contents",
   "title_sidebar": "Contents",
   "toc_cell": false,
   "toc_position": {},
   "toc_section_display": true,
   "toc_window_display": false
  }
 },
 "nbformat": 4,
 "nbformat_minor": 2
}
