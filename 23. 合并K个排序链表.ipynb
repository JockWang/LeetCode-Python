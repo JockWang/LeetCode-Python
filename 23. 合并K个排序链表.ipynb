{
 "cells": [
  {
   "cell_type": "code",
   "execution_count": null,
   "metadata": {},
   "outputs": [],
   "source": [
    "# Definition for singly-linked list.\n",
    "class ListNode:\n",
    "    def __init__(self, x):\n",
    "        self.val = x\n",
    "        self.next = None\n",
    "\n",
    "class Solution:\n",
    "    def mergeKLists(self, lists: [ListNode]) -> ListNode:\n",
    "        mylist = ListNode(None)\n",
    "        point = mylist\n",
    "        while len(lists) > 0:\n",
    "            temp = 0\n",
    "            min_ = 0\n",
    "            i = 0\n",
    "            while i < len(lists):\n",
    "                ln = lists[i]\n",
    "                if not ln:\n",
    "                    lists.pop(i)\n",
    "                    continue\n",
    "                if i == 0:\n",
    "                    min_ = ln.val\n",
    "                    temp = i\n",
    "                elif ln.val < min_:\n",
    "                    min_ = ln.val\n",
    "                    temp = i\n",
    "                i += 1\n",
    "            point.next = lists[temp].next\n",
    "            point = point.next\n",
    "            lists[temp] = lists[temp].next\n",
    "        return mylist.next\n",
    "        \n",
    "                           "
   ]
  }
 ],
 "metadata": {
  "kernelspec": {
   "display_name": "Python 3",
   "language": "python",
   "name": "python3"
  },
  "language_info": {
   "codemirror_mode": {
    "name": "ipython",
    "version": 3
   },
   "file_extension": ".py",
   "mimetype": "text/x-python",
   "name": "python",
   "nbconvert_exporter": "python",
   "pygments_lexer": "ipython3",
   "version": "3.6.8"
  },
  "toc": {
   "base_numbering": 1,
   "nav_menu": {},
   "number_sections": true,
   "sideBar": true,
   "skip_h1_title": false,
   "title_cell": "Table of Contents",
   "title_sidebar": "Contents",
   "toc_cell": false,
   "toc_position": {},
   "toc_section_display": true,
   "toc_window_display": false
  }
 },
 "nbformat": 4,
 "nbformat_minor": 2
}
