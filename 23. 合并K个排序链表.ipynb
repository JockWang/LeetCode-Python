{
 "cells": [
  {
   "cell_type": "code",
   "execution_count": 5,
   "metadata": {},
   "outputs": [
    {
     "name": "stdout",
     "output_type": "stream",
     "text": [
      "1\n",
      "1\n",
      "2\n",
      "3\n"
     ]
    }
   ],
   "source": [
    "class ListNode:\n",
    "    def __init__(self, x):\n",
    "        self.val = x\n",
    "        self.next = None\n",
    "\n",
    "class Solution:\n",
    "    def mergeKLists(self, lists: [ListNode]) -> ListNode:\n",
    "        head = ListNode(None)\n",
    "        point = head\n",
    "        s = []\n",
    "        for l in lists:\n",
    "            while l != None:\n",
    "                s.append(l.val)\n",
    "                l = l.next\n",
    "        s.sort()\n",
    "        for si in s:\n",
    "            point.next = ListNode(si)\n",
    "            point = point.next\n",
    "        return head.next\n",
    "\n",
    "    \n",
    "def show(l):\n",
    "    while l != None:\n",
    "        print(l.val)\n",
    "        l = l.next\n",
    "l = ListNode(1)\n",
    "l1 = ListNode(2)\n",
    "l2 = ListNode(3)\n",
    "l3 = ListNode(1)\n",
    "l.next = l1\n",
    "l1.next = l2\n",
    "l2.next = l3\n",
    "s = Solution()\n",
    "show(s.mergeKLists([l]))\n"
   ]
  },
  {
   "cell_type": "code",
   "execution_count": null,
   "metadata": {},
   "outputs": [],
   "source": []
  }
 ],
 "metadata": {
  "kernelspec": {
   "display_name": "Python 3",
   "language": "python",
   "name": "python3"
  },
  "language_info": {
   "codemirror_mode": {
    "name": "ipython",
    "version": 3
   },
   "file_extension": ".py",
   "mimetype": "text/x-python",
   "name": "python",
   "nbconvert_exporter": "python",
   "pygments_lexer": "ipython3",
   "version": "3.6.0"
  },
  "toc": {
   "base_numbering": 1,
   "nav_menu": {},
   "number_sections": true,
   "sideBar": true,
   "skip_h1_title": false,
   "title_cell": "Table of Contents",
   "title_sidebar": "Contents",
   "toc_cell": false,
   "toc_position": {},
   "toc_section_display": true,
   "toc_window_display": false
  }
 },
 "nbformat": 4,
 "nbformat_minor": 2
}
