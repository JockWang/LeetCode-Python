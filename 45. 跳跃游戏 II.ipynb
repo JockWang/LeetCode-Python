{
 "cells": [
  {
   "cell_type": "code",
   "execution_count": 4,
   "metadata": {},
   "outputs": [
    {
     "data": {
      "text/plain": [
       "2"
      ]
     },
     "execution_count": 4,
     "metadata": {},
     "output_type": "execute_result"
    }
   ],
   "source": [
    "class Solution:\n",
    "    def jump(self, nums: [int]) -> int:\n",
    "        count = 0\n",
    "        i = 0\n",
    "        while nums[i]+i < len(nums)-1:\n",
    "            count += 1\n",
    "            temp = 0\n",
    "            point = i\n",
    "            for j in range(i+1,nums[i]+i+1):\n",
    "                if nums[j]+j > temp:\n",
    "                    temp = nums[j]+j\n",
    "                    point = j\n",
    "            i = point\n",
    "        if nums[i]+i != 0:\n",
    "            return count+1\n",
    "        else:\n",
    "            return count\n",
    "s = Solution()\n",
    "s.jump([2,3,1,1,4])"
   ]
  },
  {
   "cell_type": "code",
   "execution_count": null,
   "metadata": {},
   "outputs": [],
   "source": []
  }
 ],
 "metadata": {
  "kernelspec": {
   "display_name": "Python 3",
   "language": "python",
   "name": "python3"
  },
  "language_info": {
   "codemirror_mode": {
    "name": "ipython",
    "version": 3
   },
   "file_extension": ".py",
   "mimetype": "text/x-python",
   "name": "python",
   "nbconvert_exporter": "python",
   "pygments_lexer": "ipython3",
   "version": "3.6.8"
  },
  "toc": {
   "base_numbering": 1,
   "nav_menu": {},
   "number_sections": true,
   "sideBar": true,
   "skip_h1_title": false,
   "title_cell": "Table of Contents",
   "title_sidebar": "Contents",
   "toc_cell": false,
   "toc_position": {},
   "toc_section_display": true,
   "toc_window_display": false
  }
 },
 "nbformat": 4,
 "nbformat_minor": 2
}
