{
 "cells": [
  {
   "cell_type": "code",
   "execution_count": 4,
   "metadata": {},
   "outputs": [
    {
     "data": {
      "text/plain": [
       "2"
      ]
     },
     "execution_count": 4,
     "metadata": {},
     "output_type": "execute_result"
    }
   ],
   "source": [
    "class Solution:\n",
    "    def trap(self, height: [int]) -> int:\n",
    "        res = 0\n",
    "        height = self.freash(height)\n",
    "        while len(height) >= 3:\n",
    "            for i in range(len(height)):\n",
    "                temp = height[i]-1\n",
    "                if temp == -1:\n",
    "                    height[i] = 0\n",
    "                    res += 1\n",
    "                else:\n",
    "                    height[i] = temp\n",
    "            height = self.freash(height)\n",
    "        return res\n",
    "    \n",
    "    def freash(self,height):\n",
    "        left = -1\n",
    "        right = -1\n",
    "        for i in range(len(height)):\n",
    "            if height[i] != 0:\n",
    "                left = i\n",
    "                break\n",
    "        for i in range(len(height)-1,-1,-1):\n",
    "            if height[i] != 0:\n",
    "                right = i\n",
    "                break\n",
    "        he = []\n",
    "        for i in range(len(height)):\n",
    "            if i >= left and i <= right:\n",
    "                he.append(height[i])\n",
    "        return he\n",
    "s = Solution()\n",
    "s.trap([2,0,2])"
   ]
  },
  {
   "cell_type": "code",
   "execution_count": null,
   "metadata": {},
   "outputs": [],
   "source": []
  }
 ],
 "metadata": {
  "kernelspec": {
   "display_name": "Python 3",
   "language": "python",
   "name": "python3"
  },
  "language_info": {
   "codemirror_mode": {
    "name": "ipython",
    "version": 3
   },
   "file_extension": ".py",
   "mimetype": "text/x-python",
   "name": "python",
   "nbconvert_exporter": "python",
   "pygments_lexer": "ipython3",
   "version": "3.6.0"
  }
 },
 "nbformat": 4,
 "nbformat_minor": 2
}
