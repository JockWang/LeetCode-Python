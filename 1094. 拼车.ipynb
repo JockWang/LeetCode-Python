{
 "cells": [
  {
   "cell_type": "code",
   "execution_count": 15,
   "metadata": {},
   "outputs": [
    {
     "name": "stdout",
     "output_type": "stream",
     "text": [
      "到0\n",
      "到1\n",
      "到2\n",
      "到3\n",
      "[4, 3, 5]上车\n",
      "[2, 3, 5]上车\n",
      "到4\n",
      "[6, 4, 7]上车\n",
      "到5\n",
      "[4, 3, 5]下车\n",
      "[2, 3, 5]下车\n",
      "[4, 5, 6]上车\n",
      "到6\n",
      "[4, 5, 6]下车\n",
      "到7\n",
      "[6, 4, 7]下车\n",
      "到8\n"
     ]
    },
    {
     "data": {
      "text/plain": [
       "True"
      ]
     },
     "execution_count": 15,
     "metadata": {},
     "output_type": "execute_result"
    }
   ],
   "source": [
    "class Solution:\n",
    "    def carPooling(self, trips: [[int]], capacity: int) -> bool:\n",
    "        if len(trips) == 0:\n",
    "            return True\n",
    "        num = 0\n",
    "        now = 0\n",
    "        up = 0\n",
    "        while(True):\n",
    "            print(\"到\"+str(now))\n",
    "            if up == len(trips):\n",
    "                return True\n",
    "            for t in trips:\n",
    "                if t[2] == now:\n",
    "                    num -= t[0]\n",
    "                    print(str(t)+\"下车\")\n",
    "                    up += 1\n",
    "            for t in trips:\n",
    "                if t[1] == now and t[0]+num > capacity:\n",
    "                    return False\n",
    "                if t[1] == now and t[0]+num <= capacity:\n",
    "                    num += t[0]\n",
    "                    print(str(t)+\"上车\")\n",
    "            now += 1\n",
    "s = Solution()\n",
    "s.carPooling([[4,5,6],[6,4,7],[4,3,5],[2,3,5]],13)"
   ]
  },
  {
   "cell_type": "code",
   "execution_count": null,
   "metadata": {},
   "outputs": [],
   "source": []
  }
 ],
 "metadata": {
  "kernelspec": {
   "display_name": "Python 3",
   "language": "python",
   "name": "python3"
  },
  "language_info": {
   "codemirror_mode": {
    "name": "ipython",
    "version": 3
   },
   "file_extension": ".py",
   "mimetype": "text/x-python",
   "name": "python",
   "nbconvert_exporter": "python",
   "pygments_lexer": "ipython3",
   "version": "3.6.0"
  },
  "toc": {
   "base_numbering": 1,
   "nav_menu": {},
   "number_sections": true,
   "sideBar": true,
   "skip_h1_title": false,
   "title_cell": "Table of Contents",
   "title_sidebar": "Contents",
   "toc_cell": false,
   "toc_position": {},
   "toc_section_display": true,
   "toc_window_display": false
  }
 },
 "nbformat": 4,
 "nbformat_minor": 2
}
