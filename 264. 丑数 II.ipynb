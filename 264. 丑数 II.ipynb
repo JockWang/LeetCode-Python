{
 "cells": [
  {
   "cell_type": "code",
   "execution_count": 12,
   "metadata": {},
   "outputs": [
    {
     "data": {
      "text/plain": [
       "12"
      ]
     },
     "execution_count": 12,
     "metadata": {},
     "output_type": "execute_result"
    }
   ],
   "source": [
    "class Solution:\n",
    "    def nthUglyNumber(self, n: int) -> int:    \n",
    "        dp = [0]*n\n",
    "        dp[0] = 1\n",
    "        p1, p2, p3 = 0, 0, 0\n",
    "        for i in range(1, n):\n",
    "            dp[i] = min(2*dp[p1], 3*dp[p2], 5*dp[p3])\n",
    "            if dp[i] >= 2*dp[p1]:\n",
    "                p1 += 1\n",
    "            if dp[i] >= 3*dp[p2]:\n",
    "                p2 += 1\n",
    "            if dp[i] >= 5*dp[p3]:\n",
    "                p3 += 1\n",
    "        return dp[-1]\n",
    "s = Solution()\n",
    "s.nthUglyNumber(10)"
   ]
  },
  {
   "cell_type": "code",
   "execution_count": null,
   "metadata": {},
   "outputs": [],
   "source": []
  }
 ],
 "metadata": {
  "kernelspec": {
   "display_name": "Python 3",
   "language": "python",
   "name": "python3"
  },
  "language_info": {
   "codemirror_mode": {
    "name": "ipython",
    "version": 3
   },
   "file_extension": ".py",
   "mimetype": "text/x-python",
   "name": "python",
   "nbconvert_exporter": "python",
   "pygments_lexer": "ipython3",
   "version": "3.6.8"
  }
 },
 "nbformat": 4,
 "nbformat_minor": 2
}
