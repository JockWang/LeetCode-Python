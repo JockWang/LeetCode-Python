{
 "cells": [
  {
   "cell_type": "code",
   "execution_count": 15,
   "metadata": {},
   "outputs": [
    {
     "name": "stdout",
     "output_type": "stream",
     "text": [
      "[1, -2, 1, 1, -2, 1, 1, -2, 1, 1, -2, 1, 1, -2, 1]\n",
      "0 1 0 0\n",
      "0 2 1 1\n",
      "0 3 -1 1\n",
      "1 3 -1 1\n",
      "2 3 2 1\n",
      "2 4 3 3\n",
      "2 5 4 4\n",
      "2 6 2 4\n",
      "2 7 3 4\n",
      "2 8 4 4\n",
      "2 9 2 4\n",
      "2 10 3 4\n",
      "2 11 4 4\n",
      "2 12 2 4\n",
      "2 13 3 4\n",
      "2 14 4 4\n",
      "2 15 2 4\n"
     ]
    },
    {
     "data": {
      "text/plain": [
       "4"
      ]
     },
     "execution_count": 15,
     "metadata": {},
     "output_type": "execute_result"
    }
   ],
   "source": [
    "class Solution:\n",
    "    def kConcatenationMaxSum(self, arr: [int], k: int) -> int:\n",
    "        isFu = True\n",
    "        isZn = True\n",
    "        count = 0\n",
    "        for i in range(len(arr)):\n",
    "            count += arr[i]\n",
    "            if arr[i] > 0:\n",
    "                isFu = False\n",
    "            elif arr[i] < 0:\n",
    "                isZn = False\n",
    "        if isZn:\n",
    "            return count*k\n",
    "        if isFu:\n",
    "            return 0\n",
    "        arr = arr * k\n",
    "        print(arr)\n",
    "        lp = 0\n",
    "        rp = 1\n",
    "        max_ = 0\n",
    "        count = 0\n",
    "        while rp <= len(arr):\n",
    "            print(lp,rp,count,max_)\n",
    "            count += arr[rp-1]\n",
    "            if count >= arr[rp-1]:\n",
    "                rp += 1\n",
    "                if count > max_:\n",
    "                    max_ = count\n",
    "            else:\n",
    "                count -= arr[lp]\n",
    "                lp += 1\n",
    "        return max_\n",
    "s = Solution()\n",
    "s.kConcatenationMaxSum([1,-2,1],5)"
   ]
  },
  {
   "cell_type": "code",
   "execution_count": null,
   "metadata": {},
   "outputs": [],
   "source": []
  }
 ],
 "metadata": {
  "kernelspec": {
   "display_name": "Python 3",
   "language": "python",
   "name": "python3"
  },
  "language_info": {
   "codemirror_mode": {
    "name": "ipython",
    "version": 3
   },
   "file_extension": ".py",
   "mimetype": "text/x-python",
   "name": "python",
   "nbconvert_exporter": "python",
   "pygments_lexer": "ipython3",
   "version": "3.6.5"
  },
  "toc": {
   "base_numbering": 1,
   "nav_menu": {},
   "number_sections": true,
   "sideBar": true,
   "skip_h1_title": false,
   "title_cell": "Table of Contents",
   "title_sidebar": "Contents",
   "toc_cell": false,
   "toc_position": {},
   "toc_section_display": true,
   "toc_window_display": false
  }
 },
 "nbformat": 4,
 "nbformat_minor": 2
}
