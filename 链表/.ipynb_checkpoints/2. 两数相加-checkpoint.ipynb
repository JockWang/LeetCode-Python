{
 "cells": [
  {
   "cell_type": "code",
   "execution_count": 21,
   "metadata": {},
   "outputs": [
    {
     "name": "stdout",
     "output_type": "stream",
     "text": [
      "9\n",
      "1\n",
      "6\n"
     ]
    }
   ],
   "source": [
    "# Definition for singly-linked list.\n",
    "class ListNode:\n",
    "    def __init__(self, x):\n",
    "        self.val = x\n",
    "        self.next = None\n",
    "\n",
    "class Solution:\n",
    "    def addTwoNumbers(self, l1: ListNode, l2: ListNode) -> ListNode:\n",
    "        res = ListNode(None)\n",
    "        point = res\n",
    "        pre = 0\n",
    "        while l1 and l2:\n",
    "            temp = l1.val + l2.val + pre\n",
    "            if temp > 9:\n",
    "                pre = temp//10\n",
    "                temp = temp%10\n",
    "            else:\n",
    "                pre = 0\n",
    "            point.next = ListNode(temp)\n",
    "            point = point.next\n",
    "            l1 = l1.next\n",
    "            l2 = l2.next\n",
    "        while l1:\n",
    "            temp = l1.val + pre\n",
    "            l1 = l1.next\n",
    "            if temp > 9:\n",
    "                pre = temp//10\n",
    "                temp = temp%10\n",
    "            else:\n",
    "                pre = 0\n",
    "            point.next = ListNode(temp)\n",
    "            point = point.next\n",
    "        while l2:\n",
    "            temp = l2.val + pre\n",
    "            l2 = l2.next\n",
    "            if temp > 9:\n",
    "                pre = temp//10\n",
    "                temp = temp%10\n",
    "            else:\n",
    "                pre = 0\n",
    "            point.next = ListNode(temp)\n",
    "            point = point.next\n",
    "        if pre != 0:\n",
    "            point.next = ListNode(pre)\n",
    "        return res.next\n",
    "\n",
    "def printNode(head):\n",
    "    while head:\n",
    "        print(head.val)\n",
    "        head = head.next\n",
    "\n",
    "a = ListNode(9)\n",
    "b = ListNode(1)\n",
    "e = ListNode(6)\n",
    "a.next = b\n",
    "b.next = e\n",
    "c = ListNode(0)\n",
    "# d = ListNode(6)\n",
    "# f = ListNode(4)\n",
    "# c.next = d\n",
    "# d.next = f\n",
    "s = Solution()\n",
    "printNode(s.addTwoNumbers(a,c))"
   ]
  },
  {
   "cell_type": "code",
   "execution_count": null,
   "metadata": {},
   "outputs": [],
   "source": []
  }
 ],
 "metadata": {
  "kernelspec": {
   "display_name": "Python 3",
   "language": "python",
   "name": "python3"
  },
  "language_info": {
   "codemirror_mode": {
    "name": "ipython",
    "version": 3
   },
   "file_extension": ".py",
   "mimetype": "text/x-python",
   "name": "python",
   "nbconvert_exporter": "python",
   "pygments_lexer": "ipython3",
   "version": "3.6.8"
  }
 },
 "nbformat": 4,
 "nbformat_minor": 2
}
