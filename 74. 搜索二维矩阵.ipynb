{
 "cells": [
  {
   "cell_type": "code",
   "execution_count": 15,
   "metadata": {},
   "outputs": [
    {
     "data": {
      "text/plain": [
       "False"
      ]
     },
     "execution_count": 15,
     "metadata": {},
     "output_type": "execute_result"
    }
   ],
   "source": [
    "class Solution:\n",
    "    def searchMatrix(self, matrix: [[int]], target: int) -> bool:\n",
    "        if len(matrix) == 0 or len(matrix[0]) == 0:\n",
    "            return False\n",
    "        for m in matrix:\n",
    "            if target < m[-1]:\n",
    "                left = 0\n",
    "                right = len(m)-1\n",
    "                while left < right:\n",
    "                    point = (left+right)//2\n",
    "                    t = m[point]\n",
    "                    if t == target:\n",
    "                        return True\n",
    "                    elif t < target and left != point:\n",
    "                        left = point\n",
    "                    elif t > target and right != point:\n",
    "                        right = (left+right)//2\n",
    "                    else:\n",
    "                        break\n",
    "            elif target == m[-1]:\n",
    "                return True\n",
    "        return False\n",
    "        \n",
    "s = Solution()\n",
    "s.searchMatrix([[1]],0)"
   ]
  },
  {
   "cell_type": "code",
   "execution_count": null,
   "metadata": {},
   "outputs": [],
   "source": []
  }
 ],
 "metadata": {
  "kernelspec": {
   "display_name": "Python 3",
   "language": "python",
   "name": "python3"
  },
  "language_info": {
   "codemirror_mode": {
    "name": "ipython",
    "version": 3
   },
   "file_extension": ".py",
   "mimetype": "text/x-python",
   "name": "python",
   "nbconvert_exporter": "python",
   "pygments_lexer": "ipython3",
   "version": "3.6.0"
  },
  "toc": {
   "base_numbering": 1,
   "nav_menu": {},
   "number_sections": true,
   "sideBar": true,
   "skip_h1_title": false,
   "title_cell": "Table of Contents",
   "title_sidebar": "Contents",
   "toc_cell": false,
   "toc_position": {},
   "toc_section_display": true,
   "toc_window_display": false
  }
 },
 "nbformat": 4,
 "nbformat_minor": 2
}
