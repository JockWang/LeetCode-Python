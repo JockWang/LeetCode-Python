{
 "cells": [
  {
   "cell_type": "code",
   "execution_count": 8,
   "metadata": {},
   "outputs": [
    {
     "name": "stdout",
     "output_type": "stream",
     "text": [
      "[]\n",
      "[]\n"
     ]
    },
    {
     "data": {
      "text/plain": [
       "0"
      ]
     },
     "execution_count": 8,
     "metadata": {},
     "output_type": "execute_result"
    }
   ],
   "source": [
    "class Solution:\n",
    "    def maxRepOpt1(self, text: str) -> int:\n",
    "        if len(text) <= 1:\n",
    "            return len(text)\n",
    "        max_n = 0\n",
    "        temp = []\n",
    "        temps = []\n",
    "        flag = False\n",
    "        for i in range(1,len(text)):\n",
    "            if flag and text[i] == text[i-2]:\n",
    "                flag = False\n",
    "                temp.append(i-1)\n",
    "                temps.append(text[i])\n",
    "            flag = False\n",
    "            if text[i] != text[i-1]:\n",
    "                flag = True\n",
    "        print(temp)\n",
    "        print(temps)\n",
    "        for i in range(len(temp)):\n",
    "            count = 0\n",
    "            a = temp[i]-1\n",
    "            b = temp[i]+1\n",
    "            while text[a] == temps[i]:\n",
    "                if a >= 0 and text[a] == temps[i]:\n",
    "                    count += 1\n",
    "                    a -= 1\n",
    "                if a < 0:\n",
    "                    break\n",
    "            while text[b] == temps[i]:\n",
    "                if b < len(text) and text[b] == temps[i]:\n",
    "                    count += 1\n",
    "                    b += 1\n",
    "                if b >= len(text):\n",
    "                    break\n",
    "            if count > max_n:\n",
    "                max_n = count\n",
    "        return max_n\n",
    "\n",
    "s = Solution()\n",
    "s.maxRepOpt1(\"aaaaa\")"
   ]
  },
  {
   "cell_type": "code",
   "execution_count": null,
   "metadata": {},
   "outputs": [],
   "source": []
  }
 ],
 "metadata": {
  "kernelspec": {
   "display_name": "Python 3",
   "language": "python",
   "name": "python3"
  },
  "language_info": {
   "codemirror_mode": {
    "name": "ipython",
    "version": 3
   },
   "file_extension": ".py",
   "mimetype": "text/x-python",
   "name": "python",
   "nbconvert_exporter": "python",
   "pygments_lexer": "ipython3",
   "version": "3.6.0"
  }
 },
 "nbformat": 4,
 "nbformat_minor": 2
}
