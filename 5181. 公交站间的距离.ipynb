{
 "cells": [
  {
   "cell_type": "code",
   "execution_count": 10,
   "metadata": {},
   "outputs": [
    {
     "name": "stdout",
     "output_type": "stream",
     "text": [
      "[0, 17, 60, 60]\n"
     ]
    },
    {
     "data": {
      "text/plain": [
       "17"
      ]
     },
     "execution_count": 10,
     "metadata": {},
     "output_type": "execute_result"
    }
   ],
   "source": [
    "class Solution:\n",
    "    def distanceBetweenBusStops(self, distance: [int], start: int, destination: int) -> int:\n",
    "        lenght = [0]*4\n",
    "        temp = 0\n",
    "        if start > destination:\n",
    "            a = destination\n",
    "            destination = start\n",
    "            start = a\n",
    "        for i in range(1,len(distance)+1):\n",
    "            temp += distance[i-1]\n",
    "            if i == start:\n",
    "                lenght[1] = temp\n",
    "            if i == destination:\n",
    "                lenght[2] = temp\n",
    "            if i == len(distance):\n",
    "                lenght[3] = temp\n",
    "        print(lenght)\n",
    "        return min(lenght[2]-lenght[1],lenght[3]-lenght[2]+lenght[1]-lenght[0])\n",
    "s = Solution()\n",
    "s.distanceBetweenBusStops([7,10,1,12,11,14,5,0],7,2)"
   ]
  },
  {
   "cell_type": "code",
   "execution_count": null,
   "metadata": {},
   "outputs": [],
   "source": []
  }
 ],
 "metadata": {
  "kernelspec": {
   "display_name": "Python 3",
   "language": "python",
   "name": "python3"
  },
  "language_info": {
   "codemirror_mode": {
    "name": "ipython",
    "version": 3
   },
   "file_extension": ".py",
   "mimetype": "text/x-python",
   "name": "python",
   "nbconvert_exporter": "python",
   "pygments_lexer": "ipython3",
   "version": "3.6.5"
  },
  "toc": {
   "base_numbering": 1,
   "nav_menu": {},
   "number_sections": true,
   "sideBar": true,
   "skip_h1_title": false,
   "title_cell": "Table of Contents",
   "title_sidebar": "Contents",
   "toc_cell": false,
   "toc_position": {},
   "toc_section_display": true,
   "toc_window_display": false
  }
 },
 "nbformat": 4,
 "nbformat_minor": 2
}
