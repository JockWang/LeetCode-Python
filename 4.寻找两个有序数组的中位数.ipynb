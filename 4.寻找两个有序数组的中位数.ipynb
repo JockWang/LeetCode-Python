{
 "cells": [
  {
   "cell_type": "markdown",
   "metadata": {},
   "source": [
    "给定两个大小为 m 和 n 的有序数组 nums1 和 nums2。\n",
    "\n",
    "请你找出这两个有序数组的中位数，并且要求算法的时间复杂度为 O(log(m + n))。\n",
    "\n",
    "你可以假设 nums1 和 nums2 不会同时为空。\n",
    "\n",
    "示例 1:\n",
    "\n",
    "nums1 = [1, 3]\n",
    "nums2 = [2]\n",
    "\n",
    "则中位数是 2.0\n",
    "示例 2:\n",
    "\n",
    "nums1 = [1, 2]\n",
    "nums2 = [3, 4]\n",
    "\n",
    "则中位数是 (2 + 3)/2 = 2.5"
   ]
  },
  {
   "cell_type": "code",
   "execution_count": 1,
   "metadata": {},
   "outputs": [
    {
     "name": "stdout",
     "output_type": "stream",
     "text": [
      "2.5\n"
     ]
    }
   ],
   "source": [
    "class Solution:\n",
    "    def findMedianSortedArrays(self, nums1, nums2) -> float:\n",
    "        if len(nums1) == 0:\n",
    "            if len(nums2)%2 == 0:\n",
    "                flag = int(len(nums2)/2)\n",
    "                return (nums2[flag]+nums2[flag-1])/2\n",
    "            else:\n",
    "                return nums2[int(len(nums2)/2)]\n",
    "        elif len(nums2) == 0:\n",
    "            if len(nums1)%2 == 0:\n",
    "                flag = int(len(nums1)/2)\n",
    "                return (nums1[flag]+nums1[flag-1])/2\n",
    "            else:\n",
    "                return nums1[int(len(nums1)/2)]\n",
    "        else:\n",
    "            temp = nums1+nums2\n",
    "            temp.sort()\n",
    "            if len(temp)%2 == 0:\n",
    "                flag = int(len(temp)/2)\n",
    "                return (temp[flag]+temp[flag-1])/2\n",
    "            else:\n",
    "                return temp[int(len(temp)/2)]\n",
    "s =  Solution()\n",
    "print(s.findMedianSortedArrays([1,3],[2,3]))"
   ]
  },
  {
   "cell_type": "code",
   "execution_count": null,
   "metadata": {},
   "outputs": [],
   "source": []
  }
 ],
 "metadata": {
  "kernelspec": {
   "display_name": "Python 3",
   "language": "python",
   "name": "python3"
  },
  "language_info": {
   "codemirror_mode": {
    "name": "ipython",
    "version": 3
   },
   "file_extension": ".py",
   "mimetype": "text/x-python",
   "name": "python",
   "nbconvert_exporter": "python",
   "pygments_lexer": "ipython3",
   "version": "3.6.0"
  }
 },
 "nbformat": 4,
 "nbformat_minor": 2
}
