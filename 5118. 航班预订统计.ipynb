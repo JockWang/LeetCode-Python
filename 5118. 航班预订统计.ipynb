{
 "cells": [
  {
   "cell_type": "code",
   "execution_count": 15,
   "metadata": {},
   "outputs": [
    {
     "name": "stdout",
     "output_type": "stream",
     "text": [
      "[[1, 2], [2, 3], [2, 5]]\n",
      "[10, 20, 25]\n"
     ]
    },
    {
     "data": {
      "text/plain": [
       "[25, 75, 50, 25, 25]"
      ]
     },
     "execution_count": 15,
     "metadata": {},
     "output_type": "execute_result"
    }
   ],
   "source": [
    "class Solution:\n",
    "    def corpFlightBookings(self, bookings: [[int]], n: int) -> [int]:\n",
    "        result = [0]*(n+1)\n",
    "        if len(bookings) != 0 and len(bookings[0]) != 0:\n",
    "            b = []\n",
    "            c = []\n",
    "            for book in bookings:\n",
    "                temp = [book[0],book[1]]\n",
    "                if temp not in b:\n",
    "                    b.append(temp)\n",
    "                    c.append(book[2])\n",
    "                else:\n",
    "                    idx = b.index(temp)\n",
    "                    c[idx] += book[2]\n",
    "            for i in range(1,n+1):\n",
    "                for book in range(len(b)):\n",
    "                    if i>= b[book][0] and i <= b[book][1]:\n",
    "                        result[i] += c[book]\n",
    "        return result[1:]\n",
    "\n",
    "s = Solution()\n",
    "s.corpFlightBookings([[1,2,10],[2,3,20],[2,5,25]],5)"
   ]
  },
  {
   "cell_type": "code",
   "execution_count": null,
   "metadata": {},
   "outputs": [],
   "source": []
  }
 ],
 "metadata": {
  "kernelspec": {
   "display_name": "Python 3",
   "language": "python",
   "name": "python3"
  },
  "language_info": {
   "codemirror_mode": {
    "name": "ipython",
    "version": 3
   },
   "file_extension": ".py",
   "mimetype": "text/x-python",
   "name": "python",
   "nbconvert_exporter": "python",
   "pygments_lexer": "ipython3",
   "version": "3.6.0"
  },
  "toc": {
   "base_numbering": 1,
   "nav_menu": {},
   "number_sections": true,
   "sideBar": true,
   "skip_h1_title": false,
   "title_cell": "Table of Contents",
   "title_sidebar": "Contents",
   "toc_cell": false,
   "toc_position": {},
   "toc_section_display": true,
   "toc_window_display": false
  }
 },
 "nbformat": 4,
 "nbformat_minor": 2
}
