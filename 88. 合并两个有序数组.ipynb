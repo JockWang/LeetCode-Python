{
 "cells": [
  {
   "cell_type": "code",
   "execution_count": 9,
   "metadata": {},
   "outputs": [
    {
     "name": "stdout",
     "output_type": "stream",
     "text": [
      "[]\n"
     ]
    }
   ],
   "source": [
    "class Solution:\n",
    "    def merge(self, nums1: [int], m: int, nums2: [int], n: int) -> None:\n",
    "        \"\"\"\n",
    "        Do not return anything, modify nums1 in-place instead.\n",
    "        \"\"\"\n",
    "        a = m-1\n",
    "        b = n-1\n",
    "        for i in range(m+n-1,-1,-1):\n",
    "            if a >= 0 and b >= 0:\n",
    "                if nums1[a] <= nums2[b]:\n",
    "                    nums1[i] = nums2[b]\n",
    "                    b -= 1\n",
    "                else:\n",
    "                    nums1[i] = nums1[a]\n",
    "                    a -= 1\n",
    "            else:\n",
    "                if a >= 0:\n",
    "                    nums1[i] = nums1[a]\n",
    "                    a -= 1\n",
    "                else:\n",
    "                    nums1[i] = nums2[b]\n",
    "                    b -= 1\n",
    "        print(nums1)\n",
    "s = Solution()\n",
    "s.merge([],0,[],0)"
   ]
  },
  {
   "cell_type": "code",
   "execution_count": null,
   "metadata": {},
   "outputs": [],
   "source": []
  }
 ],
 "metadata": {
  "kernelspec": {
   "display_name": "Python 3",
   "language": "python",
   "name": "python3"
  },
  "language_info": {
   "codemirror_mode": {
    "name": "ipython",
    "version": 3
   },
   "file_extension": ".py",
   "mimetype": "text/x-python",
   "name": "python",
   "nbconvert_exporter": "python",
   "pygments_lexer": "ipython3",
   "version": "3.6.0"
  }
 },
 "nbformat": 4,
 "nbformat_minor": 2
}
