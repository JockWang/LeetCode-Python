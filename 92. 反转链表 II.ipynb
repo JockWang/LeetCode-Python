{
 "cells": [
  {
   "cell_type": "code",
   "execution_count": 45,
   "metadata": {},
   "outputs": [
    {
     "name": "stdout",
     "output_type": "stream",
     "text": [
      "1\n",
      "2\n",
      "3\n",
      "4\n",
      "5\n",
      "6\n"
     ]
    }
   ],
   "source": [
    "# Definition for singly-linked list.\n",
    "class ListNode:\n",
    "    def __init__(self, x):\n",
    "        self.val = x\n",
    "        self.next = None\n",
    "        \n",
    "def printList(head):\n",
    "    while head != None:\n",
    "        print(head.val)\n",
    "        head = head.next\n",
    "        \n",
    "class Solution:\n",
    "    def reverseBetween(self, head: ListNode, m: int, n: int) -> ListNode:\n",
    "        mylist = ListNode(0)\n",
    "        mylist.next = head\n",
    "        point = mylist\n",
    "        left = None\n",
    "        right = None\n",
    "        end = None\n",
    "        i = 0\n",
    "        while point != None and i <= n:\n",
    "            if i == m-1:\n",
    "                left = point\n",
    "            elif i == m:\n",
    "                right = point\n",
    "                end = point\n",
    "            elif i > m:\n",
    "                temp = point.next\n",
    "                point.next = right\n",
    "                left.next = point\n",
    "                end.next = temp\n",
    "                point = end\n",
    "                right = left.next\n",
    "            point = point.next\n",
    "            i += 1\n",
    "        return mylist.next\n",
    "        \n",
    "\n",
    "a = ListNode(1)\n",
    "b = ListNode(2)\n",
    "c = ListNode(3)\n",
    "d = ListNode(4)\n",
    "e = ListNode(5)\n",
    "f = ListNode(6)\n",
    "a.next = b\n",
    "b.next = c\n",
    "c.next = d\n",
    "d.next = e\n",
    "e.next = f\n",
    "s = Solution()\n",
    "s.reverseBetween(a,2,1)\n"
   ]
  },
  {
   "cell_type": "code",
   "execution_count": null,
   "metadata": {},
   "outputs": [],
   "source": []
  }
 ],
 "metadata": {
  "kernelspec": {
   "display_name": "Python 3",
   "language": "python",
   "name": "python3"
  },
  "language_info": {
   "codemirror_mode": {
    "name": "ipython",
    "version": 3
   },
   "file_extension": ".py",
   "mimetype": "text/x-python",
   "name": "python",
   "nbconvert_exporter": "python",
   "pygments_lexer": "ipython3",
   "version": "3.6.0"
  },
  "toc": {
   "base_numbering": 1,
   "nav_menu": {},
   "number_sections": true,
   "sideBar": true,
   "skip_h1_title": false,
   "title_cell": "Table of Contents",
   "title_sidebar": "Contents",
   "toc_cell": false,
   "toc_position": {},
   "toc_section_display": true,
   "toc_window_display": false
  }
 },
 "nbformat": 4,
 "nbformat_minor": 2
}
