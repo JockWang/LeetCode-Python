{
 "cells": [
  {
   "cell_type": "code",
   "execution_count": 21,
   "metadata": {},
   "outputs": [
    {
     "name": "stdout",
     "output_type": "stream",
     "text": [
      "5\n",
      "10\n",
      "6\n",
      "15\n",
      "20\n"
     ]
    },
    {
     "data": {
      "text/plain": [
       "True"
      ]
     },
     "execution_count": 21,
     "metadata": {},
     "output_type": "execute_result"
    }
   ],
   "source": [
    "# Definition for a binary tree node.\n",
    "class TreeNode:\n",
    "    def __init__(self, x):\n",
    "        self.val = x\n",
    "        self.left = None\n",
    "        self.right = None\n",
    "\n",
    "class Solution:\n",
    "    def isValidBST(self, root: TreeNode) -> bool:\n",
    "        stack = []\n",
    "        if root!=None:\n",
    "            left = root.val\n",
    "            right = root.val\n",
    "        while root!=None or len(stack)!=0:\n",
    "            while root!=None:\n",
    "                temp = root.val\n",
    "                stack.append(root)\n",
    "                root = root.left\n",
    "                if root!=None and (root.val >= temp or root.val < left):\n",
    "                    return False\n",
    "            if len(stack) != 0:\n",
    "                root = stack.pop()\n",
    "                temp = root.val\n",
    "                root = root.right\n",
    "                if root != None and root.val <= temp:\n",
    "                    return False\n",
    "        return True\n",
    "s = Solution()\n",
    "root = TreeNode(10)\n",
    "r1 = TreeNode(5)\n",
    "r2 = TreeNode(15)\n",
    "r3 = TreeNode(6)\n",
    "r4 = TreeNode(20)\n",
    "r5 = TreeNode(20)\n",
    "root.left = r1\n",
    "root.right = r2\n",
    "r2.left = r3\n",
    "r2.right = r4\n",
    "s.isValidBST(root)"
   ]
  },
  {
   "cell_type": "code",
   "execution_count": null,
   "metadata": {},
   "outputs": [],
   "source": []
  }
 ],
 "metadata": {
  "kernelspec": {
   "display_name": "Python 3",
   "language": "python",
   "name": "python3"
  },
  "language_info": {
   "codemirror_mode": {
    "name": "ipython",
    "version": 3
   },
   "file_extension": ".py",
   "mimetype": "text/x-python",
   "name": "python",
   "nbconvert_exporter": "python",
   "pygments_lexer": "ipython3",
   "version": "3.6.0"
  },
  "toc": {
   "base_numbering": 1,
   "nav_menu": {},
   "number_sections": true,
   "sideBar": true,
   "skip_h1_title": false,
   "title_cell": "Table of Contents",
   "title_sidebar": "Contents",
   "toc_cell": false,
   "toc_position": {},
   "toc_section_display": true,
   "toc_window_display": false
  }
 },
 "nbformat": 4,
 "nbformat_minor": 2
}
