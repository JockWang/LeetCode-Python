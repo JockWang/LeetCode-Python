{
 "cells": [
  {
   "cell_type": "code",
   "execution_count": 42,
   "metadata": {},
   "outputs": [
    {
     "name": "stdout",
     "output_type": "stream",
     "text": [
      "1\n",
      "[1, 2, 3]\n",
      "[2, 1, 3]\n"
     ]
    }
   ],
   "source": [
    "class Solution:\n",
    "    def nextPermutation(self, nums: [int]) -> None:\n",
    "        \"\"\"\n",
    "        Do not return anything, modify nums in-place instead.\n",
    "        \"\"\"\n",
    "        if len(nums) > 1:\n",
    "            flag = False\n",
    "            wherea = 0\n",
    "            whereb = 0\n",
    "            for i in range(len(nums)-2,-1,-1):\n",
    "                if nums[i] < nums[i+1]:\n",
    "                    flag = True\n",
    "                    wherea = i\n",
    "                    break\n",
    "            if flag:\n",
    "                i = wherea+1\n",
    "                while i < len(nums):\n",
    "                    j = i\n",
    "                    while j < len(nums):\n",
    "                        if nums[i] > nums[j]:\n",
    "                            temp = nums[j]\n",
    "                            nums[j] = nums[i]\n",
    "                            nums[i] = temp\n",
    "                        j +=  1\n",
    "                    i += 1\n",
    "                i = wherea + 1\n",
    "                while i < len(nums):\n",
    "                    if nums[i] > nums[wherea]:\n",
    "                        whereb = i\n",
    "                        break\n",
    "                    i += 1\n",
    "                temp = nums[whereb]\n",
    "                nums[whereb] = nums[wherea]\n",
    "                nums[wherea] = temp\n",
    "            else:\n",
    "                nums.sort()\n",
    "        print(nums)\n",
    "        \n",
    "s = Solution()\n",
    "s.nextPermutation([1,3,2])"
   ]
  },
  {
   "cell_type": "code",
   "execution_count": null,
   "metadata": {
    "inputHidden": false,
    "outputHidden": false
   },
   "outputs": [],
   "source": []
  }
 ],
 "metadata": {
  "kernel_info": {
   "name": "python3"
  },
  "kernelspec": {
   "display_name": "Python 3",
   "language": "python",
   "name": "python3"
  },
  "language_info": {
   "codemirror_mode": {
    "name": "ipython",
    "version": 3
   },
   "file_extension": ".py",
   "mimetype": "text/x-python",
   "name": "python",
   "nbconvert_exporter": "python",
   "pygments_lexer": "ipython3",
   "version": "3.6.0"
  },
  "nteract": {
   "version": "0.14.2"
  },
  "toc": {
   "base_numbering": 1,
   "nav_menu": {},
   "number_sections": true,
   "sideBar": true,
   "skip_h1_title": false,
   "title_cell": "Table of Contents",
   "title_sidebar": "Contents",
   "toc_cell": false,
   "toc_position": {},
   "toc_section_display": true,
   "toc_window_display": false
  }
 },
 "nbformat": 4,
 "nbformat_minor": 2
}
