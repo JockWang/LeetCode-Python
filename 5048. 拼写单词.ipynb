{
 "cells": [
  {
   "cell_type": "code",
   "execution_count": 21,
   "metadata": {},
   "outputs": [
    {
     "name": "stdout",
     "output_type": "stream",
     "text": [
      "{'w': 1, 'e': 3, 'l': 2, 'd': 1, 'o': 2, 'n': 2, 'h': 1, 'y': 1, 'r': 1}\n"
     ]
    },
    {
     "data": {
      "text/plain": [
       "10"
      ]
     },
     "execution_count": 21,
     "metadata": {},
     "output_type": "execute_result"
    }
   ],
   "source": [
    "class Solution:\n",
    "    def countCharacters(self, words: [str], chars: str) -> int:\n",
    "        dic = {}\n",
    "        result = 0\n",
    "        for c in chars:\n",
    "            if c not in dic:\n",
    "                dic[c] = chars.count(c)\n",
    "        print(dic)\n",
    "        for word in words:\n",
    "            flag = True\n",
    "            for w in list(set(word)):\n",
    "                if (w in dic and word.count(w) > dic[w]) or (w not in dic):\n",
    "                    flag = False\n",
    "                    break\n",
    "            if flag:\n",
    "                result += len(word)\n",
    "        return result\n",
    "s = Solution()\n",
    "s.countCharacters([\"hello\",\"world\",\"leetcode\"],\"welldonehoneyr\")"
   ]
  },
  {
   "cell_type": "code",
   "execution_count": null,
   "metadata": {},
   "outputs": [],
   "source": []
  }
 ],
 "metadata": {
  "kernelspec": {
   "display_name": "Python 3",
   "language": "python",
   "name": "python3"
  },
  "language_info": {
   "codemirror_mode": {
    "name": "ipython",
    "version": 3
   },
   "file_extension": ".py",
   "mimetype": "text/x-python",
   "name": "python",
   "nbconvert_exporter": "python",
   "pygments_lexer": "ipython3",
   "version": "3.6.0"
  }
 },
 "nbformat": 4,
 "nbformat_minor": 2
}
