{
 "cells": [
  {
   "cell_type": "code",
   "execution_count": 52,
   "metadata": {},
   "outputs": [
    {
     "data": {
      "text/plain": [
       "[[-2, -1, 1, 2], [-2, 0, 0, 2], [-1, 0, 0, 1]]"
      ]
     },
     "execution_count": 52,
     "metadata": {},
     "output_type": "execute_result"
    }
   ],
   "source": [
    "class Solution:\n",
    "    def fourSum(self, nums: [int], target: int) -> [[int]]:\n",
    "        nums.sort()\n",
    "        result = []\n",
    "        for i in range(len(nums)-3):\n",
    "            res = self.threeSum(nums[i+1:],target-nums[i],nums[i])\n",
    "            if len(res) != 0:\n",
    "                for r in res:\n",
    "                    if r not in result:\n",
    "                        result.append(r)\n",
    "        return result\n",
    "                    \n",
    "    def threeSum(self,nums,target,source):\n",
    "        res = []\n",
    "        for i in range(len(nums)-2):\n",
    "            if i == 0 or nums[i] > nums[i-1]:\n",
    "                left = i+1\n",
    "                right = len(nums)-1\n",
    "                while left < right:\n",
    "                    temp = nums[i]+nums[left]+nums[right]-target\n",
    "                    if temp == 0:\n",
    "                        res.append([source,nums[i],nums[left],nums[right]])\n",
    "                        left += 1\n",
    "                        right -= 1\n",
    "                        while nums[left] == nums[left-1] and left < right:\n",
    "                            left += 1\n",
    "                        while nums[right] == nums[right+1] and left < right:\n",
    "                            right -= 1\n",
    "                    elif temp > 0:\n",
    "                        right -= 1\n",
    "                    else:\n",
    "                        left += 1\n",
    "        return res\n",
    "\n",
    "s = Solution()\n",
    "s.fourSum([1, 0, -1, 0, -2, 2],0)"
   ]
  },
  {
   "cell_type": "code",
   "execution_count": null,
   "metadata": {},
   "outputs": [],
   "source": []
  }
 ],
 "metadata": {
  "kernelspec": {
   "display_name": "Python 3",
   "language": "python",
   "name": "python3"
  },
  "language_info": {
   "codemirror_mode": {
    "name": "ipython",
    "version": 3
   },
   "file_extension": ".py",
   "mimetype": "text/x-python",
   "name": "python",
   "nbconvert_exporter": "python",
   "pygments_lexer": "ipython3",
   "version": "3.6.0"
  },
  "toc": {
   "base_numbering": 1,
   "nav_menu": {},
   "number_sections": true,
   "sideBar": true,
   "skip_h1_title": false,
   "title_cell": "Table of Contents",
   "title_sidebar": "Contents",
   "toc_cell": false,
   "toc_position": {},
   "toc_section_display": true,
   "toc_window_display": false
  }
 },
 "nbformat": 4,
 "nbformat_minor": 2
}
