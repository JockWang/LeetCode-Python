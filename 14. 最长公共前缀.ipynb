{
 "cells": [
  {
   "cell_type": "code",
   "execution_count": 29,
   "metadata": {},
   "outputs": [
    {
     "data": {
      "text/plain": [
       "''"
      ]
     },
     "execution_count": 29,
     "metadata": {},
     "output_type": "execute_result"
    }
   ],
   "source": [
    "class Solution:\n",
    "    def longestCommonPrefix(self, strs) -> str:\n",
    "\n",
    "        string = ''\n",
    "        if len(strs) != 0:\n",
    "            string = min(strs,key = lambda s:len(s))\n",
    "        end = len(string)\n",
    "        for s in strs:\n",
    "            i = end\n",
    "            while i >= 0:\n",
    "                if string[:i] == s[:i]:\n",
    "                    end = i\n",
    "                    break\n",
    "                else:\n",
    "                    i -= 1\n",
    "            if i == -1:\n",
    "                return ''\n",
    "\n",
    "        return string[:end]\n",
    "s = Solution()\n",
    "s.longestCommonPrefix(['ca','a'])"
   ]
  }
 ],
 "metadata": {
  "kernelspec": {
   "display_name": "Python 3",
   "language": "python",
   "name": "python3"
  },
  "language_info": {
   "codemirror_mode": {
    "name": "ipython",
    "version": 3
   },
   "file_extension": ".py",
   "mimetype": "text/x-python",
   "name": "python",
   "nbconvert_exporter": "python",
   "pygments_lexer": "ipython3",
   "version": "3.6.0"
  },
  "toc": {
   "base_numbering": 1,
   "nav_menu": {},
   "number_sections": true,
   "sideBar": true,
   "skip_h1_title": false,
   "title_cell": "Table of Contents",
   "title_sidebar": "Contents",
   "toc_cell": false,
   "toc_position": {},
   "toc_section_display": true,
   "toc_window_display": false
  }
 },
 "nbformat": 4,
 "nbformat_minor": 2
}
