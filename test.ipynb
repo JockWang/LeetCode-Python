{
 "cells": [
  {
   "cell_type": "code",
   "execution_count": 27,
   "metadata": {},
   "outputs": [
    {
     "data": {
      "text/plain": [
       "1"
      ]
     },
     "execution_count": 27,
     "metadata": {},
     "output_type": "execute_result"
    }
   ],
   "source": [
    "class Solution:\n",
    "    def findMedianSortedArrays(self, nums1: [int], nums2: [int]) -> float:\n",
    "        stop = 0\n",
    "        isOu = False\n",
    "        if (len(nums1)+len(nums2))%2 == 0:\n",
    "            stop = int((len(nums1)+len(nums2))/2)\n",
    "            isOu = True\n",
    "        else:\n",
    "            stop = (len(nums1)+len(nums2))//2+1\n",
    "        if len(nums1) < len(nums2):\n",
    "            temp = nums2\n",
    "            flag = nums1\n",
    "        else:\n",
    "            temp = nums1\n",
    "            flag = nums2\n",
    "        i = 0\n",
    "        while i <= stop and len(flag) > 0:\n",
    "            change = False\n",
    "            for j in range(i,len(temp)):\n",
    "                if flag[0] < temp[j]:\n",
    "                    temp = temp[:j]+[flag[0]]+temp[j:]\n",
    "                    flag.pop(0)\n",
    "                    i = j + 1\n",
    "                    change = True\n",
    "                    break\n",
    "            if not change:\n",
    "                temp = temp+flag\n",
    "                break\n",
    "        if isOu:\n",
    "            return (temp[stop]+temp[stop-1])/2\n",
    "        else:\n",
    "            return temp[stop-1]\n",
    "s = Solution()\n",
    "s.findMedianSortedArrays([1],[1,1])"
   ]
  },
  {
   "cell_type": "code",
   "execution_count": null,
   "metadata": {},
   "outputs": [],
   "source": []
  }
 ],
 "metadata": {
  "kernelspec": {
   "display_name": "Python 3",
   "language": "python",
   "name": "python3"
  },
  "language_info": {
   "codemirror_mode": {
    "name": "ipython",
    "version": 3
   },
   "file_extension": ".py",
   "mimetype": "text/x-python",
   "name": "python",
   "nbconvert_exporter": "python",
   "pygments_lexer": "ipython3",
   "version": "3.6.0"
  }
 },
 "nbformat": 4,
 "nbformat_minor": 2
}
