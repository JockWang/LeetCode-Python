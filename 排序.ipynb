{
 "cells": [
  {
   "cell_type": "code",
   "execution_count": 17,
   "metadata": {},
   "outputs": [
    {
     "data": {
      "text/plain": [
       "[2, 3, 4, 5, 15, 19, 26, 27, 36, 38, 44, 46, 47, 48, 50]"
      ]
     },
     "execution_count": 17,
     "metadata": {},
     "output_type": "execute_result"
    }
   ],
   "source": [
    "# 冒泡\n",
    "def BubbleSort(arr):\n",
    "    for i in range(len(arr)):\n",
    "        for j in range(len(arr)-1):\n",
    "            if arr[j] > arr[j+1]:\n",
    "                arr[j], arr[j+1] = arr[j+1], arr[j]\n",
    "    return arr\n",
    "arr = [3,44,38,5,47,15,36,26,27,2,46,4,19,50,48]\n",
    "BubbleSort(arr)"
   ]
  },
  {
   "cell_type": "code",
   "execution_count": 18,
   "metadata": {},
   "outputs": [
    {
     "data": {
      "text/plain": [
       "[2, 3, 4, 5, 15, 19, 26, 27, 36, 38, 44, 46, 47, 48, 50]"
      ]
     },
     "execution_count": 18,
     "metadata": {},
     "output_type": "execute_result"
    }
   ],
   "source": [
    "# 快速\n",
    "def QuickSort(arr):\n",
    "    def qucik(arr, left, right):\n",
    "        if left >= right:\n",
    "            return \n",
    "        low, hight = left, right\n",
    "        key = arr[left]\n",
    "        while left < right:\n",
    "            while left < right and arr[right] > key:\n",
    "                right -= 1\n",
    "            arr[left] = arr[right]\n",
    "            while left < right and arr[left] <= key:\n",
    "                left += 1\n",
    "            arr[right] = arr[left]\n",
    "        arr[left] = key\n",
    "        qucik(arr, low, left-1)\n",
    "        qucik(arr, left+1, hight)\n",
    "    qucik(arr, 0, len(arr)-1)\n",
    "    return arr\n",
    "arr = [3,44,38,5,47,15,36,26,27,2,46,4,19,50,48]\n",
    "QuickSort(arr)"
   ]
  },
  {
   "cell_type": "code",
   "execution_count": 38,
   "metadata": {},
   "outputs": [
    {
     "data": {
      "text/plain": [
       "[2, 3, 4, 5, 15, 19, 26, 27, 36, 38, 44, 46, 47, 48, 50]"
      ]
     },
     "execution_count": 38,
     "metadata": {},
     "output_type": "execute_result"
    }
   ],
   "source": [
    "# 插入\n",
    "def InsertSort(arr):\n",
    "    for i in range(len(arr)):\n",
    "        j = i\n",
    "        target = arr[i]\n",
    "        while j > 0 and target < arr[j-1]:\n",
    "            arr[j] = arr[j-1]\n",
    "            j -= 1\n",
    "        if j != i:\n",
    "            arr[j] = target\n",
    "    return arr\n",
    "arr = [3,44,38,5,47,15,36,26,27,2,46,4,19,50,48]\n",
    "QuickSort(arr)"
   ]
  },
  {
   "cell_type": "code",
   "execution_count": 36,
   "metadata": {},
   "outputs": [
    {
     "data": {
      "text/plain": [
       "[2, 3, 4, 5, 15, 19, 26, 27, 36, 38, 44, 46, 47, 48, 50]"
      ]
     },
     "execution_count": 36,
     "metadata": {},
     "output_type": "execute_result"
    }
   ],
   "source": [
    "# Shell\n",
    "def ShellSort(arr):\n",
    "    def Shell(arr, d):\n",
    "        for i in range(d, len(arr)):\n",
    "            target = arr[i]\n",
    "            j = i\n",
    "            while j >= d and target < arr[j-d]:\n",
    "                arr[j] = arr[j-d]\n",
    "                j -= d\n",
    "            if j!=i:\n",
    "                arr[j] = target\n",
    "    d = len(arr)//2\n",
    "    while d >= 1:\n",
    "        Shell(arr, d)\n",
    "        d //= 2\n",
    "    return arr\n",
    "arr = [3,44,38,5,47,15,36,26,27,2,46,4,19,50,48]\n",
    "ShellSort(arr)"
   ]
  },
  {
   "cell_type": "code",
   "execution_count": 39,
   "metadata": {},
   "outputs": [
    {
     "data": {
      "text/plain": [
       "[2, 3, 4, 5, 15, 19, 26, 27, 36, 38, 44, 46, 47, 48, 50]"
      ]
     },
     "execution_count": 39,
     "metadata": {},
     "output_type": "execute_result"
    }
   ],
   "source": [
    "# 选择\n",
    "def SelectSort(arr):\n",
    "    for i in range(len(arr)):\n",
    "        key = i\n",
    "        for j in range(i+1,len(arr)):\n",
    "            if arr[j] < arr[key]:\n",
    "                key = j\n",
    "        arr[i], arr[key] = arr[key], arr[i]\n",
    "    return arr\n",
    "arr = [3,44,38,5,47,15,36,26,27,2,46,4,19,50,48]\n",
    "SelectSort(arr)"
   ]
  },
  {
   "cell_type": "code",
   "execution_count": 61,
   "metadata": {},
   "outputs": [
    {
     "data": {
      "text/plain": [
       "[2, 3, 4, 5, 15, 19, 26, 27, 36, 38, 44, 46, 47, 48, 50]"
      ]
     },
     "execution_count": 61,
     "metadata": {},
     "output_type": "execute_result"
    }
   ],
   "source": [
    "# 大顶堆\n",
    "def MaxHeapSort(arr):\n",
    "    def adjust(arr, start, end):\n",
    "        temp = arr[start]\n",
    "        i = start\n",
    "        j = 2*i\n",
    "        while j <= end:\n",
    "            if j < end and arr[j] < arr[j+1]:\n",
    "                j += 1\n",
    "            if temp < arr[j]:\n",
    "                arr[i] = arr[j]\n",
    "                i = j\n",
    "                j = 2*i\n",
    "            else:\n",
    "                break\n",
    "        arr[i] = temp\n",
    "        \n",
    "    arr = [0]+arr\n",
    "    length = len(arr)-1\n",
    "    split = length//2\n",
    "    for i in range(split):\n",
    "        adjust(arr, split-i, length)\n",
    "    \n",
    "    for i in range(length-1):\n",
    "        arr[1], arr[length-i] = arr[length-i], arr[1]\n",
    "        adjust(arr, 1, length-i-1)\n",
    "    return arr[1:]\n",
    "arr = [3,44,38,5,47,15,36,26,27,2,46,4,19,50,48]\n",
    "MaxHeapSort(arr)"
   ]
  },
  {
   "cell_type": "code",
   "execution_count": 3,
   "metadata": {},
   "outputs": [
    {
     "data": {
      "text/plain": [
       "[2, 3, 4, 5, 15, 19, 26, 27, 36, 38, 44, 46, 47, 48, 50]"
      ]
     },
     "execution_count": 3,
     "metadata": {},
     "output_type": "execute_result"
    }
   ],
   "source": [
    "# 大顶堆\n",
    "def MinHeapSort(arr):\n",
    "    def adjust(arr, start, end):\n",
    "        temp = arr[start]\n",
    "        i = start\n",
    "        j = 2*i\n",
    "        while j <= end:\n",
    "            if j < end and arr[j] < arr[j+1]:\n",
    "                j += 1\n",
    "            if temp < arr[j]:\n",
    "                arr[i] = arr[j]\n",
    "                i = j\n",
    "                j = 2*i\n",
    "            else:\n",
    "                break\n",
    "        arr[i] = temp\n",
    "        \n",
    "    arr = [0]+arr\n",
    "    length = len(arr)-1\n",
    "    split = length//2\n",
    "    for i in range(split):\n",
    "        adjust(arr, split-i, length)\n",
    "    \n",
    "    for i in range(length-1):\n",
    "        arr[1], arr[length-i] = arr[length-i], arr[1]\n",
    "        adjust(arr, 1, length-i-1)\n",
    "    return arr[1:]\n",
    "arr = [3,44,38,5,47,15,36,26,27,2,46,4,19,50,48]\n",
    "MinHeapSort(arr)"
   ]
  },
  {
   "cell_type": "code",
   "execution_count": 64,
   "metadata": {},
   "outputs": [],
   "source": [
    "class TreeNode:\n",
    "    def __init__(self, x):\n",
    "        self.val = x\n",
    "        self.left = None\n",
    "        self.right = None\n",
    "a = TreeNode(1)\n",
    "b = TreeNode(2)\n",
    "c = TreeNode(3)\n",
    "d = TreeNode(4)\n",
    "e = TreeNode(5)\n",
    "f = TreeNode(6)\n",
    "g = TreeNode(7)\n",
    "h = TreeNode(8)\n",
    "a.left = b\n",
    "a.right = c\n",
    "b.left = d\n",
    "b.right = e\n",
    "c.right = f\n",
    "e.left = g\n",
    "e.right = h"
   ]
  },
  {
   "cell_type": "code",
   "execution_count": 65,
   "metadata": {},
   "outputs": [
    {
     "name": "stdout",
     "output_type": "stream",
     "text": [
      "1\n",
      "2\n",
      "4\n",
      "5\n",
      "7\n",
      "8\n",
      "3\n",
      "6\n"
     ]
    }
   ],
   "source": [
    "def preOrderLoop(root):\n",
    "    if root:\n",
    "        print(root.val)\n",
    "        preOrderLoop(root.left)\n",
    "        preOrderLoop(root.right)\n",
    "preOrderLoop(a)"
   ]
  },
  {
   "cell_type": "code",
   "execution_count": 71,
   "metadata": {},
   "outputs": [
    {
     "name": "stdout",
     "output_type": "stream",
     "text": [
      "1\n",
      "2\n",
      "4\n",
      "5\n",
      "7\n",
      "8\n",
      "3\n",
      "6\n"
     ]
    }
   ],
   "source": [
    "def preOrder(root):\n",
    "    node = root\n",
    "    stack = []\n",
    "    while node or len(stack) != 0:\n",
    "        if node:\n",
    "            print(node.val)\n",
    "            stack.append(node)\n",
    "            node = node.left\n",
    "        else:\n",
    "            node = stack.pop()\n",
    "            node = node.right\n",
    "preOrder(a)"
   ]
  },
  {
   "cell_type": "code",
   "execution_count": 68,
   "metadata": {},
   "outputs": [
    {
     "name": "stdout",
     "output_type": "stream",
     "text": [
      "4\n",
      "2\n",
      "7\n",
      "5\n",
      "8\n",
      "1\n",
      "3\n",
      "6\n"
     ]
    }
   ],
   "source": [
    "def inOrderLoop(root):\n",
    "    if root:\n",
    "        inOrderLoop(root.left)\n",
    "        print(root.val)\n",
    "        inOrderLoop(root.right)\n",
    "inOrderLoop(a)"
   ]
  },
  {
   "cell_type": "code",
   "execution_count": 72,
   "metadata": {},
   "outputs": [
    {
     "name": "stdout",
     "output_type": "stream",
     "text": [
      "4\n",
      "2\n",
      "7\n",
      "5\n",
      "8\n",
      "1\n",
      "3\n",
      "6\n"
     ]
    }
   ],
   "source": [
    "def inOrder(root):\n",
    "    stack = []\n",
    "    while root or len(stack) != 0:\n",
    "        if root:\n",
    "            stack.append(root)\n",
    "            root = root.left\n",
    "        else:\n",
    "            root = stack.pop()\n",
    "            print(root.val)\n",
    "            root = root.right\n",
    "inOrder(a)"
   ]
  },
  {
   "cell_type": "code",
   "execution_count": 69,
   "metadata": {},
   "outputs": [
    {
     "name": "stdout",
     "output_type": "stream",
     "text": [
      "4\n",
      "7\n",
      "8\n",
      "5\n",
      "2\n",
      "6\n",
      "3\n",
      "1\n"
     ]
    }
   ],
   "source": [
    "def postOrderLoop(root):\n",
    "    if root:\n",
    "        postOrderLoop(root.left)\n",
    "        postOrderLoop(root.right)\n",
    "        print(root.val)\n",
    "postOrderLoop(a)"
   ]
  },
  {
   "cell_type": "code",
   "execution_count": null,
   "metadata": {},
   "outputs": [],
   "source": []
  }
 ],
 "metadata": {
  "kernelspec": {
   "display_name": "Python 3",
   "language": "python",
   "name": "python3"
  },
  "language_info": {
   "codemirror_mode": {
    "name": "ipython",
    "version": 3
   },
   "file_extension": ".py",
   "mimetype": "text/x-python",
   "name": "python",
   "nbconvert_exporter": "python",
   "pygments_lexer": "ipython3",
   "version": "3.6.8"
  },
  "toc": {
   "base_numbering": 1,
   "nav_menu": {},
   "number_sections": true,
   "sideBar": true,
   "skip_h1_title": false,
   "title_cell": "Table of Contents",
   "title_sidebar": "Contents",
   "toc_cell": false,
   "toc_position": {},
   "toc_section_display": true,
   "toc_window_display": false
  }
 },
 "nbformat": 4,
 "nbformat_minor": 2
}
