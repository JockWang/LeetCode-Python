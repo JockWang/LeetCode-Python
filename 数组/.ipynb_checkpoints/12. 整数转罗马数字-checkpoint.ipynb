{
 "cells": [
  {
   "cell_type": "code",
   "execution_count": 23,
   "metadata": {},
   "outputs": [
    {
     "data": {
      "text/plain": [
       "'MCMXCIV'"
      ]
     },
     "execution_count": 23,
     "metadata": {},
     "output_type": "execute_result"
    }
   ],
   "source": [
    "class Solution:\n",
    "    def intToRoman(self, num: int) -> str:\n",
    "        arr = [['I','V','X'],['X','L','C'],['C','D','M'],['M']]\n",
    "        num = str(num)\n",
    "        res = ''\n",
    "        leng = len(num)\n",
    "        for i in range(leng-1,-1,-1):\n",
    "            n = int(num[i])\n",
    "            if n < 4:\n",
    "                res = arr[leng-i-1][0]*n + res\n",
    "            elif n == 4:\n",
    "                res = arr[leng-i-1][0]+arr[leng-i-1][1] + res\n",
    "            elif n == 5:\n",
    "                res = arr[leng-i-1][1] + res\n",
    "            elif n > 5 and n < 9:\n",
    "                res = arr[leng-i-1][1]+arr[leng-i-1][0]*(n-5) + res\n",
    "            elif n == 9:\n",
    "                res = arr[leng-i-1][0]+arr[leng-i-1][2] + res\n",
    "        return res\n",
    "s = Solution()\n",
    "s.intToRoman(1994)"
   ]
  },
  {
   "cell_type": "code",
   "execution_count": null,
   "metadata": {},
   "outputs": [],
   "source": []
  }
 ],
 "metadata": {
  "kernelspec": {
   "display_name": "Python 3",
   "language": "python",
   "name": "python3"
  },
  "language_info": {
   "codemirror_mode": {
    "name": "ipython",
    "version": 3
   },
   "file_extension": ".py",
   "mimetype": "text/x-python",
   "name": "python",
   "nbconvert_exporter": "python",
   "pygments_lexer": "ipython3",
   "version": "3.6.8"
  }
 },
 "nbformat": 4,
 "nbformat_minor": 2
}
