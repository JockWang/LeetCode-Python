{
 "cells": [
  {
   "cell_type": "code",
   "execution_count": 12,
   "metadata": {},
   "outputs": [
    {
     "name": "stdout",
     "output_type": "stream",
     "text": [
      "1000\n",
      "1100\n",
      "1900\n",
      "-90\n",
      "10\n",
      "-189\n"
     ]
    },
    {
     "data": {
      "text/plain": [
       "-186"
      ]
     },
     "execution_count": 12,
     "metadata": {},
     "output_type": "execute_result"
    }
   ],
   "source": [
    "class Solution:\n",
    "    def romanToInt(self, s: str) -> int:\n",
    "        dic = {\n",
    "            'I': 1,\n",
    "            'V': 5,\n",
    "            'X': 10,\n",
    "            'L': 50,\n",
    "            'C': 100,\n",
    "            'D': 500,\n",
    "            'M': 1000,\n",
    "        }\n",
    "        res = dic[s[0]]\n",
    "        print(res)\n",
    "        for i in range(1,len(s)):\n",
    "            \n",
    "            if s[i] > s[i-1]:\n",
    "                res += dic[s[i]]-2*dic[s[i-1]]\n",
    "                print(res)\n",
    "            else:\n",
    "                res += dic[s[i]]\n",
    "                print(res)\n",
    "        return res\n",
    "\n",
    "s = Solution()\n",
    "s.romanToInt(\"MCMXCIV\")\n",
    "    "
   ]
  },
  {
   "cell_type": "code",
   "execution_count": null,
   "metadata": {},
   "outputs": [],
   "source": []
  }
 ],
 "metadata": {
  "kernelspec": {
   "display_name": "Python 3",
   "language": "python",
   "name": "python3"
  },
  "language_info": {
   "codemirror_mode": {
    "name": "ipython",
    "version": 3
   },
   "file_extension": ".py",
   "mimetype": "text/x-python",
   "name": "python",
   "nbconvert_exporter": "python",
   "pygments_lexer": "ipython3",
   "version": "3.6.8"
  }
 },
 "nbformat": 4,
 "nbformat_minor": 2
}
