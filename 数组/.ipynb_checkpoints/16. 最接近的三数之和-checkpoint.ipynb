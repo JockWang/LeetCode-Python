{
 "cells": [
  {
   "cell_type": "code",
   "execution_count": 38,
   "metadata": {},
   "outputs": [
    {
     "name": "stdout",
     "output_type": "stream",
     "text": [
      "[-1, -1, 1, 1, 3]\n",
      "-1 -1 3\n",
      "0 1 4\n",
      "-1 -1 3\n",
      "0 2 4\n",
      "-1 1 3\n",
      "0 2 3\n",
      "-1 1 1\n",
      "0 3 3\n",
      "1 1 3\n",
      "2 3 3\n"
     ]
    },
    {
     "data": {
      "text/plain": [
       "1"
      ]
     },
     "execution_count": 38,
     "metadata": {},
     "output_type": "execute_result"
    }
   ],
   "source": [
    "class Solution:\n",
    "    def threeSumClosest(self, nums: [int], target: int) -> int:\n",
    "        nums.sort()\n",
    "        print(nums)\n",
    "        min_ = 1000\n",
    "        res = 0\n",
    "        for i in range(len(nums)-1):\n",
    "            if i == 0 or nums[i] > nums[i-1]:\n",
    "                left = i+1\n",
    "                right = len(nums)-1\n",
    "                while left < right:\n",
    "                    print(nums[i],nums[left],nums[right])\n",
    "                    temp = nums[i] + nums[left] + nums[right] - target\n",
    "                    if abs(temp) < min_:\n",
    "                        min_ = abs(temp)\n",
    "                        res = temp + target\n",
    "                        if min_ == 0:\n",
    "                            return res\n",
    "                        while left < right and nums[left+1] == nums[left]:\n",
    "                            left += 1\n",
    "                        while left < right and nums[right-1] == nums[right]:\n",
    "                            right -= 1\n",
    "                    elif temp > min_:\n",
    "                        right -= 1\n",
    "                    else:\n",
    "                        left += 1\n",
    "                    print(i, left, right)\n",
    "        return res\n",
    "s = Solution()\n",
    "s.threeSumClosest([1,1,-1,-1,3],-1)"
   ]
  },
  {
   "cell_type": "code",
   "execution_count": null,
   "metadata": {},
   "outputs": [],
   "source": []
  }
 ],
 "metadata": {
  "kernelspec": {
   "display_name": "Python 3",
   "language": "python",
   "name": "python3"
  },
  "language_info": {
   "codemirror_mode": {
    "name": "ipython",
    "version": 3
   },
   "file_extension": ".py",
   "mimetype": "text/x-python",
   "name": "python",
   "nbconvert_exporter": "python",
   "pygments_lexer": "ipython3",
   "version": "3.6.5"
  },
  "toc": {
   "base_numbering": 1,
   "nav_menu": {},
   "number_sections": true,
   "sideBar": true,
   "skip_h1_title": false,
   "title_cell": "Table of Contents",
   "title_sidebar": "Contents",
   "toc_cell": false,
   "toc_position": {},
   "toc_section_display": true,
   "toc_window_display": false
  }
 },
 "nbformat": 4,
 "nbformat_minor": 2
}
