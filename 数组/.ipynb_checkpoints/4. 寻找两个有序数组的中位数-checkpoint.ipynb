{
 "cells": [
  {
   "cell_type": "code",
   "execution_count": 9,
   "metadata": {},
   "outputs": [
    {
     "name": "stdout",
     "output_type": "stream",
     "text": [
      "[1, 3]\n"
     ]
    },
    {
     "data": {
      "text/plain": [
       "2.0"
      ]
     },
     "execution_count": 9,
     "metadata": {},
     "output_type": "execute_result"
    }
   ],
   "source": [
    "class Solution:\n",
    "    def findMedianSortedArrays(self, nums1: [int], nums2: [int]) -> float:\n",
    "        flag = False\n",
    "        limit = 0\n",
    "        if (len(nums1) + len(nums2))%2 == 0:\n",
    "            limit = (len(nums2)+len(nums1))/2\n",
    "            flag = False\n",
    "        else:\n",
    "            limit = (len(nums1)+len(nums2))//2\n",
    "            flag = True\n",
    "        temp = []\n",
    "        i,j = 0, 0\n",
    "        while len(temp) <= limit:\n",
    "            if i < len(nums1) and j < len(nums2):\n",
    "                if nums1[i] < nums2[j]:\n",
    "                    temp.append(nums1[i])\n",
    "                    i += 1\n",
    "                else:\n",
    "                    temp.append(nums2[j])\n",
    "                    j += 1\n",
    "            else:\n",
    "                if i < len(nums1):\n",
    "                    temp.append(nums1[i])\n",
    "                    i += 1\n",
    "                else:\n",
    "                    temp.append(nums2[j])\n",
    "                    j += 1\n",
    "        print(temp)\n",
    "        if flag:\n",
    "            return temp[-1]\n",
    "        else:\n",
    "            return (temp[-2]+temp[-1])/2\n",
    "s = Solution()\n",
    "s.findMedianSortedArrays([1, 3], [])"
   ]
  },
  {
   "cell_type": "code",
   "execution_count": null,
   "metadata": {},
   "outputs": [],
   "source": []
  }
 ],
 "metadata": {
  "kernelspec": {
   "display_name": "Python 3",
   "language": "python",
   "name": "python3"
  },
  "language_info": {
   "codemirror_mode": {
    "name": "ipython",
    "version": 3
   },
   "file_extension": ".py",
   "mimetype": "text/x-python",
   "name": "python",
   "nbconvert_exporter": "python",
   "pygments_lexer": "ipython3",
   "version": "3.6.8"
  }
 },
 "nbformat": 4,
 "nbformat_minor": 2
}
