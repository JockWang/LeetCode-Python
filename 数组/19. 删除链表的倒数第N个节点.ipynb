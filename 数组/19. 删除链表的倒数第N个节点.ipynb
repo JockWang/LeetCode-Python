{
 "cells": [
  {
   "cell_type": "code",
   "execution_count": 6,
   "metadata": {},
   "outputs": [
    {
     "name": "stdout",
     "output_type": "stream",
     "text": [
      "2\n",
      "3\n"
     ]
    }
   ],
   "source": [
    "# Definition for singly-linked list.\n",
    "class ListNode:\n",
    "    def __init__(self, x):\n",
    "        self.val = x\n",
    "        self.next = None\n",
    "# 快慢指针\n",
    "class Solution:\n",
    "    def removeNthFromEnd(self, head: ListNode, n: int) -> ListNode:\n",
    "        low = ListNode(None)\n",
    "        low.next = head\n",
    "        mylist = low\n",
    "        fast = head\n",
    "        count = 1\n",
    "        while fast:\n",
    "            if fast.next != None:\n",
    "                if count < n:\n",
    "                    fast = fast.next\n",
    "                    count += 1\n",
    "                else:\n",
    "                    fast = fast.next\n",
    "                    low = low.next\n",
    "            elif fast.next == None and count == n:\n",
    "                temp = low.next\n",
    "                other = temp.next\n",
    "                low.next = other\n",
    "                break\n",
    "        \n",
    "        return mylist.next\n",
    "    \n",
    "def printList(head):\n",
    "    while head:\n",
    "        print(head.val)\n",
    "        head = head.next\n",
    "\n",
    "a = ListNode(1)\n",
    "b = ListNode(2)\n",
    "c = ListNode(3)\n",
    "a.next = b\n",
    "b.next = c\n",
    "s = Solution()\n",
    "printList(s.removeNthFromEnd(a,3))"
   ]
  },
  {
   "cell_type": "code",
   "execution_count": null,
   "metadata": {},
   "outputs": [],
   "source": []
  }
 ],
 "metadata": {
  "kernelspec": {
   "display_name": "Python 3",
   "language": "python",
   "name": "python3"
  },
  "language_info": {
   "codemirror_mode": {
    "name": "ipython",
    "version": 3
   },
   "file_extension": ".py",
   "mimetype": "text/x-python",
   "name": "python",
   "nbconvert_exporter": "python",
   "pygments_lexer": "ipython3",
   "version": "3.6.5"
  },
  "toc": {
   "base_numbering": 1,
   "nav_menu": {},
   "number_sections": true,
   "sideBar": true,
   "skip_h1_title": false,
   "title_cell": "Table of Contents",
   "title_sidebar": "Contents",
   "toc_cell": false,
   "toc_position": {},
   "toc_section_display": true,
   "toc_window_display": false
  }
 },
 "nbformat": 4,
 "nbformat_minor": 2
}
