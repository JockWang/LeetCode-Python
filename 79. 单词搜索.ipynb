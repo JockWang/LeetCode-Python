{
 "cells": [
  {
   "cell_type": "code",
   "execution_count": 26,
   "metadata": {
    "scrolled": true
   },
   "outputs": [
    {
     "name": "stdout",
     "output_type": "stream",
     "text": [
      "check:0,0\n",
      "BCB\n",
      "get:0,1-B\n",
      "CB\n",
      "get:0,2-C\n",
      "B\n",
      "check:2,0\n",
      "BCB\n"
     ]
    },
    {
     "data": {
      "text/plain": [
       "False"
      ]
     },
     "execution_count": 26,
     "metadata": {},
     "output_type": "execute_result"
    }
   ],
   "source": [
    "class Solution:\n",
    "    height = 0\n",
    "    length = 0\n",
    "    def exist(self, board: [[str]], word: str) -> bool:\n",
    "        if len(word) != 0:\n",
    "            self.height = len(board)\n",
    "            self.length = len(board[0])\n",
    "            for i in range(len(board)):\n",
    "                for j in range(len(board[i])):\n",
    "                    if board[i][j] == word[0]:\n",
    "                        print(\"check:\"+str(i)+\",\"+str(j))\n",
    "                        temp = board[i][j]\n",
    "                        board[i][j] = 0\n",
    "                        if self.check(word[1:],x = i ,y = j ,board = board):\n",
    "                            return True\n",
    "                        board[i][j] = temp\n",
    "        else:\n",
    "            return True\n",
    "        return False\n",
    "\n",
    "    def check(self, word, x, y, board):\n",
    "        print(word)\n",
    "        if len(word) == 0:\n",
    "            return True\n",
    "        else:\n",
    "            # shang\n",
    "            if x > 0 and word[0] == board[x-1][y]:\n",
    "                print(\"get:\"+str(x-1)+\",\"+str(y)+\"-\"+board[x-1][y])\n",
    "                temp = board[x-1][y]\n",
    "                board[x-1][y] = 0\n",
    "                if self.check(word[1:],x=x-1,y=y,board = board):\n",
    "                    return True\n",
    "                board[x-1][y] = temp\n",
    "            # xia\n",
    "            if x < self.height-1 and word[0] == board[x+1][y]:\n",
    "                print(\"get:\"+str(x+1)+\",\"+str(y)+\"-\"+board[x+1][y])\n",
    "                temp = board[x+1][y]\n",
    "                board[x+1][y] = 0\n",
    "                if self.check(word[1:],x=x+1,y=y,board = board):\n",
    "                    return True\n",
    "                board[x+1][y] = temp\n",
    "            # zuo\n",
    "            if y > 0 and word[0] == board[x][y-1]:\n",
    "                print(\"get:\"+str(x)+\",\"+str(y-1)+\"-\"+board[x][y-1])\n",
    "                temp = board[x][y-1]\n",
    "                board[x][y-1] = 0\n",
    "                if self.check(word[1:],x=x,y=y-1,board = board):\n",
    "                    return True\n",
    "                board[x][y-1] = temp\n",
    "            # you\n",
    "            if y < self.length-1 and word[0] == board[x][y+1]:\n",
    "                print(\"get:\"+str(x)+\",\"+str(y+1)+\"-\"+board[x][y+1])\n",
    "                temp = board[x][y+1]\n",
    "                board[x][y+1] = 0\n",
    "                if self.check(word[1:],x=x,y=y+1,board = board):\n",
    "                    return True\n",
    "                board[x][y+1] = temp\n",
    "            return False\n",
    "\n",
    "board =[['A','B','C','E'],['S','F','C','S'],['A','D','E','E']]\n",
    "word = \"ABCB\"\n",
    "s = Solution()\n",
    "s.exist(board,word)"
   ]
  },
  {
   "cell_type": "code",
   "execution_count": null,
   "metadata": {},
   "outputs": [],
   "source": []
  }
 ],
 "metadata": {
  "kernelspec": {
   "display_name": "Python 3",
   "language": "python",
   "name": "python3"
  },
  "language_info": {
   "codemirror_mode": {
    "name": "ipython",
    "version": 3
   },
   "file_extension": ".py",
   "mimetype": "text/x-python",
   "name": "python",
   "nbconvert_exporter": "python",
   "pygments_lexer": "ipython3",
   "version": "3.6.0"
  },
  "toc": {
   "base_numbering": 1,
   "nav_menu": {},
   "number_sections": true,
   "sideBar": true,
   "skip_h1_title": false,
   "title_cell": "Table of Contents",
   "title_sidebar": "Contents",
   "toc_cell": false,
   "toc_position": {},
   "toc_section_display": true,
   "toc_window_display": false
  }
 },
 "nbformat": 4,
 "nbformat_minor": 2
}
