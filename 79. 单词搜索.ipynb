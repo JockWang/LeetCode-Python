{
 "cells": [
  {
   "cell_type": "code",
   "execution_count": 61,
   "metadata": {},
   "outputs": [
    {
     "name": "stdout",
     "output_type": "stream",
     "text": [
      "0   1\n",
      "0   2\n",
      "1   0\n",
      "1   1\n"
     ]
    },
    {
     "data": {
      "text/plain": [
       "True"
      ]
     },
     "execution_count": 61,
     "metadata": {},
     "output_type": "execute_result"
    }
   ],
   "source": [
    "import copy\n",
    "class Solution:\n",
    "    def exist(self, board: [[]], word: str) -> bool:\n",
    "        if len(word) == 0:\n",
    "            return True\n",
    "        if len(board) == 0 or len(board[0]) == 0:\n",
    "            return False\n",
    "        for i in range(len(board)):\n",
    "            if word[0] in board[i]:\n",
    "                for j in range(len(board[i])):\n",
    "                    if word[0] == board[i][j]:\n",
    "#                         print(str(i),' ',str(j))\n",
    "                        b = copy.deepcopy(board)\n",
    "                        b[i][j] = ' '\n",
    "                        if self.isExist(b,word[1:],i,j,-1):\n",
    "                            return True\n",
    "        return False\n",
    "    \n",
    "    def isExist(self,board,word,x,y,d):\n",
    "        if len(word) == 0:\n",
    "            return True\n",
    "        flag = False\n",
    "        if not flag and x != 0 and d != 1 and board[x-1][y] == word[0]:\n",
    "            flag = self.isExist(b,word[1:],x-1,y,d=4)\n",
    "        if not flag and x != len(board)-1 and d != 4 and board[x+1][y] == word[0]:\n",
    "            flag = self.isExist(b,word[1:],x+1,y,d=1)\n",
    "        if not flag and y != len(board[0])-1 and d != 2 and board[x][y+1] == word[0]:\n",
    "            flag = self.isExist(b,word[1:],x,y+1,d=3)\n",
    "        if not flag and y != 0 and d !=3 and board[x][y-1] == word[0]:\n",
    "            flag = self.isExist(b,word[1:],x,y-1,d=2)\n",
    "        if flag:\n",
    "            return True\n",
    "        return False\n",
    "    \n",
    "    \n",
    "s = Solution()\n",
    "s.exist([[\"C\",\"A\",\"A\"],[\"A\",\"A\",\"A\"],[\"B\",\"C\",\"D\"]],\"AAB\")"
   ]
  },
  {
   "cell_type": "code",
   "execution_count": null,
   "metadata": {},
   "outputs": [],
   "source": []
  }
 ],
 "metadata": {
  "kernelspec": {
   "display_name": "Python 3",
   "language": "python",
   "name": "python3"
  },
  "language_info": {
   "codemirror_mode": {
    "name": "ipython",
    "version": 3
   },
   "file_extension": ".py",
   "mimetype": "text/x-python",
   "name": "python",
   "nbconvert_exporter": "python",
   "pygments_lexer": "ipython3",
   "version": "3.6.0"
  }
 },
 "nbformat": 4,
 "nbformat_minor": 2
}
