{
 "cells": [
  {
   "cell_type": "code",
   "execution_count": 47,
   "metadata": {},
   "outputs": [
    {
     "data": {
      "text/plain": [
       "True"
      ]
     },
     "execution_count": 47,
     "metadata": {},
     "output_type": "execute_result"
    }
   ],
   "source": [
    "class Solution:\n",
    "    def exist(self, board: [[str]], word: str) -> bool:\n",
    "        if len(board) == 0 or len(board[0]) == 0:\n",
    "            return False\n",
    "        flag = [[0 for j in range(len(board[0]))] for i in range(len(board))]\n",
    "        row,col = len(board), len(board[0])\n",
    "        if row*col < len(word):\n",
    "            return False\n",
    "        def dfs(x,y,word,flag):\n",
    "            nonlocal board,row,col\n",
    "            if len(word)==0:\n",
    "                return True\n",
    "            else:\n",
    "                if y > 0 and board[x][y-1] == word[0] and flag[x][y-1] == 0:\n",
    "                    flag[x][y-1] = 1\n",
    "                    if dfs(x, y-1, word[1:], flag):\n",
    "                        return True\n",
    "                    flag[x][y-1] = 0\n",
    "                if y < col-1 and board[x][y+1] == word[0] and flag[x][y+1] == 0:\n",
    "                    flag[x][y+1] = 1\n",
    "                    if dfs(x, y+1, word[1:], flag):\n",
    "                        return True\n",
    "                    flag[x][y+1] = 0\n",
    "                if x > 0 and board[x-1][y] == word[0] and flag[x-1][y] == 0:\n",
    "                    flag[x-1][y] = 1\n",
    "                    if dfs(x-1, y, word[1:], flag):\n",
    "                        return True\n",
    "                    flag[x-1][y] = 0\n",
    "                if x < row-1 and board[x+1][y] == word[0] and flag[x+1][y] == 0:\n",
    "                    flag[x+1][y] = 1\n",
    "                    if dfs(x+1, y, word[1:], flag):\n",
    "                        return True\n",
    "                    flag[x+1][y] = 0\n",
    "            return False\n",
    "            \n",
    "        for i in range(row):\n",
    "            for j in range(col):\n",
    "                if board[i][j] == word[0]:\n",
    "                    flag[i][j] = 1\n",
    "                    if dfs(i,j,word[1:],flag):\n",
    "                        return True\n",
    "                    flag[i][j] = 0\n",
    "        return False\n",
    "        \n",
    "s = Solution()\n",
    "s.exist([['A']],'A')"
   ]
  },
  {
   "cell_type": "code",
   "execution_count": null,
   "metadata": {},
   "outputs": [],
   "source": []
  }
 ],
 "metadata": {
  "kernelspec": {
   "display_name": "Python 3",
   "language": "python",
   "name": "python3"
  },
  "language_info": {
   "codemirror_mode": {
    "name": "ipython",
    "version": 3
   },
   "file_extension": ".py",
   "mimetype": "text/x-python",
   "name": "python",
   "nbconvert_exporter": "python",
   "pygments_lexer": "ipython3",
   "version": "3.6.8"
  },
  "toc": {
   "base_numbering": 1,
   "nav_menu": {},
   "number_sections": true,
   "sideBar": true,
   "skip_h1_title": false,
   "title_cell": "Table of Contents",
   "title_sidebar": "Contents",
   "toc_cell": false,
   "toc_position": {},
   "toc_section_display": true,
   "toc_window_display": false
  }
 },
 "nbformat": 4,
 "nbformat_minor": 2
}
