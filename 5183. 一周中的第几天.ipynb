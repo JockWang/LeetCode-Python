{
 "cells": [
  {
   "cell_type": "code",
   "execution_count": 67,
   "metadata": {},
   "outputs": [
    {
     "name": "stdout",
     "output_type": "stream",
     "text": [
      "{6: 'Sunday', 0: 'Monday', 1: 'Tuesday', 2: 'Wednesday', 3: 'Thursday', 4: 'Friday', 5: 'Saturday'}\n",
      "0\n",
      "0\n"
     ]
    },
    {
     "data": {
      "text/plain": [
       "'Monday'"
      ]
     },
     "execution_count": 67,
     "metadata": {},
     "output_type": "execute_result"
    }
   ],
   "source": [
    "class Solution:\n",
    "    def dayOfTheWeek(self, day: int, month: int, year: int) -> str:\n",
    "        today = [\"Sunday\", \"Monday\", \"Tuesday\", \"Wednesday\", \"Thursday\", \"Friday\", \"Saturday\"]\n",
    "        week = {}\n",
    "        theday = self.getday(8,9,2019)\n",
    "        i = theday%7\n",
    "        for t in today:\n",
    "            week[i] = t\n",
    "            i = (i+1)%7\n",
    "        print(week)\n",
    "        year_day = 0\n",
    "        if year > 2019:\n",
    "            for t in range(year-1,2019,-1):\n",
    "                year_day += self.totalday(t)\n",
    "            year_day += self.getday(day,month,year)\n",
    "            year_day += self.totalday(2019)-theday\n",
    "        elif year < 2019:\n",
    "            for t in range(year+1,2019):\n",
    "                year_day += self.totalday(t)\n",
    "            print(year_day)\n",
    "            year_day += self.totalday(year)-self.getday(day,month,year)\n",
    "            print(year_day)\n",
    "            year_day += theday\n",
    "            year_day = -year_day\n",
    "        else:\n",
    "            year_day = self.getday(day,month,year)-theday\n",
    "        return week[(year_day-1)%7]\n",
    "\n",
    "    def getday(self,day,month,year):\n",
    "        dic = {1:31,3:31,5:31,7:31,8:31,10:31,12:31,4:30,6:30,9:30,11:30}\n",
    "        if self.totalday(year) == 366:\n",
    "            dic[2] = 29\n",
    "        else:\n",
    "            dic[2] = 28\n",
    "        total = 0\n",
    "        for i in range(1,month):\n",
    "            total += dic[i]\n",
    "        return total+day\n",
    "            \n",
    "    def totalday(self,year):\n",
    "        if year%100 == 0 and year%400 == 0:\n",
    "            return 366\n",
    "        elif year%100 != 0 and year%4 == 0:\n",
    "            return 366\n",
    "        return 365\n",
    "s = Solution()\n",
    "s.dayOfTheWeek(31,12,2018)"
   ]
  },
  {
   "cell_type": "code",
   "execution_count": null,
   "metadata": {},
   "outputs": [],
   "source": []
  }
 ],
 "metadata": {
  "kernelspec": {
   "display_name": "Python 3",
   "language": "python",
   "name": "python3"
  },
  "language_info": {
   "codemirror_mode": {
    "name": "ipython",
    "version": 3
   },
   "file_extension": ".py",
   "mimetype": "text/x-python",
   "name": "python",
   "nbconvert_exporter": "python",
   "pygments_lexer": "ipython3",
   "version": "3.6.5"
  },
  "toc": {
   "base_numbering": 1,
   "nav_menu": {},
   "number_sections": true,
   "sideBar": true,
   "skip_h1_title": false,
   "title_cell": "Table of Contents",
   "title_sidebar": "Contents",
   "toc_cell": false,
   "toc_position": {},
   "toc_section_display": true,
   "toc_window_display": false
  }
 },
 "nbformat": 4,
 "nbformat_minor": 2
}
