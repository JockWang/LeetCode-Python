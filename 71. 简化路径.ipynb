{
 "cells": [
  {
   "cell_type": "code",
   "execution_count": 32,
   "metadata": {},
   "outputs": [
    {
     "data": {
      "text/plain": [
       "'/home/foo'"
      ]
     },
     "execution_count": 32,
     "metadata": {},
     "output_type": "execute_result"
    }
   ],
   "source": [
    "class Solution:\n",
    "    def simplifyPath(self, path: str) -> str:\n",
    "        result = '/'\n",
    "        res = []\n",
    "        if len(path) != 0:\n",
    "            mu = path.split('/')\n",
    "            for m in mu:\n",
    "                if len(m) != 0:\n",
    "                    if m == '..' and len(res) != 0:\n",
    "                        res.pop()\n",
    "                    elif m != '.' and m != '..':\n",
    "                        res.append(m)\n",
    "            for r in res:\n",
    "                result += (r+'/')\n",
    "            if len(result) != 1:\n",
    "                result = result[:-1]\n",
    "        return result\n",
    "s = Solution()\n",
    "s.simplifyPath(\"/home//foo/\")\n",
    "        \n",
    "        "
   ]
  },
  {
   "cell_type": "code",
   "execution_count": null,
   "metadata": {},
   "outputs": [],
   "source": []
  }
 ],
 "metadata": {
  "kernelspec": {
   "display_name": "Python 3",
   "language": "python",
   "name": "python3"
  },
  "language_info": {
   "codemirror_mode": {
    "name": "ipython",
    "version": 3
   },
   "file_extension": ".py",
   "mimetype": "text/x-python",
   "name": "python",
   "nbconvert_exporter": "python",
   "pygments_lexer": "ipython3",
   "version": "3.6.0"
  },
  "toc": {
   "base_numbering": 1,
   "nav_menu": {},
   "number_sections": true,
   "sideBar": true,
   "skip_h1_title": false,
   "title_cell": "Table of Contents",
   "title_sidebar": "Contents",
   "toc_cell": false,
   "toc_position": {},
   "toc_section_display": true,
   "toc_window_display": false
  }
 },
 "nbformat": 4,
 "nbformat_minor": 2
}
