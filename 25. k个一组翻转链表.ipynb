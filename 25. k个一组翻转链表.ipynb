{
 "cells": [
  {
   "cell_type": "code",
   "execution_count": null,
   "metadata": {},
   "outputs": [],
   "source": [
    "class ListNode:\n",
    "    def __init__(self, x):\n",
    "        self.val = x\n",
    "        self.next = None\n",
    "\n",
    "class Solution:\n",
    "    def reverseKGroup(self, head: ListNode, k: int) -> ListNode:\n",
    "        one = ListNode(None)\n",
    "        one.next = head\n",
    "        head = one\n",
    "        point = head\n",
    "        start = head\n",
    "        end = head\n",
    "        flag = 0\n",
    "        while end != None:\n",
    "            if flag != k and end.next != None:\n",
    "                end = end.next\n",
    "                flag += 1\n",
    "            elif flag == k and end.next != None:\n",
    "                temp = end.next\n",
    "                left = start.next\n",
    "                right = end\n",
    "                while left != right:\n",
    "                    left.next = right.next\n",
    "                right.next = temp\n",
    "                flag = 0\n",
    "            else:\n",
    "                break\n",
    "            "
   ]
  }
 ],
 "metadata": {
  "kernelspec": {
   "display_name": "Python 3",
   "language": "python",
   "name": "python3"
  },
  "language_info": {
   "codemirror_mode": {
    "name": "ipython",
    "version": 3
   },
   "file_extension": ".py",
   "mimetype": "text/x-python",
   "name": "python",
   "nbconvert_exporter": "python",
   "pygments_lexer": "ipython3",
   "version": "3.6.0"
  },
  "toc": {
   "base_numbering": 1,
   "nav_menu": {},
   "number_sections": true,
   "sideBar": true,
   "skip_h1_title": false,
   "title_cell": "Table of Contents",
   "title_sidebar": "Contents",
   "toc_cell": false,
   "toc_position": {},
   "toc_section_display": true,
   "toc_window_display": false
  }
 },
 "nbformat": 4,
 "nbformat_minor": 2
}
