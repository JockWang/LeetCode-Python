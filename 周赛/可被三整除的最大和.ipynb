{
 "cells": [
  {
   "cell_type": "code",
   "execution_count": 37,
   "metadata": {},
   "outputs": [
    {
     "name": "stdout",
     "output_type": "stream",
     "text": [
      "[4]\n",
      "[1]\n",
      "4\n",
      "1\n",
      "0\n",
      "0\n",
      "4\n",
      "0 0\n"
     ]
    },
    {
     "ename": "ValueError",
     "evalue": "2 is not in list",
     "output_type": "error",
     "traceback": [
      "\u001b[1;31m---------------------------------------------------------------------------\u001b[0m",
      "\u001b[1;31mValueError\u001b[0m                                Traceback (most recent call last)",
      "\u001b[1;32m<ipython-input-37-234c1a6ef128>\u001b[0m in \u001b[0;36m<module>\u001b[1;34m\u001b[0m\n\u001b[0;32m     44\u001b[0m         \u001b[1;32mreturn\u001b[0m \u001b[0mtotal\u001b[0m\u001b[1;33m\u001b[0m\u001b[1;33m\u001b[0m\u001b[0m\n\u001b[0;32m     45\u001b[0m \u001b[0ms\u001b[0m \u001b[1;33m=\u001b[0m \u001b[0mSolution\u001b[0m\u001b[1;33m(\u001b[0m\u001b[1;33m)\u001b[0m\u001b[1;33m\u001b[0m\u001b[1;33m\u001b[0m\u001b[0m\n\u001b[1;32m---> 46\u001b[1;33m \u001b[0ms\u001b[0m\u001b[1;33m.\u001b[0m\u001b[0mmaxSumDivThree\u001b[0m\u001b[1;33m(\u001b[0m\u001b[1;33m[\u001b[0m\u001b[1;36m4\u001b[0m\u001b[1;33m]\u001b[0m\u001b[1;33m)\u001b[0m\u001b[1;33m\u001b[0m\u001b[1;33m\u001b[0m\u001b[0m\n\u001b[0m",
      "\u001b[1;32m<ipython-input-37-234c1a6ef128>\u001b[0m in \u001b[0;36mmaxSumDivThree\u001b[1;34m(self, nums)\u001b[0m\n\u001b[0;32m     35\u001b[0m             \u001b[0mc\u001b[0m \u001b[1;33m=\u001b[0m \u001b[1;36m0\u001b[0m\u001b[1;33m\u001b[0m\u001b[1;33m\u001b[0m\u001b[0m\n\u001b[0;32m     36\u001b[0m             \u001b[0md\u001b[0m \u001b[1;33m=\u001b[0m \u001b[1;36m0\u001b[0m\u001b[1;33m\u001b[0m\u001b[1;33m\u001b[0m\u001b[0m\n\u001b[1;32m---> 37\u001b[1;33m             \u001b[0mc\u001b[0m \u001b[1;33m=\u001b[0m \u001b[0mtotal\u001b[0m \u001b[1;33m+\u001b[0m \u001b[0mtotal_mod\u001b[0m\u001b[1;33m-\u001b[0m\u001b[0mttemp\u001b[0m\u001b[1;33m[\u001b[0m\u001b[0mtemp_mod\u001b[0m\u001b[1;33m.\u001b[0m\u001b[0mindex\u001b[0m\u001b[1;33m(\u001b[0m\u001b[1;36m2\u001b[0m\u001b[1;33m)\u001b[0m\u001b[1;33m]\u001b[0m\u001b[1;33m\u001b[0m\u001b[1;33m\u001b[0m\u001b[0m\n\u001b[0m\u001b[0;32m     38\u001b[0m             \u001b[1;32mif\u001b[0m \u001b[0mtemp_mod\u001b[0m\u001b[1;33m.\u001b[0m\u001b[0mcount\u001b[0m\u001b[1;33m(\u001b[0m\u001b[1;36m1\u001b[0m\u001b[1;33m)\u001b[0m\u001b[1;33m>\u001b[0m\u001b[1;36m1\u001b[0m\u001b[1;33m:\u001b[0m\u001b[1;33m\u001b[0m\u001b[1;33m\u001b[0m\u001b[0m\n\u001b[0;32m     39\u001b[0m                 \u001b[0md\u001b[0m \u001b[1;33m=\u001b[0m \u001b[0mtotal\u001b[0m \u001b[1;33m+\u001b[0m \u001b[0mtotal_mod\u001b[0m\u001b[1;33m-\u001b[0m\u001b[0mttemp\u001b[0m\u001b[1;33m.\u001b[0m\u001b[0mpop\u001b[0m\u001b[1;33m(\u001b[0m\u001b[0mtemp_mod\u001b[0m\u001b[1;33m.\u001b[0m\u001b[0mindex\u001b[0m\u001b[1;33m(\u001b[0m\u001b[1;36m1\u001b[0m\u001b[1;33m)\u001b[0m\u001b[1;33m)\u001b[0m\u001b[1;33m-\u001b[0m\u001b[0mttemp\u001b[0m\u001b[1;33m.\u001b[0m\u001b[0mpop\u001b[0m\u001b[1;33m(\u001b[0m\u001b[0mtemp_mod\u001b[0m\u001b[1;33m.\u001b[0m\u001b[0mindex\u001b[0m\u001b[1;33m(\u001b[0m\u001b[1;36m1\u001b[0m\u001b[1;33m)\u001b[0m\u001b[1;33m)\u001b[0m\u001b[1;33m\u001b[0m\u001b[1;33m\u001b[0m\u001b[0m\n",
      "\u001b[1;31mValueError\u001b[0m: 2 is not in list"
     ]
    }
   ],
   "source": [
    "class Solution:\n",
    "    def maxSumDivThree(self, nums: [int]) -> int:\n",
    "        temp = []\n",
    "        total = 0\n",
    "        for n in nums:\n",
    "            if n%3 != 0:\n",
    "                temp.append(n)\n",
    "            else:\n",
    "                total += n\n",
    "        temp.sort()\n",
    "        temp_mod = []\n",
    "        total_mod = 0\n",
    "        for t in temp:\n",
    "            mod = t%3\n",
    "            temp_mod.append(mod)\n",
    "            total_mod += t\n",
    "        print(temp)\n",
    "        print(temp_mod)\n",
    "        print(total_mod)\n",
    "        one = temp_mod.count(1)%3\n",
    "        two = temp_mod.count(2)%3\n",
    "        print(one)\n",
    "        print(two)\n",
    "        print(total)\n",
    "        print(total_mod)\n",
    "        if one - two != 0:\n",
    "            ttemp = temp.copy()\n",
    "            a = 0\n",
    "            b = 0\n",
    "            a = total + total_mod-temp[temp_mod.index(1)]\n",
    "            if temp_mod.count(2)>1:\n",
    "                b = total + total_mod-ttemp.pop(temp_mod.index(2))-ttemp.pop(temp_mod.index(2))\n",
    "            print(a,b)\n",
    "            ttemp = temp.copy()\n",
    "            c = 0\n",
    "            d = 0\n",
    "            c = total + total_mod-ttemp[temp_mod.index(2)]\n",
    "            if temp_mod.count(1)>1:\n",
    "                d = total + total_mod-ttemp.pop(temp_mod.index(1))-ttemp.pop(temp_mod.index(1))\n",
    "            print(c,d)\n",
    "            total = max(a,b,c,d)\n",
    "        else:\n",
    "            total += total_mod\n",
    "        return total\n",
    "s = Solution()\n",
    "s.maxSumDivThree([4])"
   ]
  },
  {
   "cell_type": "code",
   "execution_count": null,
   "metadata": {},
   "outputs": [],
   "source": []
  }
 ],
 "metadata": {
  "kernelspec": {
   "display_name": "Python 3",
   "language": "python",
   "name": "python3"
  },
  "language_info": {
   "codemirror_mode": {
    "name": "ipython",
    "version": 3
   },
   "file_extension": ".py",
   "mimetype": "text/x-python",
   "name": "python",
   "nbconvert_exporter": "python",
   "pygments_lexer": "ipython3",
   "version": "3.6.8"
  }
 },
 "nbformat": 4,
 "nbformat_minor": 2
}
