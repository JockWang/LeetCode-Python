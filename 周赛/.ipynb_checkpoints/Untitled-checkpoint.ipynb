{
 "cells": [
  {
   "cell_type": "code",
   "execution_count": 13,
   "metadata": {},
   "outputs": [
    {
     "data": {
      "text/plain": [
       "[[9, 1, 2], [3, 4, 5], [6, 7, 8]]"
      ]
     },
     "execution_count": 13,
     "metadata": {},
     "output_type": "execute_result"
    }
   ],
   "source": [
    "class Solution:\n",
    "    def shiftGrid(self, grid: [[int]], k: int) -> [[int]]:\n",
    "        for i in range(k):\n",
    "            temp = [[0 for t in range(len(grid[0]))] for n in range(len(grid))] \n",
    "            for j in range(len(temp)):\n",
    "                for m in range(0,len(temp[j])):\n",
    "                    if m != 0:\n",
    "                        temp[j][m] = grid[j][m-1]\n",
    "                    elif m == 0 and j != 0:\n",
    "                        temp[j][0] = grid[j-1][-1]\n",
    "                    else:\n",
    "                        temp[j][m] = grid[-1][-1]\n",
    "            grid = temp\n",
    "        return grid\n",
    "\n",
    "s = Solution()\n",
    "s.shiftGrid([[1,2,3],[4,5,6],[7,8,9]],1)"
   ]
  },
  {
   "cell_type": "code",
   "execution_count": null,
   "metadata": {},
   "outputs": [],
   "source": []
  }
 ],
 "metadata": {
  "kernelspec": {
   "display_name": "Python 3",
   "language": "python",
   "name": "python3"
  },
  "language_info": {
   "codemirror_mode": {
    "name": "ipython",
    "version": 3
   },
   "file_extension": ".py",
   "mimetype": "text/x-python",
   "name": "python",
   "nbconvert_exporter": "python",
   "pygments_lexer": "ipython3",
   "version": "3.6.8"
  }
 },
 "nbformat": 4,
 "nbformat_minor": 2
}
