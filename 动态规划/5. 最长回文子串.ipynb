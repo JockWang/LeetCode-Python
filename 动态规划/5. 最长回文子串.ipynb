{
 "cells": [
  {
   "cell_type": "code",
   "execution_count": 13,
   "metadata": {},
   "outputs": [
    {
     "data": {
      "text/plain": [
       "'aaabaaa'"
      ]
     },
     "execution_count": 13,
     "metadata": {},
     "output_type": "execute_result"
    }
   ],
   "source": [
    "class Solution:\n",
    "    def longestPalindrome(self, s: str) -> str:\n",
    "        if len(s) <= 1:\n",
    "            return s\n",
    "        dp = [[False for i in range(len(s))] for j in range(len(s))]\n",
    "        max_ = 1\n",
    "        temp = s[0]\n",
    "        for i in range(len(s)):\n",
    "            for j in range(i):\n",
    "                if s[j] == s[i] and (i-j <= 2 or dp[j+1][i-1]):\n",
    "                    dp[j][i] = True\n",
    "                    if i-j+1 > max_:\n",
    "                        max_ = i-j+1\n",
    "                        temp = s[j:i+1]\n",
    "        return temp\n",
    "s = Solution()\n",
    "s.longestPalindrome('aaabaaaa')"
   ]
  },
  {
   "cell_type": "code",
   "execution_count": null,
   "metadata": {},
   "outputs": [],
   "source": []
  }
 ],
 "metadata": {
  "kernelspec": {
   "display_name": "Python 3",
   "language": "python",
   "name": "python3"
  },
  "language_info": {
   "codemirror_mode": {
    "name": "ipython",
    "version": 3
   },
   "file_extension": ".py",
   "mimetype": "text/x-python",
   "name": "python",
   "nbconvert_exporter": "python",
   "pygments_lexer": "ipython3",
   "version": "3.6.8"
  }
 },
 "nbformat": 4,
 "nbformat_minor": 2
}
