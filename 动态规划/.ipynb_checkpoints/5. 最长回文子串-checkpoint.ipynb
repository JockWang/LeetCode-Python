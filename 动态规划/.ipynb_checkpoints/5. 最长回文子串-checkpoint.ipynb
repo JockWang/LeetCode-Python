{
 "cells": [
  {
   "cell_type": "code",
   "execution_count": 42,
   "metadata": {},
   "outputs": [
    {
     "data": {
      "text/plain": [
       "'abaaaa'"
      ]
     },
     "execution_count": 42,
     "metadata": {},
     "output_type": "execute_result"
    }
   ],
   "source": [
    "class Solution:\n",
    "    def longestPalindrome(self, s: str) -> str:\n",
    "        if len(s) <= 1:\n",
    "            return s\n",
    "        dp = [[False for i in range(len(s))] for j in range(len(s))]\n",
    "        for i in range(len(s)):\n",
    "            for j in range(j,len(s)):\n",
    "                if s[i] == s[j] and (j-i<=2 or dp[i+1][j-1]):\n",
    "                    dp[i][j] = True\n",
    "                    \n",
    "s = Solution()\n",
    "s.longestPalindrome('aaabaaaa')"
   ]
  },
  {
   "cell_type": "code",
   "execution_count": null,
   "metadata": {},
   "outputs": [],
   "source": []
  }
 ],
 "metadata": {
  "kernelspec": {
   "display_name": "Python 3",
   "language": "python",
   "name": "python3"
  },
  "language_info": {
   "codemirror_mode": {
    "name": "ipython",
    "version": 3
   },
   "file_extension": ".py",
   "mimetype": "text/x-python",
   "name": "python",
   "nbconvert_exporter": "python",
   "pygments_lexer": "ipython3",
   "version": "3.6.8"
  }
 },
 "nbformat": 4,
 "nbformat_minor": 2
}
