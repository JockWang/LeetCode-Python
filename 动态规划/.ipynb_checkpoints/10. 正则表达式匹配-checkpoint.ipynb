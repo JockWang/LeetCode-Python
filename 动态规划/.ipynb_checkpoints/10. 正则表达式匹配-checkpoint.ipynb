{
 "cells": [
  {
   "cell_type": "code",
   "execution_count": 34,
   "metadata": {},
   "outputs": [
    {
     "name": "stdout",
     "output_type": "stream",
     "text": [
      "[1, 1]\n"
     ]
    },
    {
     "data": {
      "text/plain": [
       "True"
      ]
     },
     "execution_count": 34,
     "metadata": {},
     "output_type": "execute_result"
    }
   ],
   "source": [
    "class Solution:\n",
    "    def isMatch(self, s: str, p: str) -> bool:\n",
    "        # split by *\n",
    "        if len(p) == 0 and len(s) != 0:\n",
    "            return False\n",
    "        if len(p) == 0 and len(s) == 0:\n",
    "            return True\n",
    "        np = []\n",
    "        for st in p:\n",
    "            if st != '*':\n",
    "                np.append(st)\n",
    "            else:\n",
    "                np[-1] = np[-1]+'*'\n",
    "        if len(s) == 0:\n",
    "            for n in np:\n",
    "                if '*' not in n:\n",
    "                    return False\n",
    "            return True\n",
    "\n",
    "        dp = [[0 for i in range(len(s))] for j in range(len(np))]\n",
    "        for i in range(len(np)):\n",
    "            for j in range(len(s)):\n",
    "                if '*' not in np[i]:\n",
    "                    if s[j] == np[i] and (i == 0 and j == 0):\n",
    "                        dp[i][j] = 1\n",
    "                        break\n",
    "                    elif '.' == np[i] and (i == 0 and j == 0):\n",
    "                        dp[i][j] = 1\n",
    "                        break\n",
    "                    elif ('.' == np[i] or s[j] == np[i]) and i > 0 and j > 0 and dp[i-1][j-1] == 1:\n",
    "                        dp[i][j] = 1\n",
    "                else:\n",
    "                    if (np[i][0] == s[j] or np[i][0] == '.') and ((i == 0 and j == 0) or dp[i-1][j-1] == 1 or dp[i][j-1] == 1):\n",
    "                        dp[i][j] = 1\n",
    "                    elif np[i][0] != s[j] and i == 0 and j == 0:\n",
    "                        dp[i][j] = 1\n",
    "                        break\n",
    "                    elif np[i][0] != s[j] and i > 0 and j > 0 and dp[i-1][j-1] == 1:\n",
    "                        dp[i][j-1] = 1\n",
    "                        break\n",
    "        for d in dp:\n",
    "            print(d)\n",
    "        if dp[-1][-1] == 1:\n",
    "            return True\n",
    "        else:\n",
    "            return False\n",
    "s = Solution()\n",
    "s.isMatch(\"aab\",\"c*ab*ab\")"
   ]
  },
  {
   "cell_type": "code",
   "execution_count": null,
   "metadata": {},
   "outputs": [],
   "source": []
  }
 ],
 "metadata": {
  "kernelspec": {
   "display_name": "Python 3",
   "language": "python",
   "name": "python3"
  },
  "language_info": {
   "codemirror_mode": {
    "name": "ipython",
    "version": 3
   },
   "file_extension": ".py",
   "mimetype": "text/x-python",
   "name": "python",
   "nbconvert_exporter": "python",
   "pygments_lexer": "ipython3",
   "version": "3.6.8"
  }
 },
 "nbformat": 4,
 "nbformat_minor": 2
}
