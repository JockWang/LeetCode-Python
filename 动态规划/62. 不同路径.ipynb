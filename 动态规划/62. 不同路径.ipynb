{
 "cells": [
  {
   "cell_type": "code",
   "execution_count": 18,
   "metadata": {},
   "outputs": [
    {
     "data": {
      "text/plain": [
       "1"
      ]
     },
     "execution_count": 18,
     "metadata": {},
     "output_type": "execute_result"
    }
   ],
   "source": [
    "class Solution:\n",
    "    def uniquePaths(self, m: int, n: int) -> int:\n",
    "        if m <=0 or n <= 0:\n",
    "            return 0\n",
    "        dp = [[0 for i in range(n)] for j in range(m)]\n",
    "        dp[0][0] = 1\n",
    "        for i in range(m):\n",
    "            for j in range(n):\n",
    "                if i == 0 and j != 0:\n",
    "                    dp[i][j] = dp[i][j-1]\n",
    "                elif i != 0 and j == 0:\n",
    "                    dp[i][j] = dp[i-1][j]\n",
    "                elif i != 0 and j != 0:\n",
    "                    dp[i][j] = dp[i-1][j]+dp[i][j-1]\n",
    "        return dp[-1][-1]\n",
    "\n",
    "s = Solution()\n",
    "s.uniquePaths(1,1)"
   ]
  },
  {
   "cell_type": "code",
   "execution_count": null,
   "metadata": {},
   "outputs": [],
   "source": []
  }
 ],
 "metadata": {
  "kernelspec": {
   "display_name": "Python 3",
   "language": "python",
   "name": "python3"
  },
  "language_info": {
   "codemirror_mode": {
    "name": "ipython",
    "version": 3
   },
   "file_extension": ".py",
   "mimetype": "text/x-python",
   "name": "python",
   "nbconvert_exporter": "python",
   "pygments_lexer": "ipython3",
   "version": "3.6.8"
  }
 },
 "nbformat": 4,
 "nbformat_minor": 2
}
