{
 "cells": [
  {
   "cell_type": "code",
   "execution_count": 8,
   "metadata": {},
   "outputs": [
    {
     "data": {
      "text/plain": [
       "0"
      ]
     },
     "execution_count": 8,
     "metadata": {},
     "output_type": "execute_result"
    }
   ],
   "source": [
    "class Solution:\n",
    "    def minPathSum(self, grid: [[int]]) -> int:\n",
    "        if len(grid) <= 0 or len(grid[0]) <= 0:\n",
    "            return 0\n",
    "        for i in range(len(grid)):\n",
    "            for j in range(len(grid[i])):\n",
    "                if i == 0 and j != 0:\n",
    "                    grid[i][j] += grid[i][j-1]\n",
    "                elif j == 0 and i != 0:\n",
    "                    grid[i][j] += grid[i-1][j]\n",
    "                elif i != 0 and j != 0:\n",
    "                    grid[i][j] += min([grid[i][j-1],grid[i-1][j]])\n",
    "        return grid[-1][-1]\n",
    "s = Solution()\n",
    "s.minPathSum([[]])"
   ]
  },
  {
   "cell_type": "code",
   "execution_count": null,
   "metadata": {},
   "outputs": [],
   "source": []
  }
 ],
 "metadata": {
  "kernelspec": {
   "display_name": "Python 3",
   "language": "python",
   "name": "python3"
  },
  "language_info": {
   "codemirror_mode": {
    "name": "ipython",
    "version": 3
   },
   "file_extension": ".py",
   "mimetype": "text/x-python",
   "name": "python",
   "nbconvert_exporter": "python",
   "pygments_lexer": "ipython3",
   "version": "3.6.8"
  }
 },
 "nbformat": 4,
 "nbformat_minor": 2
}
