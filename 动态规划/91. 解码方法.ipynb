{
 "cells": [
  {
   "cell_type": "code",
   "execution_count": 40,
   "metadata": {},
   "outputs": [
    {
     "data": {
      "text/plain": [
       "1"
      ]
     },
     "execution_count": 40,
     "metadata": {},
     "output_type": "execute_result"
    }
   ],
   "source": [
    "class Solution:\n",
    "    def numDecodings(self, s: str) -> int:\n",
    "        n=len(s)\n",
    "        if(not s or s[0]==\"0\"):\n",
    "            return 0\n",
    "        dp=[0]*(n+1)\n",
    "        dp[0]=1\n",
    "        dp[1]=1\n",
    "        for i in range(1,n):\n",
    "            if(s[i]==\"0\"):\n",
    "                if(s[i-1]==\"1\" or s[i-1]==\"2\"):\n",
    "                    dp[i+1]=dp[i-1]\n",
    "                else:\n",
    "                    return 0\n",
    "            else:\n",
    "                if(s[i-1]==\"1\" or (s[i-1]==\"2\" and \"1\"<=s[i]<=\"6\")):\n",
    "                    dp[i+1]=dp[i]+dp[i-1]\n",
    "                else:\n",
    "                    dp[i+1]=dp[i]\n",
    "        return dp[-1]"
   ]
  },
  {
   "cell_type": "code",
   "execution_count": null,
   "metadata": {},
   "outputs": [],
   "source": []
  }
 ],
 "metadata": {
  "kernelspec": {
   "display_name": "Python 3",
   "language": "python",
   "name": "python3"
  },
  "language_info": {
   "codemirror_mode": {
    "name": "ipython",
    "version": 3
   },
   "file_extension": ".py",
   "mimetype": "text/x-python",
   "name": "python",
   "nbconvert_exporter": "python",
   "pygments_lexer": "ipython3",
   "version": "3.6.8"
  }
 },
 "nbformat": 4,
 "nbformat_minor": 2
}
